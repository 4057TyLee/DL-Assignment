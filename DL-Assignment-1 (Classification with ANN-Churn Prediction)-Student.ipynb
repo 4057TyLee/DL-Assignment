{
 "cells": [
  {
   "cell_type": "markdown",
   "metadata": {},
   "source": [
    "___\n",
    "\n",
    "<p style=\"text-align: center;\"><img src=\"https://docs.google.com/uc?id=1lY0Uj5R04yMY3-ZppPWxqCr5pvBLYPnV\" class=\"img-fluid\" alt=\"CLRSWY\"></p>\n",
    "\n",
    "___"
   ]
  },
  {
   "cell_type": "markdown",
   "metadata": {},
   "source": [
    "<h1 style=\"text-align: center;\">Deep Learning<br><br>Assignment-1 (ANN)<br><br>Churn Prediction for Bank Customer<br><h1>"
   ]
  },
  {
   "cell_type": "markdown",
   "metadata": {},
   "source": [
    "# Dataset Info"
   ]
  },
  {
   "cell_type": "markdown",
   "metadata": {},
   "source": [
    "We have a dataset in which there are details of a bank's customers and the target variable is a binary variable reflecting the fact whether the customer left the bank (closed his account) or he continues to be a customer.\n",
    "\n",
    "The features in the given dataset are:\n",
    "- **rownumber:** Row Numbers from 1 to 10000.\n",
    "- **customerid:** A unique ID that identifies each customer.\n",
    "- **surname:** The customer’s surname.\n",
    "- **creditscore:** A credit score is a number between 300–850 that depicts a consumer's creditworthiness.\n",
    "- **geography:** The country from which the customer belongs to.\n",
    "- **Gender:** The customer’s gender: Male, Female\n",
    "- **Age:** The customer’s current age, in years, at the time of being customer.\n",
    "- **tenure:** The number of years for which the customer has been with the bank.\n",
    "- **balance:** Bank balance of the customer.\n",
    "- **numofproducts:** the number of bank products the customer is utilising.\n",
    "- **hascrcard:** The number of credit cards given to the customer by the bank.\n",
    "- **isactivemember:** Binary Flag for indicating if the client is active or not with the bank before the moment where the client exits the company (recorded in the variable \"exited\")\n",
    "- **exited:** Binary flag 1 if the customer closed account with bank and 0 if the customer is retained."
   ]
  },
  {
   "cell_type": "markdown",
   "metadata": {},
   "source": [
    "# Improt Libraries & Data"
   ]
  },
  {
   "cell_type": "code",
   "execution_count": 1,
   "metadata": {},
   "outputs": [],
   "source": [
    "import numpy as np\n",
    "import pandas as pd\n",
    "import matplotlib.pyplot as plt\n",
    "import seaborn as sns\n",
    "\n",
    "import warnings\n",
    "warnings.filterwarnings(\"ignore\")\n",
    "warnings.warn(\"this will not show\")\n",
    "\n",
    "plt.rcParams[\"figure.figsize\"] = (10,6)\n",
    "\n",
    "sns.set_style(\"whitegrid\")\n",
    "pd.set_option('display.float_format', lambda x: '%.3f' % x)\n",
    "\n",
    "# Set it None to display all rows in the dataframe\n",
    "# pd.set_option('display.max_rows', None)\n",
    "\n",
    "# Set it to None to display all columns in the dataframe\n",
    "pd.set_option('display.max_columns', None)"
   ]
  },
  {
   "cell_type": "code",
   "execution_count": 2,
   "metadata": {
    "tags": []
   },
   "outputs": [
    {
     "data": {
      "text/plain": [
       "'2.9.1'"
      ]
     },
     "execution_count": 2,
     "metadata": {},
     "output_type": "execute_result"
    }
   ],
   "source": [
    "import tensorflow as tf\n",
    "\n",
    "tf.__version__"
   ]
  },
  {
   "cell_type": "code",
   "execution_count": 3,
   "metadata": {},
   "outputs": [],
   "source": [
    "df0 = pd.read_csv(\"Churn_Modelling.csv\")\n",
    "df = df0.copy()"
   ]
  },
  {
   "cell_type": "code",
   "execution_count": 4,
   "metadata": {},
   "outputs": [
    {
     "data": {
      "text/html": [
       "<div>\n",
       "<style scoped>\n",
       "    .dataframe tbody tr th:only-of-type {\n",
       "        vertical-align: middle;\n",
       "    }\n",
       "\n",
       "    .dataframe tbody tr th {\n",
       "        vertical-align: top;\n",
       "    }\n",
       "\n",
       "    .dataframe thead th {\n",
       "        text-align: right;\n",
       "    }\n",
       "</style>\n",
       "<table border=\"1\" class=\"dataframe\">\n",
       "  <thead>\n",
       "    <tr style=\"text-align: right;\">\n",
       "      <th></th>\n",
       "      <th>RowNumber</th>\n",
       "      <th>CustomerId</th>\n",
       "      <th>Surname</th>\n",
       "      <th>CreditScore</th>\n",
       "      <th>Geography</th>\n",
       "      <th>Gender</th>\n",
       "      <th>Age</th>\n",
       "      <th>Tenure</th>\n",
       "      <th>Balance</th>\n",
       "      <th>NumOfProducts</th>\n",
       "      <th>HasCrCard</th>\n",
       "      <th>IsActiveMember</th>\n",
       "      <th>EstimatedSalary</th>\n",
       "      <th>Exited</th>\n",
       "    </tr>\n",
       "  </thead>\n",
       "  <tbody>\n",
       "    <tr>\n",
       "      <th>0</th>\n",
       "      <td>1</td>\n",
       "      <td>15634602</td>\n",
       "      <td>Hargrave</td>\n",
       "      <td>619</td>\n",
       "      <td>France</td>\n",
       "      <td>Female</td>\n",
       "      <td>42</td>\n",
       "      <td>2</td>\n",
       "      <td>0.000</td>\n",
       "      <td>1</td>\n",
       "      <td>1</td>\n",
       "      <td>1</td>\n",
       "      <td>101348.880</td>\n",
       "      <td>1</td>\n",
       "    </tr>\n",
       "    <tr>\n",
       "      <th>1</th>\n",
       "      <td>2</td>\n",
       "      <td>15647311</td>\n",
       "      <td>Hill</td>\n",
       "      <td>608</td>\n",
       "      <td>Spain</td>\n",
       "      <td>Female</td>\n",
       "      <td>41</td>\n",
       "      <td>1</td>\n",
       "      <td>83807.860</td>\n",
       "      <td>1</td>\n",
       "      <td>0</td>\n",
       "      <td>1</td>\n",
       "      <td>112542.580</td>\n",
       "      <td>0</td>\n",
       "    </tr>\n",
       "    <tr>\n",
       "      <th>2</th>\n",
       "      <td>3</td>\n",
       "      <td>15619304</td>\n",
       "      <td>Onio</td>\n",
       "      <td>502</td>\n",
       "      <td>France</td>\n",
       "      <td>Female</td>\n",
       "      <td>42</td>\n",
       "      <td>8</td>\n",
       "      <td>159660.800</td>\n",
       "      <td>3</td>\n",
       "      <td>1</td>\n",
       "      <td>0</td>\n",
       "      <td>113931.570</td>\n",
       "      <td>1</td>\n",
       "    </tr>\n",
       "    <tr>\n",
       "      <th>3</th>\n",
       "      <td>4</td>\n",
       "      <td>15701354</td>\n",
       "      <td>Boni</td>\n",
       "      <td>699</td>\n",
       "      <td>France</td>\n",
       "      <td>Female</td>\n",
       "      <td>39</td>\n",
       "      <td>1</td>\n",
       "      <td>0.000</td>\n",
       "      <td>2</td>\n",
       "      <td>0</td>\n",
       "      <td>0</td>\n",
       "      <td>93826.630</td>\n",
       "      <td>0</td>\n",
       "    </tr>\n",
       "    <tr>\n",
       "      <th>4</th>\n",
       "      <td>5</td>\n",
       "      <td>15737888</td>\n",
       "      <td>Mitchell</td>\n",
       "      <td>850</td>\n",
       "      <td>Spain</td>\n",
       "      <td>Female</td>\n",
       "      <td>43</td>\n",
       "      <td>2</td>\n",
       "      <td>125510.820</td>\n",
       "      <td>1</td>\n",
       "      <td>1</td>\n",
       "      <td>1</td>\n",
       "      <td>79084.100</td>\n",
       "      <td>0</td>\n",
       "    </tr>\n",
       "  </tbody>\n",
       "</table>\n",
       "</div>"
      ],
      "text/plain": [
       "   RowNumber  CustomerId   Surname  CreditScore Geography  Gender  Age  \\\n",
       "0          1    15634602  Hargrave          619    France  Female   42   \n",
       "1          2    15647311      Hill          608     Spain  Female   41   \n",
       "2          3    15619304      Onio          502    France  Female   42   \n",
       "3          4    15701354      Boni          699    France  Female   39   \n",
       "4          5    15737888  Mitchell          850     Spain  Female   43   \n",
       "\n",
       "   Tenure    Balance  NumOfProducts  HasCrCard  IsActiveMember  \\\n",
       "0       2      0.000              1          1               1   \n",
       "1       1  83807.860              1          0               1   \n",
       "2       8 159660.800              3          1               0   \n",
       "3       1      0.000              2          0               0   \n",
       "4       2 125510.820              1          1               1   \n",
       "\n",
       "   EstimatedSalary  Exited  \n",
       "0       101348.880       1  \n",
       "1       112542.580       0  \n",
       "2       113931.570       1  \n",
       "3        93826.630       0  \n",
       "4        79084.100       0  "
      ]
     },
     "execution_count": 4,
     "metadata": {},
     "output_type": "execute_result"
    }
   ],
   "source": [
    "df.head()"
   ]
  },
  {
   "cell_type": "markdown",
   "metadata": {},
   "source": [
    "# Exploratory Data Analysis and Visualization"
   ]
  },
  {
   "cell_type": "markdown",
   "metadata": {},
   "source": [
    "1. Implement basic steps to see how is your data looks like\n",
    "2. Check for missing values\n",
    "3. Drop the features that not suitable for modelling\n",
    "4. Implement basic visualization steps such as histogram, countplot, heatmap\n",
    "5. Convert categorical variables to dummy variables"
   ]
  },
  {
   "cell_type": "code",
   "execution_count": 5,
   "metadata": {},
   "outputs": [
    {
     "data": {
      "text/plain": [
       "(10000, 14)"
      ]
     },
     "execution_count": 5,
     "metadata": {},
     "output_type": "execute_result"
    }
   ],
   "source": [
    "df.shape"
   ]
  },
  {
   "cell_type": "code",
   "execution_count": 6,
   "metadata": {},
   "outputs": [
    {
     "name": "stdout",
     "output_type": "stream",
     "text": [
      "<class 'pandas.core.frame.DataFrame'>\n",
      "RangeIndex: 10000 entries, 0 to 9999\n",
      "Data columns (total 14 columns):\n",
      " #   Column           Non-Null Count  Dtype  \n",
      "---  ------           --------------  -----  \n",
      " 0   RowNumber        10000 non-null  int64  \n",
      " 1   CustomerId       10000 non-null  int64  \n",
      " 2   Surname          10000 non-null  object \n",
      " 3   CreditScore      10000 non-null  int64  \n",
      " 4   Geography        10000 non-null  object \n",
      " 5   Gender           10000 non-null  object \n",
      " 6   Age              10000 non-null  int64  \n",
      " 7   Tenure           10000 non-null  int64  \n",
      " 8   Balance          10000 non-null  float64\n",
      " 9   NumOfProducts    10000 non-null  int64  \n",
      " 10  HasCrCard        10000 non-null  int64  \n",
      " 11  IsActiveMember   10000 non-null  int64  \n",
      " 12  EstimatedSalary  10000 non-null  float64\n",
      " 13  Exited           10000 non-null  int64  \n",
      "dtypes: float64(2), int64(9), object(3)\n",
      "memory usage: 1.1+ MB\n"
     ]
    }
   ],
   "source": [
    "df.info() "
   ]
  },
  {
   "cell_type": "code",
   "execution_count": 7,
   "metadata": {},
   "outputs": [
    {
     "data": {
      "text/html": [
       "<div>\n",
       "<style scoped>\n",
       "    .dataframe tbody tr th:only-of-type {\n",
       "        vertical-align: middle;\n",
       "    }\n",
       "\n",
       "    .dataframe tbody tr th {\n",
       "        vertical-align: top;\n",
       "    }\n",
       "\n",
       "    .dataframe thead th {\n",
       "        text-align: right;\n",
       "    }\n",
       "</style>\n",
       "<table border=\"1\" class=\"dataframe\">\n",
       "  <thead>\n",
       "    <tr style=\"text-align: right;\">\n",
       "      <th></th>\n",
       "      <th>count</th>\n",
       "      <th>mean</th>\n",
       "      <th>std</th>\n",
       "      <th>min</th>\n",
       "      <th>25%</th>\n",
       "      <th>50%</th>\n",
       "      <th>75%</th>\n",
       "      <th>max</th>\n",
       "    </tr>\n",
       "  </thead>\n",
       "  <tbody>\n",
       "    <tr>\n",
       "      <th>RowNumber</th>\n",
       "      <td>10000.000</td>\n",
       "      <td>5000.500</td>\n",
       "      <td>2886.896</td>\n",
       "      <td>1.000</td>\n",
       "      <td>2500.750</td>\n",
       "      <td>5000.500</td>\n",
       "      <td>7500.250</td>\n",
       "      <td>10000.000</td>\n",
       "    </tr>\n",
       "    <tr>\n",
       "      <th>CustomerId</th>\n",
       "      <td>10000.000</td>\n",
       "      <td>15690940.569</td>\n",
       "      <td>71936.186</td>\n",
       "      <td>15565701.000</td>\n",
       "      <td>15628528.250</td>\n",
       "      <td>15690738.000</td>\n",
       "      <td>15753233.750</td>\n",
       "      <td>15815690.000</td>\n",
       "    </tr>\n",
       "    <tr>\n",
       "      <th>CreditScore</th>\n",
       "      <td>10000.000</td>\n",
       "      <td>650.529</td>\n",
       "      <td>96.653</td>\n",
       "      <td>350.000</td>\n",
       "      <td>584.000</td>\n",
       "      <td>652.000</td>\n",
       "      <td>718.000</td>\n",
       "      <td>850.000</td>\n",
       "    </tr>\n",
       "    <tr>\n",
       "      <th>Age</th>\n",
       "      <td>10000.000</td>\n",
       "      <td>38.922</td>\n",
       "      <td>10.488</td>\n",
       "      <td>18.000</td>\n",
       "      <td>32.000</td>\n",
       "      <td>37.000</td>\n",
       "      <td>44.000</td>\n",
       "      <td>92.000</td>\n",
       "    </tr>\n",
       "    <tr>\n",
       "      <th>Tenure</th>\n",
       "      <td>10000.000</td>\n",
       "      <td>5.013</td>\n",
       "      <td>2.892</td>\n",
       "      <td>0.000</td>\n",
       "      <td>3.000</td>\n",
       "      <td>5.000</td>\n",
       "      <td>7.000</td>\n",
       "      <td>10.000</td>\n",
       "    </tr>\n",
       "    <tr>\n",
       "      <th>Balance</th>\n",
       "      <td>10000.000</td>\n",
       "      <td>76485.889</td>\n",
       "      <td>62397.405</td>\n",
       "      <td>0.000</td>\n",
       "      <td>0.000</td>\n",
       "      <td>97198.540</td>\n",
       "      <td>127644.240</td>\n",
       "      <td>250898.090</td>\n",
       "    </tr>\n",
       "    <tr>\n",
       "      <th>NumOfProducts</th>\n",
       "      <td>10000.000</td>\n",
       "      <td>1.530</td>\n",
       "      <td>0.582</td>\n",
       "      <td>1.000</td>\n",
       "      <td>1.000</td>\n",
       "      <td>1.000</td>\n",
       "      <td>2.000</td>\n",
       "      <td>4.000</td>\n",
       "    </tr>\n",
       "    <tr>\n",
       "      <th>HasCrCard</th>\n",
       "      <td>10000.000</td>\n",
       "      <td>0.706</td>\n",
       "      <td>0.456</td>\n",
       "      <td>0.000</td>\n",
       "      <td>0.000</td>\n",
       "      <td>1.000</td>\n",
       "      <td>1.000</td>\n",
       "      <td>1.000</td>\n",
       "    </tr>\n",
       "    <tr>\n",
       "      <th>IsActiveMember</th>\n",
       "      <td>10000.000</td>\n",
       "      <td>0.515</td>\n",
       "      <td>0.500</td>\n",
       "      <td>0.000</td>\n",
       "      <td>0.000</td>\n",
       "      <td>1.000</td>\n",
       "      <td>1.000</td>\n",
       "      <td>1.000</td>\n",
       "    </tr>\n",
       "    <tr>\n",
       "      <th>EstimatedSalary</th>\n",
       "      <td>10000.000</td>\n",
       "      <td>100090.240</td>\n",
       "      <td>57510.493</td>\n",
       "      <td>11.580</td>\n",
       "      <td>51002.110</td>\n",
       "      <td>100193.915</td>\n",
       "      <td>149388.247</td>\n",
       "      <td>199992.480</td>\n",
       "    </tr>\n",
       "    <tr>\n",
       "      <th>Exited</th>\n",
       "      <td>10000.000</td>\n",
       "      <td>0.204</td>\n",
       "      <td>0.403</td>\n",
       "      <td>0.000</td>\n",
       "      <td>0.000</td>\n",
       "      <td>0.000</td>\n",
       "      <td>0.000</td>\n",
       "      <td>1.000</td>\n",
       "    </tr>\n",
       "  </tbody>\n",
       "</table>\n",
       "</div>"
      ],
      "text/plain": [
       "                    count         mean       std          min          25%  \\\n",
       "RowNumber       10000.000     5000.500  2886.896        1.000     2500.750   \n",
       "CustomerId      10000.000 15690940.569 71936.186 15565701.000 15628528.250   \n",
       "CreditScore     10000.000      650.529    96.653      350.000      584.000   \n",
       "Age             10000.000       38.922    10.488       18.000       32.000   \n",
       "Tenure          10000.000        5.013     2.892        0.000        3.000   \n",
       "Balance         10000.000    76485.889 62397.405        0.000        0.000   \n",
       "NumOfProducts   10000.000        1.530     0.582        1.000        1.000   \n",
       "HasCrCard       10000.000        0.706     0.456        0.000        0.000   \n",
       "IsActiveMember  10000.000        0.515     0.500        0.000        0.000   \n",
       "EstimatedSalary 10000.000   100090.240 57510.493       11.580    51002.110   \n",
       "Exited          10000.000        0.204     0.403        0.000        0.000   \n",
       "\n",
       "                         50%          75%          max  \n",
       "RowNumber           5000.500     7500.250    10000.000  \n",
       "CustomerId      15690738.000 15753233.750 15815690.000  \n",
       "CreditScore          652.000      718.000      850.000  \n",
       "Age                   37.000       44.000       92.000  \n",
       "Tenure                 5.000        7.000       10.000  \n",
       "Balance            97198.540   127644.240   250898.090  \n",
       "NumOfProducts          1.000        2.000        4.000  \n",
       "HasCrCard              1.000        1.000        1.000  \n",
       "IsActiveMember         1.000        1.000        1.000  \n",
       "EstimatedSalary   100193.915   149388.247   199992.480  \n",
       "Exited                 0.000        0.000        1.000  "
      ]
     },
     "execution_count": 7,
     "metadata": {},
     "output_type": "execute_result"
    }
   ],
   "source": [
    "df.describe().T   # I am comparing mean and std deviations, outlier is not visible"
   ]
  },
  {
   "cell_type": "code",
   "execution_count": 8,
   "metadata": {},
   "outputs": [
    {
     "data": {
      "text/plain": [
       "0    7963\n",
       "1    2037\n",
       "Name: Exited, dtype: int64"
      ]
     },
     "metadata": {},
     "output_type": "display_data"
    },
    {
     "data": {
      "image/png": "[encoded data removed]",
      "text/plain": [
       "<Figure size 720x432 with 1 Axes>"
      ]
     },
     "metadata": {},
     "output_type": "display_data"
    }
   ],
   "source": [
    "display(df.Exited.value_counts())       # I am looking at class distribution in classification problems, I see imbalanced data\n",
    "ax = sns.countplot(x=df[\"Exited\"])      # I will decide whether to apply the imbalanced techniques or not by looking at the scores\n",
    "ax.bar_label(ax.containers[0], size=16)\n",
    "plt.axhline(y=df.Exited.value_counts()[1], color='orange', linestyle='--')\n",
    "plt.axhline(y=df.Exited.value_counts()[0], color='blue', linestyle='--');"
   ]
  },
  {
   "cell_type": "code",
   "execution_count": 9,
   "metadata": {},
   "outputs": [
    {
     "data": {
      "image/png": "[encoded data removed]",
      "text/plain": [
       "<Figure size 1440x1440 with 30 Axes>"
      ]
     },
     "metadata": {},
     "output_type": "display_data"
    }
   ],
   "source": [
    "df.plot(kind=\"box\",\n",
    "        by=\"Exited\", \n",
    "        layout=(5, 6), \n",
    "        subplots=True, \n",
    "        widths=0.7, \n",
    "        figsize=(20,20), \n",
    "        cmap=\"magma\", \n",
    "        patch_artist=True)\n",
    "plt.tight_layout();\n",
    "\n",
    "# When determining the outlier in classification problems, we should look at the class basis!\n",
    "# Outlier is not visible as we see in describe()"
   ]
  },
  {
   "cell_type": "code",
   "execution_count": 10,
   "metadata": {},
   "outputs": [
    {
     "data": {
      "image/png": "[encoded data removed]",
      "text/plain": [
       "<Figure size 1440x1440 with 10 Axes>"
      ]
     },
     "metadata": {},
     "output_type": "display_data"
    }
   ],
   "source": [
    "plt.figure(figsize=(20, 20))      # Let's see which feature separates the classes better\n",
    "for idx, col in enumerate(df.select_dtypes(include='number').columns[:-1]):\n",
    "    plt.subplot(5, 6, idx+1)\n",
    "    sns.histplot(data=df, x=col, hue='Exited')"
   ]
  },
  {
   "cell_type": "code",
   "execution_count": 11,
   "metadata": {},
   "outputs": [],
   "source": [
    "# There are features that do not separate the classes well--> RowNumber, Customerid, EstimatedSalary\n",
    "# Here I will eliminate these features to gain speed because my model may not be able to extract anything from these features\n",
    "# I will also delete the Surname feature"
   ]
  },
  {
   "cell_type": "code",
   "execution_count": 12,
   "metadata": {},
   "outputs": [],
   "source": [
    "drop_list = [\"RowNumber\", \"CustomerId\", \"EstimatedSalary\", \"Surname\"]"
   ]
  },
  {
   "cell_type": "code",
   "execution_count": 13,
   "metadata": {},
   "outputs": [
    {
     "data": {
      "text/plain": [
       "(10000, 14)"
      ]
     },
     "execution_count": 13,
     "metadata": {},
     "output_type": "execute_result"
    }
   ],
   "source": [
    "df.shape"
   ]
  },
  {
   "cell_type": "code",
   "execution_count": 14,
   "metadata": {},
   "outputs": [],
   "source": [
    "df1 = df.drop(drop_list, axis=1).copy()"
   ]
  },
  {
   "cell_type": "code",
   "execution_count": 15,
   "metadata": {
    "tags": []
   },
   "outputs": [
    {
     "data": {
      "text/plain": [
       "(10000, 10)"
      ]
     },
     "execution_count": 15,
     "metadata": {},
     "output_type": "execute_result"
    }
   ],
   "source": [
    "df1.shape"
   ]
  },
  {
   "cell_type": "code",
   "execution_count": 16,
   "metadata": {},
   "outputs": [
    {
     "data": {
      "text/html": [
       "<div>\n",
       "<style scoped>\n",
       "    .dataframe tbody tr th:only-of-type {\n",
       "        vertical-align: middle;\n",
       "    }\n",
       "\n",
       "    .dataframe tbody tr th {\n",
       "        vertical-align: top;\n",
       "    }\n",
       "\n",
       "    .dataframe thead th {\n",
       "        text-align: right;\n",
       "    }\n",
       "</style>\n",
       "<table border=\"1\" class=\"dataframe\">\n",
       "  <thead>\n",
       "    <tr style=\"text-align: right;\">\n",
       "      <th></th>\n",
       "      <th>CreditScore</th>\n",
       "      <th>Age</th>\n",
       "      <th>Tenure</th>\n",
       "      <th>Balance</th>\n",
       "      <th>NumOfProducts</th>\n",
       "      <th>HasCrCard</th>\n",
       "      <th>IsActiveMember</th>\n",
       "      <th>Exited</th>\n",
       "      <th>Geography_Germany</th>\n",
       "      <th>Geography_Spain</th>\n",
       "      <th>Gender_Male</th>\n",
       "    </tr>\n",
       "  </thead>\n",
       "  <tbody>\n",
       "    <tr>\n",
       "      <th>0</th>\n",
       "      <td>619</td>\n",
       "      <td>42</td>\n",
       "      <td>2</td>\n",
       "      <td>0.000</td>\n",
       "      <td>1</td>\n",
       "      <td>1</td>\n",
       "      <td>1</td>\n",
       "      <td>1</td>\n",
       "      <td>0</td>\n",
       "      <td>0</td>\n",
       "      <td>0</td>\n",
       "    </tr>\n",
       "    <tr>\n",
       "      <th>1</th>\n",
       "      <td>608</td>\n",
       "      <td>41</td>\n",
       "      <td>1</td>\n",
       "      <td>83807.860</td>\n",
       "      <td>1</td>\n",
       "      <td>0</td>\n",
       "      <td>1</td>\n",
       "      <td>0</td>\n",
       "      <td>0</td>\n",
       "      <td>1</td>\n",
       "      <td>0</td>\n",
       "    </tr>\n",
       "    <tr>\n",
       "      <th>2</th>\n",
       "      <td>502</td>\n",
       "      <td>42</td>\n",
       "      <td>8</td>\n",
       "      <td>159660.800</td>\n",
       "      <td>3</td>\n",
       "      <td>1</td>\n",
       "      <td>0</td>\n",
       "      <td>1</td>\n",
       "      <td>0</td>\n",
       "      <td>0</td>\n",
       "      <td>0</td>\n",
       "    </tr>\n",
       "    <tr>\n",
       "      <th>3</th>\n",
       "      <td>699</td>\n",
       "      <td>39</td>\n",
       "      <td>1</td>\n",
       "      <td>0.000</td>\n",
       "      <td>2</td>\n",
       "      <td>0</td>\n",
       "      <td>0</td>\n",
       "      <td>0</td>\n",
       "      <td>0</td>\n",
       "      <td>0</td>\n",
       "      <td>0</td>\n",
       "    </tr>\n",
       "    <tr>\n",
       "      <th>4</th>\n",
       "      <td>850</td>\n",
       "      <td>43</td>\n",
       "      <td>2</td>\n",
       "      <td>125510.820</td>\n",
       "      <td>1</td>\n",
       "      <td>1</td>\n",
       "      <td>1</td>\n",
       "      <td>0</td>\n",
       "      <td>0</td>\n",
       "      <td>1</td>\n",
       "      <td>0</td>\n",
       "    </tr>\n",
       "    <tr>\n",
       "      <th>...</th>\n",
       "      <td>...</td>\n",
       "      <td>...</td>\n",
       "      <td>...</td>\n",
       "      <td>...</td>\n",
       "      <td>...</td>\n",
       "      <td>...</td>\n",
       "      <td>...</td>\n",
       "      <td>...</td>\n",
       "      <td>...</td>\n",
       "      <td>...</td>\n",
       "      <td>...</td>\n",
       "    </tr>\n",
       "    <tr>\n",
       "      <th>9995</th>\n",
       "      <td>771</td>\n",
       "      <td>39</td>\n",
       "      <td>5</td>\n",
       "      <td>0.000</td>\n",
       "      <td>2</td>\n",
       "      <td>1</td>\n",
       "      <td>0</td>\n",
       "      <td>0</td>\n",
       "      <td>0</td>\n",
       "      <td>0</td>\n",
       "      <td>1</td>\n",
       "    </tr>\n",
       "    <tr>\n",
       "      <th>9996</th>\n",
       "      <td>516</td>\n",
       "      <td>35</td>\n",
       "      <td>10</td>\n",
       "      <td>57369.610</td>\n",
       "      <td>1</td>\n",
       "      <td>1</td>\n",
       "      <td>1</td>\n",
       "      <td>0</td>\n",
       "      <td>0</td>\n",
       "      <td>0</td>\n",
       "      <td>1</td>\n",
       "    </tr>\n",
       "    <tr>\n",
       "      <th>9997</th>\n",
       "      <td>709</td>\n",
       "      <td>36</td>\n",
       "      <td>7</td>\n",
       "      <td>0.000</td>\n",
       "      <td>1</td>\n",
       "      <td>0</td>\n",
       "      <td>1</td>\n",
       "      <td>1</td>\n",
       "      <td>0</td>\n",
       "      <td>0</td>\n",
       "      <td>0</td>\n",
       "    </tr>\n",
       "    <tr>\n",
       "      <th>9998</th>\n",
       "      <td>772</td>\n",
       "      <td>42</td>\n",
       "      <td>3</td>\n",
       "      <td>75075.310</td>\n",
       "      <td>2</td>\n",
       "      <td>1</td>\n",
       "      <td>0</td>\n",
       "      <td>1</td>\n",
       "      <td>1</td>\n",
       "      <td>0</td>\n",
       "      <td>1</td>\n",
       "    </tr>\n",
       "    <tr>\n",
       "      <th>9999</th>\n",
       "      <td>792</td>\n",
       "      <td>28</td>\n",
       "      <td>4</td>\n",
       "      <td>130142.790</td>\n",
       "      <td>1</td>\n",
       "      <td>1</td>\n",
       "      <td>0</td>\n",
       "      <td>0</td>\n",
       "      <td>0</td>\n",
       "      <td>0</td>\n",
       "      <td>0</td>\n",
       "    </tr>\n",
       "  </tbody>\n",
       "</table>\n",
       "<p>10000 rows × 11 columns</p>\n",
       "</div>"
      ],
      "text/plain": [
       "      CreditScore  Age  Tenure    Balance  NumOfProducts  HasCrCard  \\\n",
       "0             619   42       2      0.000              1          1   \n",
       "1             608   41       1  83807.860              1          0   \n",
       "2             502   42       8 159660.800              3          1   \n",
       "3             699   39       1      0.000              2          0   \n",
       "4             850   43       2 125510.820              1          1   \n",
       "...           ...  ...     ...        ...            ...        ...   \n",
       "9995          771   39       5      0.000              2          1   \n",
       "9996          516   35      10  57369.610              1          1   \n",
       "9997          709   36       7      0.000              1          0   \n",
       "9998          772   42       3  75075.310              2          1   \n",
       "9999          792   28       4 130142.790              1          1   \n",
       "\n",
       "      IsActiveMember  Exited  Geography_Germany  Geography_Spain  Gender_Male  \n",
       "0                  1       1                  0                0            0  \n",
       "1                  1       0                  0                1            0  \n",
       "2                  0       1                  0                0            0  \n",
       "3                  0       0                  0                0            0  \n",
       "4                  1       0                  0                1            0  \n",
       "...              ...     ...                ...              ...          ...  \n",
       "9995               0       0                  0                0            1  \n",
       "9996               1       0                  0                0            1  \n",
       "9997               1       1                  0                0            0  \n",
       "9998               0       1                  1                0            1  \n",
       "9999               0       0                  0                0            0  \n",
       "\n",
       "[10000 rows x 11 columns]"
      ]
     },
     "execution_count": 16,
     "metadata": {},
     "output_type": "execute_result"
    }
   ],
   "source": [
    "df1 = pd.get_dummies(df1, columns=['Geography', 'Gender'], drop_first=True)\n",
    "df1"
   ]
  },
  {
   "cell_type": "markdown",
   "metadata": {},
   "source": [
    "# Preprocessing of Data\n",
    "- Train | Test Split, Scalling"
   ]
  },
  {
   "cell_type": "code",
   "execution_count": 17,
   "metadata": {},
   "outputs": [],
   "source": [
    "from sklearn.model_selection import train_test_split\n",
    "from sklearn.preprocessing import MinMaxScaler,RobustScaler"
   ]
  },
  {
   "cell_type": "code",
   "execution_count": 18,
   "metadata": {},
   "outputs": [],
   "source": [
    "X = df1.drop('Exited', axis=1)\n",
    "y = df1['Exited']"
   ]
  },
  {
   "cell_type": "code",
   "execution_count": 19,
   "metadata": {},
   "outputs": [],
   "source": [
    "seed = 13"
   ]
  },
  {
   "cell_type": "code",
   "execution_count": 20,
   "metadata": {},
   "outputs": [],
   "source": [
    "X_train1, X_test, y_train1, y_test = train_test_split(\n",
    "    X, y, stratify=y, test_size=0.1, random_state=seed \n",
    ")\n",
    "\n",
    "# Considering the distribution ratio of the classes, I separated this train data and test data\n",
    "\n",
    "X_train, X_val, y_train, y_val = train_test_split(\n",
    "    X_train1, y_train1, stratify=y_train1, test_size=0.1, random_state=seed \n",
    ")\n",
    "\n",
    "# Considering the distribution ratio of the classes, I separated this train data and validation data"
   ]
  },
  {
   "cell_type": "code",
   "execution_count": 21,
   "metadata": {},
   "outputs": [],
   "source": [
    "scaler = MinMaxScaler()  # Since there are no outlier values, I will use the min max scaler"
   ]
  },
  {
   "cell_type": "code",
   "execution_count": 22,
   "metadata": {},
   "outputs": [],
   "source": [
    "X_train = scaler.fit_transform(X_train)\n",
    "X_val = scaler.transform(X_val)\n",
    "X_test = scaler.transform(X_test)"
   ]
  },
  {
   "cell_type": "markdown",
   "metadata": {
    "id": "Ha9hDt_AoGaE"
   },
   "source": [
    "# Modelling & Model Performance"
   ]
  },
  {
   "cell_type": "markdown",
   "metadata": {},
   "source": [
    "### Create The Model"
   ]
  },
  {
   "cell_type": "code",
   "execution_count": 23,
   "metadata": {
    "tags": []
   },
   "outputs": [],
   "source": [
    "import tensorflow as tf\n",
    "from tensorflow.keras.models import Sequential\n",
    "from tensorflow.keras.layers import Dense, Activation \n",
    "from sklearn.metrics import classification_report, confusion_matrix\n",
    "from sklearn.metrics import RocCurveDisplay, roc_auc_score"
   ]
  },
  {
   "cell_type": "code",
   "execution_count": 24,
   "metadata": {},
   "outputs": [
    {
     "data": {
      "text/plain": [
       "(8100, 10)"
      ]
     },
     "execution_count": 24,
     "metadata": {},
     "output_type": "execute_result"
    }
   ],
   "source": [
    "X_train.shape"
   ]
  },
  {
   "cell_type": "code",
   "execution_count": 25,
   "metadata": {},
   "outputs": [
    {
     "data": {
      "text/plain": [
       "(900, 10)"
      ]
     },
     "execution_count": 25,
     "metadata": {},
     "output_type": "execute_result"
    }
   ],
   "source": [
    "X_val.shape"
   ]
  },
  {
   "cell_type": "code",
   "execution_count": 26,
   "metadata": {},
   "outputs": [
    {
     "data": {
      "text/plain": [
       "(1000, 10)"
      ]
     },
     "execution_count": 26,
     "metadata": {},
     "output_type": "execute_result"
    }
   ],
   "source": [
    "X_test.shape"
   ]
  },
  {
   "cell_type": "code",
   "execution_count": 27,
   "metadata": {},
   "outputs": [],
   "source": [
    "model = Sequential()\n",
    "\n",
    "model.add(Dense(36, activation = \"relu\",input_dim = X_train.shape[1]))  # I used relu because learning is more\n",
    "model.add(Dense(18, activation = \"relu\"))\n",
    "model.add(Dense(9, activation = \"relu\"))\n",
    "model.add(Dense(1, activation = \"sigmoid\"))  # I used sigmoid because the output is binary \n",
    "\n",
    "model.compile(optimizer = \"adam\", loss = \"binary_crossentropy\", metrics = [\"accuracy\"])  # the weights will be updated accordingly"
   ]
  },
  {
   "cell_type": "code",
   "execution_count": 28,
   "metadata": {
    "tags": []
   },
   "outputs": [
    {
     "name": "stdout",
     "output_type": "stream",
     "text": [
      "Model: \"sequential\"\n",
      "_________________________________________________________________\n",
      " Layer (type)                Output Shape              Param #   \n",
      "=================================================================\n",
      " dense (Dense)               (None, 36)                396       \n",
      "                                                                 \n",
      " dense_1 (Dense)             (None, 18)                666       \n",
      "                                                                 \n",
      " dense_2 (Dense)             (None, 9)                 171       \n",
      "                                                                 \n",
      " dense_3 (Dense)             (None, 1)                 10        \n",
      "                                                                 \n",
      "=================================================================\n",
      "Total params: 1,243\n",
      "Trainable params: 1,243\n",
      "Non-trainable params: 0\n",
      "_________________________________________________________________\n"
     ]
    }
   ],
   "source": [
    "model.summary()"
   ]
  },
  {
   "cell_type": "code",
   "execution_count": 29,
   "metadata": {},
   "outputs": [
    {
     "data": {
      "text/plain": [
       "[<tf.Variable 'dense/kernel:0' shape=(10, 36) dtype=float32, numpy=\n",
       " array([[ 0.05180496, -0.3232954 ,  0.0449861 , -0.2389617 , -0.27182084,\n",
       "          0.3200356 , -0.3352465 , -0.08874783, -0.29006153,  0.22173485,\n",
       "          0.21379218,  0.03228879, -0.08672553, -0.12255873, -0.03129822,\n",
       "         -0.34932676, -0.20367019,  0.06891426, -0.26738128,  0.3290684 ,\n",
       "         -0.19094336, -0.22577798, -0.32392994,  0.28063664,  0.28089407,\n",
       "          0.02924785,  0.23224577, -0.33408856,  0.35880265,  0.25479147,\n",
       "          0.22210982, -0.21812922,  0.19946   , -0.35760835,  0.33738366,\n",
       "         -0.29385048],\n",
       "        [-0.23033845,  0.10623342, -0.16062976,  0.22766301,  0.26730135,\n",
       "         -0.11257389, -0.29832846,  0.17914096, -0.33545652, -0.20175233,\n",
       "          0.07943943,  0.30295607, -0.02486253, -0.21378633, -0.15455364,\n",
       "          0.01971093, -0.25645882, -0.27763015,  0.32236895,  0.16869393,\n",
       "          0.23222455, -0.3023232 , -0.330662  , -0.07781357, -0.3162483 ,\n",
       "         -0.01491472, -0.04852352,  0.21776596,  0.0118463 ,  0.29554895,\n",
       "         -0.2224665 ,  0.16364262,  0.12152287,  0.0264914 ,  0.29082027,\n",
       "          0.18619457],\n",
       "        [ 0.23092607,  0.17561439,  0.23610392, -0.02049452,  0.07846805,\n",
       "          0.01040503, -0.2430645 , -0.10397425,  0.11135444,  0.2736967 ,\n",
       "          0.1504803 , -0.04619995,  0.19836482,  0.21672186,  0.03430921,\n",
       "         -0.23249397, -0.34305432, -0.2662562 , -0.31827402,  0.18377247,\n",
       "          0.10949203, -0.29103988,  0.08266792,  0.2576106 , -0.24403165,\n",
       "          0.15068343,  0.31213745,  0.34986284, -0.03877479,  0.00741258,\n",
       "          0.07505128,  0.0847691 ,  0.14660868,  0.321057  , -0.32885414,\n",
       "         -0.3261218 ],\n",
       "        [-0.22490004,  0.1101498 ,  0.06923744, -0.10122588,  0.18300655,\n",
       "          0.19204232,  0.06883177,  0.14321741, -0.13267592, -0.3570521 ,\n",
       "          0.28390458, -0.21756358,  0.24391672, -0.18813439,  0.2973353 ,\n",
       "          0.08373237,  0.19519278,  0.0310778 ,  0.05580014,  0.24458066,\n",
       "         -0.1394049 , -0.06742394,  0.1934484 , -0.11149265,  0.07747129,\n",
       "         -0.16074136, -0.0042825 , -0.31100595,  0.29663303,  0.20671907,\n",
       "         -0.26477915, -0.0648905 , -0.04184344, -0.21707484, -0.35021222,\n",
       "          0.26792005],\n",
       "        [-0.27910703, -0.17695636,  0.2760891 , -0.00898704,  0.01686218,\n",
       "         -0.06538087,  0.22985658, -0.2954573 ,  0.15957978,  0.03563309,\n",
       "         -0.00917545,  0.01337874, -0.09924611,  0.14388165,  0.31778434,\n",
       "         -0.32013264,  0.23444244,  0.2245867 ,  0.12934041, -0.10527384,\n",
       "         -0.04412967, -0.27858436,  0.04909027, -0.19752982,  0.03426331,\n",
       "          0.35938075,  0.21780512,  0.06870037,  0.12614411,  0.30403993,\n",
       "          0.34050032, -0.20037608, -0.2875827 ,  0.23378685, -0.18270226,\n",
       "          0.29410216],\n",
       "        [-0.23469605, -0.08394134, -0.05482721,  0.05160958,  0.06006929,\n",
       "          0.03771585,  0.1030573 ,  0.21673068, -0.25705442, -0.05534327,\n",
       "         -0.24833673, -0.02974391, -0.20770067,  0.08167753, -0.10687605,\n",
       "         -0.03266242,  0.33599427, -0.3512565 , -0.33236375,  0.30574283,\n",
       "          0.03840056,  0.26078776, -0.33957672, -0.00425884, -0.12351839,\n",
       "          0.18647727, -0.07097283,  0.04920894, -0.00780582, -0.31056076,\n",
       "         -0.07310897,  0.22448304,  0.09761104, -0.08039162,  0.22001901,\n",
       "         -0.06255761],\n",
       "        [ 0.1250777 , -0.08447367, -0.1116392 ,  0.16195759,  0.17564628,\n",
       "         -0.35890597, -0.08010504, -0.06097791,  0.28248248, -0.09562799,\n",
       "          0.28605756,  0.34170273,  0.1932104 ,  0.25390533,  0.00721824,\n",
       "         -0.3047372 ,  0.01717225, -0.01462239,  0.17344019,  0.02643234,\n",
       "          0.32050744,  0.20313296,  0.26670012, -0.16233028, -0.18666025,\n",
       "         -0.17239968,  0.26955727,  0.15885046,  0.19261244,  0.35953477,\n",
       "         -0.23008737,  0.23744234,  0.23999885,  0.08634537, -0.25121605,\n",
       "         -0.20640244],\n",
       "        [ 0.31315604,  0.03915039, -0.33472902,  0.14720169, -0.2504361 ,\n",
       "          0.01370835, -0.11664045,  0.23922202, -0.02403936, -0.19416107,\n",
       "          0.3603901 , -0.15691176, -0.30955082, -0.2239948 ,  0.18963853,\n",
       "         -0.208138  , -0.18701018, -0.14962007, -0.23978496,  0.03423601,\n",
       "          0.15701571, -0.01578301, -0.22595596,  0.07380125,  0.06995496,\n",
       "          0.21528837,  0.10409936, -0.12443249, -0.21478552, -0.32546282,\n",
       "          0.34742692, -0.31346583,  0.34663007,  0.34460047, -0.14447986,\n",
       "         -0.22841251],\n",
       "        [ 0.30387232, -0.33248267, -0.09207955,  0.3384234 , -0.11898272,\n",
       "          0.2829264 , -0.20979168, -0.32033914,  0.0549061 , -0.05702904,\n",
       "         -0.35936603, -0.11091202, -0.02910146, -0.30514878,  0.13114658,\n",
       "          0.15045056, -0.07503036,  0.26376858,  0.07869574,  0.2122719 ,\n",
       "          0.26978996,  0.13435474, -0.1666438 , -0.11808248,  0.17591569,\n",
       "          0.14670035,  0.36016056,  0.33533993,  0.32244202, -0.20526427,\n",
       "          0.15678707,  0.1703246 ,  0.24958053,  0.02546751,  0.3376998 ,\n",
       "          0.02033091],\n",
       "        [-0.09839797, -0.05026728, -0.01459929,  0.34437606,  0.09186912,\n",
       "          0.05251947,  0.08962455,  0.26340368, -0.27995408,  0.28101006,\n",
       "         -0.27084035, -0.0939478 ,  0.24977627,  0.22344759, -0.22739662,\n",
       "          0.18301585,  0.07856891, -0.11103827, -0.03244913,  0.07113659,\n",
       "          0.34262213,  0.00996348, -0.15712039,  0.11461264, -0.1344857 ,\n",
       "          0.08312997, -0.00476092, -0.01349583,  0.35507473,  0.0269345 ,\n",
       "          0.24170461, -0.2464838 ,  0.10677847,  0.1308583 ,  0.31958154,\n",
       "         -0.00338167]], dtype=float32)>,\n",
       " <tf.Variable 'dense/bias:0' shape=(36,) dtype=float32, numpy=\n",
       " array([0., 0., 0., 0., 0., 0., 0., 0., 0., 0., 0., 0., 0., 0., 0., 0., 0.,\n",
       "        0., 0., 0., 0., 0., 0., 0., 0., 0., 0., 0., 0., 0., 0., 0., 0., 0.,\n",
       "        0., 0.], dtype=float32)>,\n",
       " <tf.Variable 'dense_1/kernel:0' shape=(36, 18) dtype=float32, numpy=\n",
       " array([[ 9.39602852e-02,  2.86534816e-01,  1.13183558e-02,\n",
       "         -1.67733729e-02, -3.82423401e-04, -2.02585310e-01,\n",
       "         -2.79925108e-01,  3.16452771e-01, -2.00450987e-01,\n",
       "         -1.97333500e-01, -2.37391472e-01, -3.23056638e-01,\n",
       "         -1.88111633e-01,  2.45304853e-01,  3.68492603e-02,\n",
       "          1.35008246e-01,  7.84420967e-03,  2.12118536e-01],\n",
       "        [-2.04500258e-02,  3.03268999e-01, -4.77481782e-02,\n",
       "         -1.00219727e-01,  1.61140442e-01,  1.36734545e-02,\n",
       "          1.27649546e-01, -8.27272832e-02,  2.91651398e-01,\n",
       "          1.17471457e-01, -2.28234053e-01,  1.94602042e-01,\n",
       "          1.04618967e-02,  9.90075171e-02,  2.68816501e-01,\n",
       "         -1.86741754e-01,  2.02351898e-01,  1.74829155e-01],\n",
       "        [ 1.30199522e-01,  2.94361442e-01, -4.94267046e-02,\n",
       "          2.45021611e-01,  2.93532997e-01,  2.68040031e-01,\n",
       "         -1.87080860e-01, -7.24350512e-02,  2.75353938e-01,\n",
       "          2.07832843e-01, -8.67031515e-02, -3.06408972e-01,\n",
       "         -3.12043369e-01,  3.00220340e-01,  2.83538967e-01,\n",
       "          1.36498928e-01, -1.12903118e-01, -1.34946674e-01],\n",
       "        [-4.45198119e-02, -3.03453535e-01,  8.16594660e-02,\n",
       "          1.34230852e-01,  1.78521186e-01, -2.14031786e-01,\n",
       "          2.83649772e-01,  9.66963768e-02, -1.55403137e-01,\n",
       "          4.40916121e-02,  2.42897570e-02,  2.64284402e-01,\n",
       "          2.20673591e-01, -2.13924333e-01,  6.44117892e-02,\n",
       "          2.27311045e-01,  4.71901894e-03,  2.23986179e-01],\n",
       "        [ 1.40381485e-01, -3.82473469e-02, -2.90982574e-01,\n",
       "         -1.33310720e-01,  1.86429918e-02, -1.73065752e-01,\n",
       "          7.06318915e-02,  4.73783910e-02, -3.00712049e-01,\n",
       "          1.82761818e-01, -1.07301086e-01,  2.45664924e-01,\n",
       "          6.64199293e-02, -2.61504114e-01, -7.60586262e-02,\n",
       "         -7.05864429e-02, -2.61550516e-01, -7.17741549e-02],\n",
       "        [-1.97551653e-01, -3.04298639e-01, -2.14003086e-01,\n",
       "         -1.97351545e-01, -6.79434240e-02,  1.82096064e-02,\n",
       "          3.13916057e-01, -9.37877595e-02, -2.76776880e-01,\n",
       "         -2.18974277e-01, -5.50493598e-03, -3.28097343e-01,\n",
       "          2.92225868e-01, -2.98938751e-02,  2.58590728e-01,\n",
       "         -1.09577894e-01,  2.76916355e-01, -2.71972030e-01],\n",
       "        [ 1.54820979e-02, -6.62604868e-02, -1.34842083e-01,\n",
       "          1.01905674e-01, -5.65257072e-02,  2.64373571e-01,\n",
       "         -1.56841204e-01,  1.43014669e-01, -2.48071253e-02,\n",
       "         -1.04491875e-01, -2.27232546e-01,  3.39805186e-02,\n",
       "         -2.31429666e-01, -1.91727638e-01, -3.41155529e-02,\n",
       "          3.32170039e-01, -3.32236379e-01, -2.74957508e-01],\n",
       "        [-2.35229731e-04,  5.58571815e-02, -1.75762817e-01,\n",
       "         -8.56292248e-02, -1.66743368e-01,  9.02563632e-02,\n",
       "         -2.35089779e-01,  2.84731060e-01, -3.95154059e-02,\n",
       "         -2.31256962e-01, -2.74838686e-01, -5.04016876e-02,\n",
       "         -4.96329367e-02, -2.09906101e-02,  1.00825727e-02,\n",
       "         -2.00575292e-02, -8.20116997e-02, -2.54752487e-01],\n",
       "        [-2.82673776e-01, -7.91206956e-03, -2.27816030e-01,\n",
       "          9.71110761e-02, -6.37973845e-02,  2.07184643e-01,\n",
       "          3.06782156e-01, -1.61440775e-01,  2.02602476e-01,\n",
       "          2.05776542e-01, -3.19694132e-01,  5.19776344e-02,\n",
       "         -3.31757069e-01,  7.15635717e-02, -1.45810053e-01,\n",
       "         -2.57212877e-01, -3.36727500e-03,  3.13771814e-01],\n",
       "        [-2.33740896e-01,  2.40320116e-01, -2.41402790e-01,\n",
       "          2.47880369e-01,  3.00485522e-01,  1.42300040e-01,\n",
       "         -5.29712141e-02,  7.02864230e-02, -8.04752111e-04,\n",
       "         -2.83665359e-01, -2.49884129e-02, -3.24416012e-01,\n",
       "         -1.06741354e-01,  2.39334732e-01, -6.44315183e-02,\n",
       "          3.24090630e-01,  2.99781591e-01, -1.79456234e-01],\n",
       "        [ 2.20177740e-01, -2.07330629e-01, -2.97565401e-01,\n",
       "          3.34778428e-03,  9.26750600e-02, -3.11452150e-01,\n",
       "          1.70855373e-01, -1.44250080e-01,  1.01962477e-01,\n",
       "         -1.69599935e-01,  1.48057938e-02, -3.02696228e-02,\n",
       "          2.00273365e-01, -2.90615737e-01, -9.68702734e-02,\n",
       "         -7.54746497e-02,  1.97075933e-01, -3.07702124e-02],\n",
       "        [-1.46959633e-01,  8.18967819e-04,  2.19400436e-01,\n",
       "         -4.18461859e-02, -2.78040409e-01,  1.33123010e-01,\n",
       "         -3.10928047e-01, -1.14832163e-01,  3.02293450e-01,\n",
       "          3.55811119e-02,  5.24244308e-02,  1.57456398e-01,\n",
       "         -2.88732141e-01,  9.09435749e-02,  3.19947749e-01,\n",
       "         -3.74771059e-02, -1.42850965e-01, -7.61585236e-02],\n",
       "        [-9.29211080e-02,  1.87428027e-01, -8.27519000e-02,\n",
       "         -1.23377889e-01,  1.74852282e-01,  4.51359153e-03,\n",
       "         -1.63380548e-01,  2.24634677e-01,  4.72989678e-03,\n",
       "         -3.24475288e-01, -1.50709391e-01, -1.73604339e-01,\n",
       "         -2.91205943e-02, -1.73326492e-01, -1.71263456e-01,\n",
       "         -1.27153963e-01,  3.05828840e-01, -2.89571047e-01],\n",
       "        [-1.47014380e-01, -1.49017811e-01, -8.20467472e-02,\n",
       "          2.14873821e-01,  1.06108338e-01,  1.16944313e-02,\n",
       "          1.73072964e-01,  7.38224387e-03,  4.10799980e-02,\n",
       "          3.62176895e-02,  3.04230154e-02,  1.02538168e-02,\n",
       "         -2.47562885e-01, -9.26272124e-02,  2.77242690e-01,\n",
       "          2.53712565e-01,  1.84233934e-01, -2.11633742e-02],\n",
       "        [ 5.98289073e-02,  1.65265232e-01,  6.71615601e-02,\n",
       "         -2.54893482e-01,  4.37177718e-02, -2.52757311e-01,\n",
       "         -3.51099968e-02,  5.79563677e-02,  1.98892683e-01,\n",
       "          2.81232446e-01,  3.06048900e-01, -2.09388822e-01,\n",
       "          2.76891291e-02,  3.02918583e-01,  1.46055073e-01,\n",
       "          1.31726593e-01, -2.53799140e-01, -1.13470167e-01],\n",
       "        [-6.99873865e-02,  2.55861431e-01, -2.28368342e-02,\n",
       "          2.27519065e-01, -2.42323399e-01,  4.44994867e-02,\n",
       "         -7.38449097e-02,  3.29693943e-01,  1.67829901e-01,\n",
       "          2.72507697e-01, -1.62740082e-01,  5.54751456e-02,\n",
       "         -3.77150476e-02, -2.63959259e-01, -1.31648466e-01,\n",
       "          2.45634615e-02, -3.96285057e-02,  4.09047604e-02],\n",
       "        [ 4.05307710e-02, -2.77617782e-01, -2.70497799e-01,\n",
       "          1.28267527e-01,  2.30512291e-01, -2.02289104e-01,\n",
       "          8.43334198e-03,  1.97580010e-01,  2.59315819e-01,\n",
       "         -9.76409167e-02, -1.33301824e-01,  1.94000155e-01,\n",
       "         -5.51944673e-02,  7.10937083e-02, -6.43281043e-02,\n",
       "         -9.16638970e-03, -2.76186645e-01,  3.19392711e-01],\n",
       "        [-1.62623808e-01, -1.28143787e-01,  9.19062197e-02,\n",
       "          1.70274585e-01, -1.96247265e-01, -2.95820326e-01,\n",
       "          2.14306444e-01,  2.64627844e-01, -3.17563713e-01,\n",
       "         -4.72919941e-02,  2.60036498e-01, -1.24474049e-01,\n",
       "          2.05556482e-01,  1.37292534e-01,  2.49952644e-01,\n",
       "         -3.14153135e-02, -1.08510554e-02, -1.02417469e-02],\n",
       "        [ 2.95205861e-01, -2.82558203e-01, -2.23599836e-01,\n",
       "         -7.41175115e-02,  1.73832804e-01, -3.65990698e-02,\n",
       "          4.22230363e-03, -1.99905008e-01,  3.03679556e-01,\n",
       "          1.80534214e-01,  2.41523355e-01,  3.08489174e-01,\n",
       "          1.82828814e-01, -2.30467558e-01, -2.19834730e-01,\n",
       "         -1.41720533e-01,  1.57150179e-01,  3.19675237e-01],\n",
       "        [-3.15423012e-01,  2.08380014e-01, -2.98594087e-01,\n",
       "         -8.13790262e-02, -2.38962173e-01, -3.17069620e-01,\n",
       "          2.81036288e-01,  1.59612656e-01,  2.26265222e-01,\n",
       "         -2.17733949e-01,  5.12732565e-02, -3.95937860e-02,\n",
       "          1.50792122e-01,  2.29418606e-01,  1.27886236e-02,\n",
       "          2.58041292e-01, -2.55742490e-01, -6.99814856e-02],\n",
       "        [-2.48623058e-01,  2.28880316e-01, -1.97871923e-01,\n",
       "         -2.60403872e-01,  9.53297615e-02, -8.49765241e-02,\n",
       "         -1.08082384e-01, -1.84673473e-01,  2.71836787e-01,\n",
       "         -2.16694593e-01,  5.64079285e-02,  3.12144309e-01,\n",
       "         -1.11702368e-01,  2.08620936e-01, -2.68580675e-01,\n",
       "         -1.21001810e-01,  1.10895962e-01, -9.01568830e-02],\n",
       "        [-1.45476907e-01,  5.77906072e-02,  1.34183496e-01,\n",
       "          1.48533493e-01,  3.18366319e-01, -5.46064973e-03,\n",
       "         -1.10386133e-01,  3.01682144e-01, -2.23693132e-01,\n",
       "          3.23973209e-01, -5.31992912e-02,  1.29975468e-01,\n",
       "          1.40238136e-01,  7.13506341e-03,  3.10823053e-01,\n",
       "          1.02202505e-01, -8.86145234e-03,  6.90133572e-02],\n",
       "        [ 2.91032463e-01, -2.38624901e-01,  2.02247530e-01,\n",
       "          2.37252027e-01, -3.13892782e-01,  1.78824991e-01,\n",
       "          2.67281920e-01,  3.15818220e-01,  1.67038709e-01,\n",
       "         -2.63139188e-01,  7.66781867e-02,  8.22154582e-02,\n",
       "          3.30034196e-02, -2.59849310e-01, -3.11599493e-01,\n",
       "          3.23682159e-01,  1.75110668e-01, -1.41638279e-01],\n",
       "        [ 2.45218307e-01, -5.42009771e-02, -1.98898554e-01,\n",
       "          7.57066309e-02, -2.44799614e-01,  3.00811201e-01,\n",
       "         -4.62822914e-02, -4.75249290e-02,  4.27704751e-02,\n",
       "         -1.61914676e-01, -1.63673460e-02,  2.15862691e-02,\n",
       "         -1.18467972e-01, -2.07330227e-01,  2.79533654e-01,\n",
       "          1.90292209e-01,  1.43331587e-02, -1.50412247e-01],\n",
       "        [-2.06299469e-01,  1.97546571e-01,  1.95967048e-01,\n",
       "          3.53261530e-02,  2.52036422e-01,  2.01506704e-01,\n",
       "          3.01635653e-01, -6.83248937e-02, -1.93153322e-02,\n",
       "         -2.22904131e-01, -6.55942857e-02, -2.79950380e-01,\n",
       "          7.37825036e-03, -6.95339739e-02,  5.00996113e-02,\n",
       "          2.79834777e-01, -3.34157050e-02, -1.71128199e-01],\n",
       "        [-1.66950226e-02,  1.46505594e-01,  3.23834807e-01,\n",
       "          1.03260994e-01,  2.61097699e-01, -1.51222467e-01,\n",
       "         -5.79229891e-02, -1.12184048e-01,  2.07561761e-01,\n",
       "          2.98950464e-01,  2.88645536e-01, -4.92889881e-02,\n",
       "          1.94727987e-01,  1.12210363e-01,  3.26709181e-01,\n",
       "         -8.72621536e-02, -9.42098349e-02, -6.53146207e-02],\n",
       "        [-2.43385240e-01, -2.80305475e-01, -1.66721508e-01,\n",
       "         -9.03554857e-02, -1.90095037e-01,  2.04365164e-01,\n",
       "         -2.36512989e-01,  3.18321019e-01,  7.47253001e-02,\n",
       "          1.53261751e-01, -2.35731289e-01, -2.95098722e-02,\n",
       "         -2.14022487e-01, -7.74378777e-02, -2.49687135e-02,\n",
       "         -2.35725492e-01, -1.88275024e-01,  2.71472961e-01],\n",
       "        [-1.76868603e-01, -2.07537651e-01,  2.87417978e-01,\n",
       "         -2.35219896e-02, -2.98686832e-01,  2.75177151e-01,\n",
       "          2.24001676e-01,  2.97994524e-01, -6.30978644e-02,\n",
       "         -2.56306648e-01, -2.95792580e-01, -1.23245403e-01,\n",
       "         -9.41128731e-02, -2.30888605e-01, -2.52354234e-01,\n",
       "          2.72739202e-01, -4.79181707e-02, -1.27449632e-03],\n",
       "        [-1.77134678e-01,  2.39308447e-01,  2.59739667e-01,\n",
       "          3.32099825e-01,  1.71655923e-01, -3.24948013e-01,\n",
       "          2.25173622e-01, -3.05456489e-01, -6.67208731e-02,\n",
       "         -2.45506689e-01,  1.30397558e-01, -3.62018049e-02,\n",
       "          1.10353947e-01, -4.04036939e-02,  1.29776001e-02,\n",
       "         -1.79149553e-01,  2.48798877e-01,  1.88600689e-01],\n",
       "        [ 2.70941585e-01,  1.92798287e-01,  2.32990414e-01,\n",
       "         -9.18490887e-02, -6.54594004e-02, -1.27132177e-01,\n",
       "          2.35331565e-01,  2.76526511e-02,  3.23948056e-01,\n",
       "         -1.61477894e-01, -5.74895442e-02,  2.25746781e-01,\n",
       "         -1.81671232e-01, -2.92941988e-01, -1.73300117e-01,\n",
       "          3.76406610e-02,  1.46847963e-01,  3.27806979e-01],\n",
       "        [ 1.30099624e-01,  3.04105550e-01,  3.19931358e-01,\n",
       "          8.81733894e-02,  1.56239897e-01,  2.40920097e-01,\n",
       "          2.18747467e-01,  2.20076472e-01,  2.63532728e-01,\n",
       "         -2.73336023e-01,  2.62990803e-01,  2.08085150e-01,\n",
       "          7.82481730e-02,  1.58732802e-01,  2.02807456e-01,\n",
       "          2.69599468e-01, -3.35025787e-03, -1.99233145e-01],\n",
       "        [ 1.32211059e-01, -2.73652077e-02, -1.70645952e-01,\n",
       "          2.67300040e-01,  2.25369543e-01, -2.06256792e-01,\n",
       "         -1.58122152e-01, -1.21344730e-01,  2.20283061e-01,\n",
       "         -2.69186735e-01,  2.80557424e-01,  5.76981902e-03,\n",
       "         -2.77854294e-01, -5.60220778e-02, -2.17769712e-01,\n",
       "          8.07702541e-02,  8.40176642e-02,  1.01571798e-01],\n",
       "        [-2.89610386e-01,  7.45518208e-02, -8.35673064e-02,\n",
       "         -2.73067713e-01,  1.24037117e-01, -1.72474146e-01,\n",
       "          2.87919313e-01,  2.52053052e-01,  5.18406928e-02,\n",
       "          3.19290191e-01, -3.00002098e-01, -1.08356804e-01,\n",
       "         -3.08911800e-02, -1.01003334e-01, -3.80886495e-02,\n",
       "          2.24452525e-01,  2.36004680e-01,  2.59477705e-01],\n",
       "        [ 1.05919987e-01,  2.89676458e-01,  1.73302978e-01,\n",
       "         -5.69515228e-02,  1.68731302e-01,  2.28011876e-01,\n",
       "          2.93494016e-01,  2.79536754e-01,  5.19479811e-02,\n",
       "         -1.63292974e-01,  2.66931206e-01,  9.42460001e-02,\n",
       "          8.28537047e-02, -5.95817566e-02, -2.08261654e-01,\n",
       "          6.38044775e-02, -3.17381859e-01, -2.89811373e-01],\n",
       "        [-1.54157251e-01,  1.55974925e-02,  1.88308626e-01,\n",
       "         -1.53974697e-01, -2.59772956e-01, -5.17283976e-02,\n",
       "          1.42103821e-01,  2.10885793e-01,  7.66092241e-02,\n",
       "          3.13931853e-01, -1.67847559e-01,  3.02177340e-01,\n",
       "         -8.60900879e-02, -2.71864980e-01, -3.11475843e-01,\n",
       "          1.79994911e-01, -9.33240354e-02,  9.76577401e-03],\n",
       "        [ 1.48651123e-01, -3.23668122e-03,  1.01772636e-01,\n",
       "         -2.40317032e-01,  1.53393030e-01,  1.71829760e-02,\n",
       "          3.17319244e-01,  1.15784079e-01,  1.12374634e-01,\n",
       "         -1.17281049e-01,  2.70008653e-01, -2.26730824e-01,\n",
       "          9.40847397e-02,  6.11781180e-02,  3.25344890e-01,\n",
       "         -6.43687248e-02, -8.31536353e-02, -3.28192711e-02]], dtype=float32)>,\n",
       " <tf.Variable 'dense_1/bias:0' shape=(18,) dtype=float32, numpy=\n",
       " array([0., 0., 0., 0., 0., 0., 0., 0., 0., 0., 0., 0., 0., 0., 0., 0., 0.,\n",
       "        0.], dtype=float32)>,\n",
       " <tf.Variable 'dense_2/kernel:0' shape=(18, 9) dtype=float32, numpy=\n",
       " array([[-0.3548333 , -0.06006488, -0.28552592, -0.04174742, -0.03533593,\n",
       "          0.14110336, -0.44680244,  0.26396415, -0.03563836],\n",
       "        [-0.4261307 ,  0.04580972, -0.1583392 , -0.1706528 , -0.14543685,\n",
       "          0.27169356, -0.40287217, -0.145186  ,  0.15875491],\n",
       "        [-0.09721559, -0.09951985,  0.00615951, -0.12179676, -0.3412764 ,\n",
       "         -0.16220254,  0.2946348 , -0.23400132,  0.1705021 ],\n",
       "        [-0.36873448,  0.37897208,  0.10918024,  0.06813392,  0.44768104,\n",
       "         -0.25140518,  0.11470768,  0.18570396,  0.07861379],\n",
       "        [ 0.36038604, -0.41360906,  0.0236091 , -0.02460971, -0.20466948,\n",
       "          0.19489083, -0.358199  ,  0.44240716, -0.2070477 ],\n",
       "        [ 0.4511173 ,  0.01755804,  0.36975667, -0.03013209, -0.2833302 ,\n",
       "          0.26107702, -0.10389784, -0.04852945, -0.1275503 ],\n",
       "        [ 0.3781139 , -0.21583751, -0.25402153, -0.37702054, -0.09255719,\n",
       "          0.4446585 ,  0.1391373 ,  0.40814558, -0.02637348],\n",
       "        [-0.1607509 , -0.40582168, -0.25501812,  0.20248953,  0.1766372 ,\n",
       "         -0.31462938, -0.07578802,  0.04028329,  0.14083216],\n",
       "        [-0.22579415,  0.003521  ,  0.22146866, -0.37135804,  0.30111304,\n",
       "          0.01799008,  0.47016945, -0.10491362,  0.35982248],\n",
       "        [-0.3361562 ,  0.07468489, -0.1784276 ,  0.41457292, -0.00387278,\n",
       "         -0.07971182,  0.08089158, -0.41560087,  0.42002258],\n",
       "        [ 0.19294557,  0.04970393,  0.32811794, -0.19087252, -0.3240923 ,\n",
       "          0.03620067, -0.44844157, -0.05204406, -0.45550066],\n",
       "        [ 0.22361901, -0.2714463 , -0.26780963,  0.222873  ,  0.0925639 ,\n",
       "          0.46744612,  0.19257537,  0.39286068,  0.34163907],\n",
       "        [ 0.14004299, -0.06447119, -0.32906145, -0.2560792 , -0.3633818 ,\n",
       "          0.37525192, -0.01006648, -0.44735327, -0.4487801 ],\n",
       "        [-0.31186545,  0.25529596, -0.4439277 ,  0.38948712, -0.3627495 ,\n",
       "         -0.26651475,  0.0290412 , -0.3058653 ,  0.1507465 ],\n",
       "        [ 0.45777783,  0.2799615 ,  0.03505698,  0.19529995, -0.2710121 ,\n",
       "          0.2513366 , -0.39447978,  0.19481418, -0.2068665 ],\n",
       "        [ 0.20929328, -0.09268677, -0.22326669, -0.17413628, -0.33443773,\n",
       "         -0.17807144,  0.19238272, -0.2020267 ,  0.2791141 ],\n",
       "        [ 0.02856398,  0.26470247, -0.01927257, -0.01072732, -0.2812674 ,\n",
       "         -0.41519916, -0.15396771, -0.18136936, -0.41969314],\n",
       "        [-0.03188291,  0.05312797, -0.3842999 , -0.05672246,  0.34505454,\n",
       "          0.2395173 ,  0.41195318,  0.2381179 ,  0.21371284]],\n",
       "       dtype=float32)>,\n",
       " <tf.Variable 'dense_2/bias:0' shape=(9,) dtype=float32, numpy=array([0., 0., 0., 0., 0., 0., 0., 0., 0.], dtype=float32)>,\n",
       " <tf.Variable 'dense_3/kernel:0' shape=(9, 1) dtype=float32, numpy=\n",
       " array([[-0.16996789],\n",
       "        [-0.03710371],\n",
       "        [-0.05841023],\n",
       "        [-0.18295002],\n",
       "        [-0.10246319],\n",
       "        [ 0.44066834],\n",
       "        [-0.5756072 ],\n",
       "        [ 0.31182623],\n",
       "        [-0.3816182 ]], dtype=float32)>,\n",
       " <tf.Variable 'dense_3/bias:0' shape=(1,) dtype=float32, numpy=array([0.], dtype=float32)>]"
      ]
     },
     "execution_count": 29,
     "metadata": {},
     "output_type": "execute_result"
    }
   ],
   "source": [
    "model.weights"
   ]
  },
  {
   "cell_type": "code",
   "execution_count": 30,
   "metadata": {},
   "outputs": [],
   "source": [
    "from tensorflow.keras.callbacks import EarlyStopping\n",
    "early_stop = EarlyStopping(monitor = \"val_loss\", mode = \"min\", verbose = 1, patience = 15, restore_best_weights = True)"
   ]
  },
  {
   "cell_type": "code",
   "execution_count": 31,
   "metadata": {},
   "outputs": [
    {
     "name": "stdout",
     "output_type": "stream",
     "text": [
      "Epoch 1/600\n",
      "254/254 [==============================] - 1s 1ms/step - loss: 0.4875 - accuracy: 0.7958 - val_loss: 0.4530 - val_accuracy: 0.7978\n",
      "Epoch 2/600\n",
      "254/254 [==============================] - 0s 1ms/step - loss: 0.4405 - accuracy: 0.8081 - val_loss: 0.4018 - val_accuracy: 0.8256\n",
      "Epoch 3/600\n",
      "254/254 [==============================] - 0s 823us/step - loss: 0.3939 - accuracy: 0.8314 - val_loss: 0.3670 - val_accuracy: 0.8433\n",
      "Epoch 4/600\n",
      "254/254 [==============================] - 0s 810us/step - loss: 0.3703 - accuracy: 0.8441 - val_loss: 0.3534 - val_accuracy: 0.8444\n",
      "Epoch 5/600\n",
      "254/254 [==============================] - 0s 802us/step - loss: 0.3600 - accuracy: 0.8493 - val_loss: 0.3515 - val_accuracy: 0.8500\n",
      "Epoch 6/600\n",
      "254/254 [==============================] - 0s 808us/step - loss: 0.3585 - accuracy: 0.8511 - val_loss: 0.3477 - val_accuracy: 0.8511\n",
      "Epoch 7/600\n",
      "254/254 [==============================] - 0s 803us/step - loss: 0.3551 - accuracy: 0.8533 - val_loss: 0.3450 - val_accuracy: 0.8544\n",
      "Epoch 8/600\n",
      "254/254 [==============================] - 0s 799us/step - loss: 0.3513 - accuracy: 0.8560 - val_loss: 0.3421 - val_accuracy: 0.8544\n",
      "Epoch 9/600\n",
      "254/254 [==============================] - 0s 801us/step - loss: 0.3503 - accuracy: 0.8549 - val_loss: 0.3434 - val_accuracy: 0.8533\n",
      "Epoch 10/600\n",
      "254/254 [==============================] - 0s 852us/step - loss: 0.3476 - accuracy: 0.8572 - val_loss: 0.3416 - val_accuracy: 0.8544\n",
      "Epoch 11/600\n",
      "254/254 [==============================] - 0s 870us/step - loss: 0.3461 - accuracy: 0.8562 - val_loss: 0.3464 - val_accuracy: 0.8522\n",
      "Epoch 12/600\n",
      "254/254 [==============================] - 0s 817us/step - loss: 0.3456 - accuracy: 0.8567 - val_loss: 0.3406 - val_accuracy: 0.8567\n",
      "Epoch 13/600\n",
      "254/254 [==============================] - 0s 852us/step - loss: 0.3443 - accuracy: 0.8564 - val_loss: 0.3349 - val_accuracy: 0.8611\n",
      "Epoch 14/600\n",
      "254/254 [==============================] - 0s 951us/step - loss: 0.3421 - accuracy: 0.8585 - val_loss: 0.3517 - val_accuracy: 0.8522\n",
      "Epoch 15/600\n",
      "254/254 [==============================] - 0s 815us/step - loss: 0.3435 - accuracy: 0.8589 - val_loss: 0.3332 - val_accuracy: 0.8567\n",
      "Epoch 16/600\n",
      "254/254 [==============================] - 0s 800us/step - loss: 0.3418 - accuracy: 0.8570 - val_loss: 0.3345 - val_accuracy: 0.8600\n",
      "Epoch 17/600\n",
      "254/254 [==============================] - 0s 871us/step - loss: 0.3418 - accuracy: 0.8584 - val_loss: 0.3352 - val_accuracy: 0.8578\n",
      "Epoch 18/600\n",
      "254/254 [==============================] - 0s 844us/step - loss: 0.3404 - accuracy: 0.8570 - val_loss: 0.3400 - val_accuracy: 0.8589\n",
      "Epoch 19/600\n",
      "254/254 [==============================] - 0s 814us/step - loss: 0.3395 - accuracy: 0.8583 - val_loss: 0.3304 - val_accuracy: 0.8611\n",
      "Epoch 20/600\n",
      "254/254 [==============================] - 0s 807us/step - loss: 0.3403 - accuracy: 0.8611 - val_loss: 0.3321 - val_accuracy: 0.8600\n",
      "Epoch 21/600\n",
      "254/254 [==============================] - 0s 810us/step - loss: 0.3375 - accuracy: 0.8598 - val_loss: 0.3309 - val_accuracy: 0.8544\n",
      "Epoch 22/600\n",
      "254/254 [==============================] - 0s 818us/step - loss: 0.3367 - accuracy: 0.8611 - val_loss: 0.3330 - val_accuracy: 0.8611\n",
      "Epoch 23/600\n",
      "254/254 [==============================] - 0s 998us/step - loss: 0.3379 - accuracy: 0.8606 - val_loss: 0.3317 - val_accuracy: 0.8611\n",
      "Epoch 24/600\n",
      "254/254 [==============================] - 0s 854us/step - loss: 0.3382 - accuracy: 0.8596 - val_loss: 0.3300 - val_accuracy: 0.8667\n",
      "Epoch 25/600\n",
      "254/254 [==============================] - 0s 837us/step - loss: 0.3393 - accuracy: 0.8595 - val_loss: 0.3431 - val_accuracy: 0.8489\n",
      "Epoch 26/600\n",
      "254/254 [==============================] - 0s 825us/step - loss: 0.3367 - accuracy: 0.8615 - val_loss: 0.3346 - val_accuracy: 0.8567\n",
      "Epoch 27/600\n",
      "254/254 [==============================] - 0s 825us/step - loss: 0.3342 - accuracy: 0.8605 - val_loss: 0.3332 - val_accuracy: 0.8589\n",
      "Epoch 28/600\n",
      "254/254 [==============================] - 0s 834us/step - loss: 0.3354 - accuracy: 0.8623 - val_loss: 0.3311 - val_accuracy: 0.8544\n",
      "Epoch 29/600\n",
      "254/254 [==============================] - 0s 854us/step - loss: 0.3352 - accuracy: 0.8609 - val_loss: 0.3310 - val_accuracy: 0.8622\n",
      "Epoch 30/600\n",
      "254/254 [==============================] - 0s 807us/step - loss: 0.3346 - accuracy: 0.8616 - val_loss: 0.3272 - val_accuracy: 0.8611\n",
      "Epoch 31/600\n",
      "254/254 [==============================] - 0s 898us/step - loss: 0.3339 - accuracy: 0.8641 - val_loss: 0.3288 - val_accuracy: 0.8589\n",
      "Epoch 32/600\n",
      "254/254 [==============================] - 0s 814us/step - loss: 0.3327 - accuracy: 0.8621 - val_loss: 0.3273 - val_accuracy: 0.8633\n",
      "Epoch 33/600\n",
      "254/254 [==============================] - 0s 816us/step - loss: 0.3327 - accuracy: 0.8601 - val_loss: 0.3311 - val_accuracy: 0.8622\n",
      "Epoch 34/600\n",
      "254/254 [==============================] - 0s 808us/step - loss: 0.3334 - accuracy: 0.8609 - val_loss: 0.3257 - val_accuracy: 0.8633\n",
      "Epoch 35/600\n",
      "254/254 [==============================] - 0s 802us/step - loss: 0.3308 - accuracy: 0.8640 - val_loss: 0.3298 - val_accuracy: 0.8644\n",
      "Epoch 36/600\n",
      "254/254 [==============================] - 0s 833us/step - loss: 0.3303 - accuracy: 0.8619 - val_loss: 0.3238 - val_accuracy: 0.8656\n",
      "Epoch 37/600\n",
      "254/254 [==============================] - 0s 866us/step - loss: 0.3307 - accuracy: 0.8615 - val_loss: 0.3254 - val_accuracy: 0.8667\n",
      "Epoch 38/600\n",
      "254/254 [==============================] - 0s 833us/step - loss: 0.3322 - accuracy: 0.8615 - val_loss: 0.3394 - val_accuracy: 0.8511\n",
      "Epoch 39/600\n",
      "254/254 [==============================] - 0s 816us/step - loss: 0.3302 - accuracy: 0.8621 - val_loss: 0.3466 - val_accuracy: 0.8556\n",
      "Epoch 40/600\n",
      "254/254 [==============================] - 0s 810us/step - loss: 0.3305 - accuracy: 0.8623 - val_loss: 0.3266 - val_accuracy: 0.8656\n",
      "Epoch 41/600\n",
      "254/254 [==============================] - 0s 826us/step - loss: 0.3294 - accuracy: 0.8642 - val_loss: 0.3217 - val_accuracy: 0.8633\n",
      "Epoch 42/600\n",
      "254/254 [==============================] - 0s 831us/step - loss: 0.3283 - accuracy: 0.8637 - val_loss: 0.3304 - val_accuracy: 0.8600\n",
      "Epoch 43/600\n",
      "254/254 [==============================] - 0s 1ms/step - loss: 0.3290 - accuracy: 0.8642 - val_loss: 0.3321 - val_accuracy: 0.8544\n",
      "Epoch 44/600\n",
      "254/254 [==============================] - 0s 828us/step - loss: 0.3295 - accuracy: 0.8637 - val_loss: 0.3305 - val_accuracy: 0.8644\n",
      "Epoch 45/600\n",
      "254/254 [==============================] - 0s 819us/step - loss: 0.3281 - accuracy: 0.8659 - val_loss: 0.3299 - val_accuracy: 0.8611\n",
      "Epoch 46/600\n",
      "254/254 [==============================] - 0s 811us/step - loss: 0.3288 - accuracy: 0.8649 - val_loss: 0.3214 - val_accuracy: 0.8622\n",
      "Epoch 47/600\n",
      "254/254 [==============================] - 0s 816us/step - loss: 0.3266 - accuracy: 0.8668 - val_loss: 0.3225 - val_accuracy: 0.8644\n",
      "Epoch 48/600\n",
      "254/254 [==============================] - 0s 820us/step - loss: 0.3270 - accuracy: 0.8633 - val_loss: 0.3239 - val_accuracy: 0.8656\n",
      "Epoch 49/600\n",
      "254/254 [==============================] - 0s 813us/step - loss: 0.3259 - accuracy: 0.8643 - val_loss: 0.3234 - val_accuracy: 0.8667\n",
      "Epoch 50/600\n",
      "254/254 [==============================] - 0s 815us/step - loss: 0.3250 - accuracy: 0.8674 - val_loss: 0.3245 - val_accuracy: 0.8622\n",
      "Epoch 51/600\n",
      "254/254 [==============================] - 0s 810us/step - loss: 0.3247 - accuracy: 0.8675 - val_loss: 0.3265 - val_accuracy: 0.8611\n",
      "Epoch 52/600\n",
      "254/254 [==============================] - 0s 819us/step - loss: 0.3253 - accuracy: 0.8637 - val_loss: 0.3286 - val_accuracy: 0.8611\n",
      "Epoch 53/600\n",
      "254/254 [==============================] - 0s 828us/step - loss: 0.3250 - accuracy: 0.8660 - val_loss: 0.3220 - val_accuracy: 0.8633\n",
      "Epoch 54/600\n",
      "254/254 [==============================] - 0s 843us/step - loss: 0.3245 - accuracy: 0.8642 - val_loss: 0.3211 - val_accuracy: 0.8611\n",
      "Epoch 55/600\n",
      "254/254 [==============================] - 0s 993us/step - loss: 0.3230 - accuracy: 0.8657 - val_loss: 0.3197 - val_accuracy: 0.8689\n",
      "Epoch 56/600\n",
      "254/254 [==============================] - 0s 1ms/step - loss: 0.3230 - accuracy: 0.8665 - val_loss: 0.3189 - val_accuracy: 0.8633\n",
      "Epoch 57/600\n",
      "254/254 [==============================] - 0s 855us/step - loss: 0.3231 - accuracy: 0.8663 - val_loss: 0.3231 - val_accuracy: 0.8633\n",
      "Epoch 58/600\n",
      "254/254 [==============================] - 0s 826us/step - loss: 0.3220 - accuracy: 0.8663 - val_loss: 0.3188 - val_accuracy: 0.8667\n",
      "Epoch 59/600\n",
      "254/254 [==============================] - 0s 808us/step - loss: 0.3230 - accuracy: 0.8648 - val_loss: 0.3214 - val_accuracy: 0.8633\n",
      "Epoch 60/600\n",
      "254/254 [==============================] - 0s 814us/step - loss: 0.3215 - accuracy: 0.8674 - val_loss: 0.3216 - val_accuracy: 0.8633\n",
      "Epoch 61/600\n",
      "254/254 [==============================] - 0s 817us/step - loss: 0.3220 - accuracy: 0.8656 - val_loss: 0.3166 - val_accuracy: 0.8667\n",
      "Epoch 62/600\n",
      "254/254 [==============================] - 0s 822us/step - loss: 0.3217 - accuracy: 0.8652 - val_loss: 0.3192 - val_accuracy: 0.8611\n",
      "Epoch 63/600\n",
      "254/254 [==============================] - 0s 877us/step - loss: 0.3230 - accuracy: 0.8640 - val_loss: 0.3210 - val_accuracy: 0.8656\n",
      "Epoch 64/600\n",
      "254/254 [==============================] - 0s 811us/step - loss: 0.3223 - accuracy: 0.8657 - val_loss: 0.3239 - val_accuracy: 0.8633\n",
      "Epoch 65/600\n",
      "254/254 [==============================] - 0s 821us/step - loss: 0.3220 - accuracy: 0.8643 - val_loss: 0.3163 - val_accuracy: 0.8678\n",
      "Epoch 66/600\n",
      "254/254 [==============================] - 0s 811us/step - loss: 0.3217 - accuracy: 0.8663 - val_loss: 0.3205 - val_accuracy: 0.8644\n",
      "Epoch 67/600\n",
      "254/254 [==============================] - 0s 818us/step - loss: 0.3196 - accuracy: 0.8667 - val_loss: 0.3183 - val_accuracy: 0.8622\n",
      "Epoch 68/600\n",
      "254/254 [==============================] - 0s 816us/step - loss: 0.3212 - accuracy: 0.8664 - val_loss: 0.3216 - val_accuracy: 0.8689\n",
      "Epoch 69/600\n",
      "254/254 [==============================] - 0s 827us/step - loss: 0.3202 - accuracy: 0.8668 - val_loss: 0.3213 - val_accuracy: 0.8611\n",
      "Epoch 70/600\n",
      "254/254 [==============================] - 0s 820us/step - loss: 0.3208 - accuracy: 0.8667 - val_loss: 0.3239 - val_accuracy: 0.8622\n",
      "Epoch 71/600\n",
      "254/254 [==============================] - 0s 811us/step - loss: 0.3199 - accuracy: 0.8667 - val_loss: 0.3176 - val_accuracy: 0.8611\n",
      "Epoch 72/600\n",
      "254/254 [==============================] - 0s 821us/step - loss: 0.3183 - accuracy: 0.8664 - val_loss: 0.3276 - val_accuracy: 0.8656\n",
      "Epoch 73/600\n",
      "254/254 [==============================] - 0s 823us/step - loss: 0.3194 - accuracy: 0.8668 - val_loss: 0.3163 - val_accuracy: 0.8644\n",
      "Epoch 74/600\n",
      "254/254 [==============================] - 0s 822us/step - loss: 0.3179 - accuracy: 0.8685 - val_loss: 0.3176 - val_accuracy: 0.8656\n",
      "Epoch 75/600\n",
      "254/254 [==============================] - 0s 818us/step - loss: 0.3185 - accuracy: 0.8675 - val_loss: 0.3241 - val_accuracy: 0.8656\n",
      "Epoch 76/600\n",
      "254/254 [==============================] - 0s 814us/step - loss: 0.3178 - accuracy: 0.8688 - val_loss: 0.3151 - val_accuracy: 0.8667\n",
      "Epoch 77/600\n",
      "254/254 [==============================] - 0s 816us/step - loss: 0.3192 - accuracy: 0.8679 - val_loss: 0.3166 - val_accuracy: 0.8667\n",
      "Epoch 78/600\n",
      "254/254 [==============================] - 0s 813us/step - loss: 0.3185 - accuracy: 0.8679 - val_loss: 0.3177 - val_accuracy: 0.8633\n",
      "Epoch 79/600\n",
      "254/254 [==============================] - 0s 827us/step - loss: 0.3176 - accuracy: 0.8667 - val_loss: 0.3260 - val_accuracy: 0.8622\n",
      "Epoch 80/600\n",
      "254/254 [==============================] - 0s 819us/step - loss: 0.3177 - accuracy: 0.8674 - val_loss: 0.3145 - val_accuracy: 0.8722\n",
      "Epoch 81/600\n",
      "254/254 [==============================] - 0s 822us/step - loss: 0.3162 - accuracy: 0.8690 - val_loss: 0.3150 - val_accuracy: 0.8678\n",
      "Epoch 82/600\n",
      "254/254 [==============================] - 0s 823us/step - loss: 0.3174 - accuracy: 0.8678 - val_loss: 0.3181 - val_accuracy: 0.8667\n",
      "Epoch 83/600\n",
      "254/254 [==============================] - 0s 808us/step - loss: 0.3169 - accuracy: 0.8660 - val_loss: 0.3138 - val_accuracy: 0.8667\n",
      "Epoch 84/600\n",
      "254/254 [==============================] - 0s 818us/step - loss: 0.3157 - accuracy: 0.8696 - val_loss: 0.3198 - val_accuracy: 0.8667\n",
      "Epoch 85/600\n",
      "254/254 [==============================] - 0s 818us/step - loss: 0.3165 - accuracy: 0.8678 - val_loss: 0.3215 - val_accuracy: 0.8767\n",
      "Epoch 86/600\n",
      "254/254 [==============================] - 0s 807us/step - loss: 0.3184 - accuracy: 0.8677 - val_loss: 0.3182 - val_accuracy: 0.8656\n",
      "Epoch 87/600\n",
      "254/254 [==============================] - 0s 808us/step - loss: 0.3154 - accuracy: 0.8688 - val_loss: 0.3241 - val_accuracy: 0.8700\n",
      "Epoch 88/600\n",
      "254/254 [==============================] - 0s 820us/step - loss: 0.3173 - accuracy: 0.8679 - val_loss: 0.3238 - val_accuracy: 0.8633\n",
      "Epoch 89/600\n",
      "254/254 [==============================] - 0s 815us/step - loss: 0.3167 - accuracy: 0.8693 - val_loss: 0.3209 - val_accuracy: 0.8633\n",
      "Epoch 90/600\n",
      "254/254 [==============================] - 0s 818us/step - loss: 0.3155 - accuracy: 0.8665 - val_loss: 0.3138 - val_accuracy: 0.8678\n",
      "Epoch 91/600\n",
      "254/254 [==============================] - 0s 819us/step - loss: 0.3156 - accuracy: 0.8706 - val_loss: 0.3183 - val_accuracy: 0.8678\n",
      "Epoch 92/600\n",
      "254/254 [==============================] - 0s 822us/step - loss: 0.3148 - accuracy: 0.8709 - val_loss: 0.3188 - val_accuracy: 0.8644\n",
      "Epoch 93/600\n",
      "254/254 [==============================] - 0s 826us/step - loss: 0.3156 - accuracy: 0.8674 - val_loss: 0.3228 - val_accuracy: 0.8667\n",
      "Epoch 94/600\n",
      "254/254 [==============================] - 0s 819us/step - loss: 0.3149 - accuracy: 0.8690 - val_loss: 0.3138 - val_accuracy: 0.8678\n",
      "Epoch 95/600\n",
      "254/254 [==============================] - 0s 822us/step - loss: 0.3144 - accuracy: 0.8680 - val_loss: 0.3152 - val_accuracy: 0.8644\n",
      "Epoch 96/600\n",
      "254/254 [==============================] - 0s 817us/step - loss: 0.3147 - accuracy: 0.8698 - val_loss: 0.3207 - val_accuracy: 0.8622\n",
      "Epoch 97/600\n",
      "254/254 [==============================] - 0s 1ms/step - loss: 0.3148 - accuracy: 0.8702 - val_loss: 0.3198 - val_accuracy: 0.8711\n",
      "Epoch 98/600\n",
      "209/254 [=======================>......] - ETA: 0s - loss: 0.3127 - accuracy: 0.8692Restoring model weights from the end of the best epoch: 83.\n",
      "254/254 [==============================] - 0s 830us/step - loss: 0.3145 - accuracy: 0.8677 - val_loss: 0.3176 - val_accuracy: 0.8678\n",
      "Epoch 98: early stopping\n"
     ]
    },
    {
     "data": {
      "text/plain": [
       "<keras.callbacks.History at 0x7f8cd307d0d0>"
      ]
     },
     "execution_count": 31,
     "metadata": {},
     "output_type": "execute_result"
    }
   ],
   "source": [
    "model.fit(x=X_train, \n",
    "          y=y_train, \n",
    "          validation_data=(X_val, y_val), \n",
    "          batch_size=32, \n",
    "          epochs=600,\n",
    "          verbose=1,callbacks = [early_stop])\n",
    "\n",
    "\n",
    "#  validation_data=(X_val, y_val) I'm using the validation data I reserved above"
   ]
  },
  {
   "cell_type": "code",
   "execution_count": 32,
   "metadata": {},
   "outputs": [
    {
     "data": {
      "text/html": [
       "<div>\n",
       "<style scoped>\n",
       "    .dataframe tbody tr th:only-of-type {\n",
       "        vertical-align: middle;\n",
       "    }\n",
       "\n",
       "    .dataframe tbody tr th {\n",
       "        vertical-align: top;\n",
       "    }\n",
       "\n",
       "    .dataframe thead th {\n",
       "        text-align: right;\n",
       "    }\n",
       "</style>\n",
       "<table border=\"1\" class=\"dataframe\">\n",
       "  <thead>\n",
       "    <tr style=\"text-align: right;\">\n",
       "      <th></th>\n",
       "      <th>loss</th>\n",
       "      <th>accuracy</th>\n",
       "      <th>val_loss</th>\n",
       "      <th>val_accuracy</th>\n",
       "    </tr>\n",
       "  </thead>\n",
       "  <tbody>\n",
       "    <tr>\n",
       "      <th>0</th>\n",
       "      <td>0.488</td>\n",
       "      <td>0.796</td>\n",
       "      <td>0.453</td>\n",
       "      <td>0.798</td>\n",
       "    </tr>\n",
       "    <tr>\n",
       "      <th>1</th>\n",
       "      <td>0.440</td>\n",
       "      <td>0.808</td>\n",
       "      <td>0.402</td>\n",
       "      <td>0.826</td>\n",
       "    </tr>\n",
       "    <tr>\n",
       "      <th>2</th>\n",
       "      <td>0.394</td>\n",
       "      <td>0.831</td>\n",
       "      <td>0.367</td>\n",
       "      <td>0.843</td>\n",
       "    </tr>\n",
       "    <tr>\n",
       "      <th>3</th>\n",
       "      <td>0.370</td>\n",
       "      <td>0.844</td>\n",
       "      <td>0.353</td>\n",
       "      <td>0.844</td>\n",
       "    </tr>\n",
       "    <tr>\n",
       "      <th>4</th>\n",
       "      <td>0.360</td>\n",
       "      <td>0.849</td>\n",
       "      <td>0.351</td>\n",
       "      <td>0.850</td>\n",
       "    </tr>\n",
       "  </tbody>\n",
       "</table>\n",
       "</div>"
      ],
      "text/plain": [
       "   loss  accuracy  val_loss  val_accuracy\n",
       "0 0.488     0.796     0.453         0.798\n",
       "1 0.440     0.808     0.402         0.826\n",
       "2 0.394     0.831     0.367         0.843\n",
       "3 0.370     0.844     0.353         0.844\n",
       "4 0.360     0.849     0.351         0.850"
      ]
     },
     "execution_count": 32,
     "metadata": {},
     "output_type": "execute_result"
    }
   ],
   "source": [
    "loss_df = pd.DataFrame(model.history.history)\n",
    "loss_df.head()"
   ]
  },
  {
   "cell_type": "code",
   "execution_count": 33,
   "metadata": {},
   "outputs": [
    {
     "data": {
      "image/png": "[encoded data removed]",
      "text/plain": [
       "<Figure size 720x432 with 1 Axes>"
      ]
     },
     "metadata": {},
     "output_type": "display_data"
    }
   ],
   "source": [
    "loss_df.plot(subplots=())\n",
    "plt.show()"
   ]
  },
  {
   "cell_type": "code",
   "execution_count": 34,
   "metadata": {},
   "outputs": [
    {
     "data": {
      "text/plain": [
       "[0.3656381368637085, 0.8529999852180481]"
      ]
     },
     "execution_count": 34,
     "metadata": {},
     "output_type": "execute_result"
    }
   ],
   "source": [
    "model.evaluate(X_test, y_test, verbose=0)"
   ]
  },
  {
   "cell_type": "code",
   "execution_count": 35,
   "metadata": {},
   "outputs": [
    {
     "name": "stdout",
     "output_type": "stream",
     "text": [
      "loss :  0.3656381368637085\n",
      "accuracy :  0.8529999852180481\n"
     ]
    }
   ],
   "source": [
    "loss, accuracy = model.evaluate(X_test, y_test, verbose=0)\n",
    "print(\"loss : \", loss)\n",
    "print(\"accuracy : \", accuracy)"
   ]
  },
  {
   "cell_type": "code",
   "execution_count": 36,
   "metadata": {
    "tags": []
   },
   "outputs": [
    {
     "name": "stdout",
     "output_type": "stream",
     "text": [
      "32/32 [==============================] - 0s 554us/step\n",
      "[[750  46]\n",
      " [101 103]]\n",
      "              precision    recall  f1-score   support\n",
      "\n",
      "           0       0.88      0.94      0.91       796\n",
      "           1       0.69      0.50      0.58       204\n",
      "\n",
      "    accuracy                           0.85      1000\n",
      "   macro avg       0.79      0.72      0.75      1000\n",
      "weighted avg       0.84      0.85      0.84      1000\n",
      "\n"
     ]
    }
   ],
   "source": [
    "y_pred = model.predict(X_test) > 0.5\n",
    "print(confusion_matrix(y_test, y_pred))\n",
    "print(classification_report(y_test, y_pred))"
   ]
  },
  {
   "cell_type": "markdown",
   "metadata": {},
   "source": [
    "## learning rate"
   ]
  },
  {
   "cell_type": "code",
   "execution_count": 37,
   "metadata": {},
   "outputs": [],
   "source": [
    "from tensorflow.keras.optimizers import Adam"
   ]
  },
  {
   "cell_type": "code",
   "execution_count": 38,
   "metadata": {},
   "outputs": [],
   "source": [
    "model = Sequential()\n",
    "\n",
    "model.add(Dense(36, activation = \"relu\", input_dim = X_train.shape[1]))\n",
    "model.add(Dense(18, activation = \"relu\"))\n",
    "model.add(Dense(9, activation = \"relu\"))\n",
    "model.add(Dense(1, activation = \"sigmoid\"))\n",
    "\n",
    "opt = Adam(learning_rate=  0.005)\n",
    "\n",
    "model.compile(optimizer = opt, loss = \"binary_crossentropy\", metrics = [\"accuracy\"])"
   ]
  },
  {
   "cell_type": "code",
   "execution_count": 39,
   "metadata": {},
   "outputs": [],
   "source": [
    "early_stop = EarlyStopping(monitor = \"val_loss\", mode = \"min\", verbose = 1, patience = 15, restore_best_weights = True)"
   ]
  },
  {
   "cell_type": "code",
   "execution_count": 40,
   "metadata": {
    "tags": []
   },
   "outputs": [
    {
     "name": "stdout",
     "output_type": "stream",
     "text": [
      "Epoch 1/600\n",
      "254/254 [==============================] - 1s 1ms/step - loss: 0.4602 - accuracy: 0.8021 - val_loss: 0.4068 - val_accuracy: 0.8233\n",
      "Epoch 2/600\n",
      "254/254 [==============================] - 0s 885us/step - loss: 0.3963 - accuracy: 0.8340 - val_loss: 0.3801 - val_accuracy: 0.8411\n",
      "Epoch 3/600\n",
      "254/254 [==============================] - 0s 825us/step - loss: 0.3665 - accuracy: 0.8444 - val_loss: 0.3498 - val_accuracy: 0.8544\n",
      "Epoch 4/600\n",
      "254/254 [==============================] - 0s 816us/step - loss: 0.3577 - accuracy: 0.8541 - val_loss: 0.3611 - val_accuracy: 0.8467\n",
      "Epoch 5/600\n",
      "254/254 [==============================] - 0s 827us/step - loss: 0.3520 - accuracy: 0.8563 - val_loss: 0.3487 - val_accuracy: 0.8533\n",
      "Epoch 6/600\n",
      "254/254 [==============================] - 0s 829us/step - loss: 0.3527 - accuracy: 0.8531 - val_loss: 0.3411 - val_accuracy: 0.8644\n",
      "Epoch 7/600\n",
      "254/254 [==============================] - 0s 813us/step - loss: 0.3464 - accuracy: 0.8560 - val_loss: 0.3414 - val_accuracy: 0.8589\n",
      "Epoch 8/600\n",
      "254/254 [==============================] - 0s 812us/step - loss: 0.3456 - accuracy: 0.8601 - val_loss: 0.3541 - val_accuracy: 0.8511\n",
      "Epoch 9/600\n",
      "254/254 [==============================] - 0s 815us/step - loss: 0.3450 - accuracy: 0.8588 - val_loss: 0.3404 - val_accuracy: 0.8667\n",
      "Epoch 10/600\n",
      "254/254 [==============================] - 0s 818us/step - loss: 0.3435 - accuracy: 0.8588 - val_loss: 0.3482 - val_accuracy: 0.8589\n",
      "Epoch 11/600\n",
      "254/254 [==============================] - 0s 811us/step - loss: 0.3424 - accuracy: 0.8583 - val_loss: 0.3323 - val_accuracy: 0.8711\n",
      "Epoch 12/600\n",
      "254/254 [==============================] - 0s 824us/step - loss: 0.3396 - accuracy: 0.8646 - val_loss: 0.3350 - val_accuracy: 0.8622\n",
      "Epoch 13/600\n",
      "254/254 [==============================] - 0s 801us/step - loss: 0.3374 - accuracy: 0.8620 - val_loss: 0.3278 - val_accuracy: 0.8722\n",
      "Epoch 14/600\n",
      "254/254 [==============================] - 0s 809us/step - loss: 0.3387 - accuracy: 0.8621 - val_loss: 0.3222 - val_accuracy: 0.8700\n",
      "Epoch 15/600\n",
      "254/254 [==============================] - 0s 820us/step - loss: 0.3363 - accuracy: 0.8614 - val_loss: 0.3374 - val_accuracy: 0.8644\n",
      "Epoch 16/600\n",
      "254/254 [==============================] - 0s 807us/step - loss: 0.3383 - accuracy: 0.8631 - val_loss: 0.3199 - val_accuracy: 0.8700\n",
      "Epoch 17/600\n",
      "254/254 [==============================] - 0s 817us/step - loss: 0.3326 - accuracy: 0.8663 - val_loss: 0.3172 - val_accuracy: 0.8744\n",
      "Epoch 18/600\n",
      "254/254 [==============================] - 0s 814us/step - loss: 0.3334 - accuracy: 0.8632 - val_loss: 0.3299 - val_accuracy: 0.8689\n",
      "Epoch 19/600\n",
      "254/254 [==============================] - 0s 819us/step - loss: 0.3354 - accuracy: 0.8610 - val_loss: 0.3344 - val_accuracy: 0.8700\n",
      "Epoch 20/600\n",
      "254/254 [==============================] - 0s 811us/step - loss: 0.3323 - accuracy: 0.8637 - val_loss: 0.3247 - val_accuracy: 0.8733\n",
      "Epoch 21/600\n",
      "254/254 [==============================] - 0s 815us/step - loss: 0.3340 - accuracy: 0.8631 - val_loss: 0.3266 - val_accuracy: 0.8667\n",
      "Epoch 22/600\n",
      "254/254 [==============================] - 0s 812us/step - loss: 0.3293 - accuracy: 0.8659 - val_loss: 0.3240 - val_accuracy: 0.8644\n",
      "Epoch 23/600\n",
      "254/254 [==============================] - 0s 813us/step - loss: 0.3305 - accuracy: 0.8632 - val_loss: 0.3296 - val_accuracy: 0.8711\n",
      "Epoch 24/600\n",
      "254/254 [==============================] - 0s 826us/step - loss: 0.3287 - accuracy: 0.8648 - val_loss: 0.3273 - val_accuracy: 0.8700\n",
      "Epoch 25/600\n",
      "254/254 [==============================] - 0s 815us/step - loss: 0.3277 - accuracy: 0.8664 - val_loss: 0.3434 - val_accuracy: 0.8589\n",
      "Epoch 26/600\n",
      "254/254 [==============================] - 0s 814us/step - loss: 0.3261 - accuracy: 0.8679 - val_loss: 0.3192 - val_accuracy: 0.8722\n",
      "Epoch 27/600\n",
      "254/254 [==============================] - 0s 809us/step - loss: 0.3273 - accuracy: 0.8654 - val_loss: 0.3326 - val_accuracy: 0.8678\n",
      "Epoch 28/600\n",
      "254/254 [==============================] - 0s 819us/step - loss: 0.3248 - accuracy: 0.8660 - val_loss: 0.3379 - val_accuracy: 0.8600\n",
      "Epoch 29/600\n",
      "254/254 [==============================] - 0s 814us/step - loss: 0.3240 - accuracy: 0.8680 - val_loss: 0.3360 - val_accuracy: 0.8622\n",
      "Epoch 30/600\n",
      "254/254 [==============================] - 0s 816us/step - loss: 0.3241 - accuracy: 0.8647 - val_loss: 0.3438 - val_accuracy: 0.8633\n",
      "Epoch 31/600\n",
      "254/254 [==============================] - 0s 807us/step - loss: 0.3233 - accuracy: 0.8686 - val_loss: 0.3404 - val_accuracy: 0.8644\n",
      "Epoch 32/600\n",
      "211/254 [=======================>......] - ETA: 0s - loss: 0.3239 - accuracy: 0.8683Restoring model weights from the end of the best epoch: 17.\n",
      "254/254 [==============================] - 0s 819us/step - loss: 0.3233 - accuracy: 0.8691 - val_loss: 0.3216 - val_accuracy: 0.8722\n",
      "Epoch 32: early stopping\n"
     ]
    },
    {
     "data": {
      "text/plain": [
       "<keras.callbacks.History at 0x7f8d00178040>"
      ]
     },
     "execution_count": 40,
     "metadata": {},
     "output_type": "execute_result"
    }
   ],
   "source": [
    "model.fit(\n",
    "    x=X_train,\n",
    "    y=y_train,\n",
    "    validation_data=(X_val, y_val),\n",
    "    batch_size=32,\n",
    "    epochs=600,\n",
    "    verbose=1,\n",
    "    callbacks=[early_stop],\n",
    ")"
   ]
  },
  {
   "cell_type": "code",
   "execution_count": 41,
   "metadata": {},
   "outputs": [
    {
     "data": {
      "image/png": "[encoded data removed]",
      "text/plain": [
       "<Figure size 720x432 with 1 Axes>"
      ]
     },
     "metadata": {},
     "output_type": "display_data"
    }
   ],
   "source": [
    "loss_df = pd.DataFrame(model.history.history)\n",
    "loss_df.plot(subplots=())\n",
    "plt.show()"
   ]
  },
  {
   "cell_type": "code",
   "execution_count": 42,
   "metadata": {},
   "outputs": [
    {
     "name": "stdout",
     "output_type": "stream",
     "text": [
      "loss :  0.3675055205821991\n",
      "accuracy :  0.8460000157356262\n"
     ]
    }
   ],
   "source": [
    "loss, accuracy = model.evaluate(X_test, y_test, verbose=0)\n",
    "print(\"loss : \", loss)\n",
    "print(\"accuracy : \", accuracy)"
   ]
  },
  {
   "cell_type": "code",
   "execution_count": 43,
   "metadata": {
    "tags": []
   },
   "outputs": [
    {
     "name": "stdout",
     "output_type": "stream",
     "text": [
      "32/32 [==============================] - 0s 542us/step\n",
      "[[757  39]\n",
      " [115  89]]\n",
      "              precision    recall  f1-score   support\n",
      "\n",
      "           0       0.87      0.95      0.91       796\n",
      "           1       0.70      0.44      0.54       204\n",
      "\n",
      "    accuracy                           0.85      1000\n",
      "   macro avg       0.78      0.69      0.72      1000\n",
      "weighted avg       0.83      0.85      0.83      1000\n",
      "\n"
     ]
    }
   ],
   "source": [
    "y_pred = model.predict(X_test) > 0.5\n",
    "#y_pred = model.predict_classes(X_test) for tf 2.5.0\n",
    "print(confusion_matrix(y_test, y_pred))\n",
    "print(classification_report(y_test, y_pred))"
   ]
  },
  {
   "cell_type": "markdown",
   "metadata": {},
   "source": [
    "## Dropout"
   ]
  },
  {
   "cell_type": "code",
   "execution_count": 44,
   "metadata": {},
   "outputs": [],
   "source": [
    "from tensorflow.keras.layers import Dropout\n",
    "\n",
    "# Dropout is a regularization technique"
   ]
  },
  {
   "cell_type": "code",
   "execution_count": 45,
   "metadata": {},
   "outputs": [],
   "source": [
    "model = Sequential()\n",
    "\n",
    "model.add(Dense(36, activation=\"relu\", input_dim = X_train.shape[1]))\n",
    "model.add(Dropout(0.5))\n",
    "\n",
    "model.add(Dense(18, activation=\"relu\"))\n",
    "model.add(Dropout(0.5))\n",
    "\n",
    "model.add(Dense(9, activation=\"relu\"))\n",
    "model.add(Dropout(0.5))\n",
    "\n",
    "model.add(Dense(1, activation=\"sigmoid\"))\n",
    "\n",
    "opt = Adam(learning_rate = 0.001)\n",
    "model.compile(optimizer = opt, loss = \"binary_crossentropy\", metrics = [\"accuracy\"])"
   ]
  },
  {
   "cell_type": "code",
   "execution_count": 46,
   "metadata": {},
   "outputs": [
    {
     "name": "stdout",
     "output_type": "stream",
     "text": [
      "Epoch 1/600\n",
      "254/254 [==============================] - 1s 1ms/step - loss: 0.6060 - accuracy: 0.7191 - val_loss: 0.5097 - val_accuracy: 0.7967\n",
      "Epoch 2/600\n",
      "254/254 [==============================] - 0s 866us/step - loss: 0.5322 - accuracy: 0.7954 - val_loss: 0.4829 - val_accuracy: 0.7967\n",
      "Epoch 3/600\n",
      "254/254 [==============================] - 0s 864us/step - loss: 0.5161 - accuracy: 0.7957 - val_loss: 0.4655 - val_accuracy: 0.7967\n",
      "Epoch 4/600\n",
      "254/254 [==============================] - 0s 842us/step - loss: 0.4987 - accuracy: 0.7954 - val_loss: 0.4632 - val_accuracy: 0.7967\n",
      "Epoch 5/600\n",
      "254/254 [==============================] - 0s 836us/step - loss: 0.4946 - accuracy: 0.7967 - val_loss: 0.4582 - val_accuracy: 0.7967\n",
      "Epoch 6/600\n",
      "254/254 [==============================] - 0s 846us/step - loss: 0.4825 - accuracy: 0.7983 - val_loss: 0.4498 - val_accuracy: 0.7967\n",
      "Epoch 7/600\n",
      "254/254 [==============================] - 0s 838us/step - loss: 0.4728 - accuracy: 0.7983 - val_loss: 0.4383 - val_accuracy: 0.7967\n",
      "Epoch 8/600\n",
      "254/254 [==============================] - 0s 854us/step - loss: 0.4699 - accuracy: 0.8015 - val_loss: 0.4339 - val_accuracy: 0.7967\n",
      "Epoch 9/600\n",
      "254/254 [==============================] - 0s 848us/step - loss: 0.4620 - accuracy: 0.7979 - val_loss: 0.4272 - val_accuracy: 0.7967\n",
      "Epoch 10/600\n",
      "254/254 [==============================] - 0s 842us/step - loss: 0.4600 - accuracy: 0.8035 - val_loss: 0.4271 - val_accuracy: 0.7978\n",
      "Epoch 11/600\n",
      "254/254 [==============================] - 0s 850us/step - loss: 0.4550 - accuracy: 0.8026 - val_loss: 0.4215 - val_accuracy: 0.7967\n",
      "Epoch 12/600\n",
      "254/254 [==============================] - 0s 858us/step - loss: 0.4517 - accuracy: 0.8025 - val_loss: 0.4146 - val_accuracy: 0.7978\n",
      "Epoch 13/600\n",
      "254/254 [==============================] - 0s 858us/step - loss: 0.4443 - accuracy: 0.8032 - val_loss: 0.4113 - val_accuracy: 0.7978\n",
      "Epoch 14/600\n",
      "254/254 [==============================] - 0s 845us/step - loss: 0.4425 - accuracy: 0.8049 - val_loss: 0.4111 - val_accuracy: 0.7967\n",
      "Epoch 15/600\n",
      "254/254 [==============================] - 0s 863us/step - loss: 0.4453 - accuracy: 0.8006 - val_loss: 0.4056 - val_accuracy: 0.7978\n",
      "Epoch 16/600\n",
      "254/254 [==============================] - 0s 847us/step - loss: 0.4391 - accuracy: 0.8057 - val_loss: 0.4008 - val_accuracy: 0.7989\n",
      "Epoch 17/600\n",
      "254/254 [==============================] - 0s 836us/step - loss: 0.4351 - accuracy: 0.8037 - val_loss: 0.4008 - val_accuracy: 0.8122\n",
      "Epoch 18/600\n",
      "254/254 [==============================] - 0s 860us/step - loss: 0.4331 - accuracy: 0.8080 - val_loss: 0.3933 - val_accuracy: 0.8100\n",
      "Epoch 19/600\n",
      "254/254 [==============================] - 0s 845us/step - loss: 0.4265 - accuracy: 0.8116 - val_loss: 0.3893 - val_accuracy: 0.8167\n",
      "Epoch 20/600\n",
      "254/254 [==============================] - 0s 846us/step - loss: 0.4224 - accuracy: 0.8135 - val_loss: 0.3853 - val_accuracy: 0.8133\n",
      "Epoch 21/600\n",
      "254/254 [==============================] - 0s 848us/step - loss: 0.4293 - accuracy: 0.8096 - val_loss: 0.3842 - val_accuracy: 0.8256\n",
      "Epoch 22/600\n",
      "254/254 [==============================] - 0s 845us/step - loss: 0.4216 - accuracy: 0.8142 - val_loss: 0.3862 - val_accuracy: 0.8178\n",
      "Epoch 23/600\n",
      "254/254 [==============================] - 0s 843us/step - loss: 0.4250 - accuracy: 0.8131 - val_loss: 0.3818 - val_accuracy: 0.8300\n",
      "Epoch 24/600\n",
      "254/254 [==============================] - 0s 844us/step - loss: 0.4172 - accuracy: 0.8173 - val_loss: 0.3793 - val_accuracy: 0.8322\n",
      "Epoch 25/600\n",
      "254/254 [==============================] - 0s 842us/step - loss: 0.4233 - accuracy: 0.8160 - val_loss: 0.3764 - val_accuracy: 0.8322\n",
      "Epoch 26/600\n",
      "254/254 [==============================] - 0s 849us/step - loss: 0.4170 - accuracy: 0.8198 - val_loss: 0.3773 - val_accuracy: 0.8278\n",
      "Epoch 27/600\n",
      "254/254 [==============================] - 0s 842us/step - loss: 0.4098 - accuracy: 0.8220 - val_loss: 0.3683 - val_accuracy: 0.8389\n",
      "Epoch 28/600\n",
      "254/254 [==============================] - 0s 842us/step - loss: 0.4132 - accuracy: 0.8190 - val_loss: 0.3690 - val_accuracy: 0.8400\n",
      "Epoch 29/600\n",
      "254/254 [==============================] - 0s 847us/step - loss: 0.4124 - accuracy: 0.8201 - val_loss: 0.3656 - val_accuracy: 0.8400\n",
      "Epoch 30/600\n",
      "254/254 [==============================] - 0s 844us/step - loss: 0.4138 - accuracy: 0.8219 - val_loss: 0.3611 - val_accuracy: 0.8467\n",
      "Epoch 31/600\n",
      "254/254 [==============================] - 0s 844us/step - loss: 0.4138 - accuracy: 0.8202 - val_loss: 0.3561 - val_accuracy: 0.8444\n",
      "Epoch 32/600\n",
      "254/254 [==============================] - 0s 850us/step - loss: 0.4127 - accuracy: 0.8233 - val_loss: 0.3639 - val_accuracy: 0.8400\n",
      "Epoch 33/600\n",
      "254/254 [==============================] - 0s 829us/step - loss: 0.4106 - accuracy: 0.8252 - val_loss: 0.3581 - val_accuracy: 0.8411\n",
      "Epoch 34/600\n",
      "254/254 [==============================] - 0s 851us/step - loss: 0.4063 - accuracy: 0.8290 - val_loss: 0.3538 - val_accuracy: 0.8456\n",
      "Epoch 35/600\n",
      "254/254 [==============================] - 0s 850us/step - loss: 0.4121 - accuracy: 0.8238 - val_loss: 0.3578 - val_accuracy: 0.8411\n",
      "Epoch 36/600\n",
      "254/254 [==============================] - 0s 846us/step - loss: 0.4047 - accuracy: 0.8262 - val_loss: 0.3540 - val_accuracy: 0.8444\n",
      "Epoch 37/600\n",
      "254/254 [==============================] - 0s 847us/step - loss: 0.4086 - accuracy: 0.8262 - val_loss: 0.3555 - val_accuracy: 0.8444\n",
      "Epoch 38/600\n",
      "254/254 [==============================] - 0s 842us/step - loss: 0.3968 - accuracy: 0.8323 - val_loss: 0.3458 - val_accuracy: 0.8544\n",
      "Epoch 39/600\n",
      "254/254 [==============================] - 0s 841us/step - loss: 0.4020 - accuracy: 0.8241 - val_loss: 0.3458 - val_accuracy: 0.8511\n",
      "Epoch 40/600\n",
      "254/254 [==============================] - 0s 896us/step - loss: 0.3993 - accuracy: 0.8277 - val_loss: 0.3524 - val_accuracy: 0.8467\n",
      "Epoch 41/600\n",
      "254/254 [==============================] - 0s 883us/step - loss: 0.4077 - accuracy: 0.8258 - val_loss: 0.3498 - val_accuracy: 0.8544\n",
      "Epoch 42/600\n",
      "254/254 [==============================] - 0s 901us/step - loss: 0.3985 - accuracy: 0.8332 - val_loss: 0.3485 - val_accuracy: 0.8522\n",
      "Epoch 43/600\n",
      "254/254 [==============================] - 0s 846us/step - loss: 0.4021 - accuracy: 0.8285 - val_loss: 0.3456 - val_accuracy: 0.8556\n",
      "Epoch 44/600\n",
      "254/254 [==============================] - 0s 847us/step - loss: 0.3972 - accuracy: 0.8296 - val_loss: 0.3443 - val_accuracy: 0.8556\n",
      "Epoch 45/600\n",
      "254/254 [==============================] - 0s 851us/step - loss: 0.3945 - accuracy: 0.8310 - val_loss: 0.3484 - val_accuracy: 0.8456\n",
      "Epoch 46/600\n",
      "254/254 [==============================] - 0s 852us/step - loss: 0.3973 - accuracy: 0.8304 - val_loss: 0.3437 - val_accuracy: 0.8511\n",
      "Epoch 47/600\n",
      "254/254 [==============================] - 0s 856us/step - loss: 0.3947 - accuracy: 0.8316 - val_loss: 0.3491 - val_accuracy: 0.8511\n",
      "Epoch 48/600\n",
      "254/254 [==============================] - 0s 844us/step - loss: 0.3979 - accuracy: 0.8331 - val_loss: 0.3478 - val_accuracy: 0.8467\n",
      "Epoch 49/600\n",
      "254/254 [==============================] - 0s 848us/step - loss: 0.3946 - accuracy: 0.8331 - val_loss: 0.3470 - val_accuracy: 0.8544\n",
      "Epoch 50/600\n",
      "254/254 [==============================] - 0s 844us/step - loss: 0.4006 - accuracy: 0.8293 - val_loss: 0.3436 - val_accuracy: 0.8511\n",
      "Epoch 51/600\n",
      "254/254 [==============================] - 0s 856us/step - loss: 0.3990 - accuracy: 0.8331 - val_loss: 0.3432 - val_accuracy: 0.8556\n",
      "Epoch 52/600\n",
      "254/254 [==============================] - 0s 849us/step - loss: 0.3870 - accuracy: 0.8363 - val_loss: 0.3441 - val_accuracy: 0.8533\n",
      "Epoch 53/600\n",
      "254/254 [==============================] - 0s 846us/step - loss: 0.3939 - accuracy: 0.8312 - val_loss: 0.3457 - val_accuracy: 0.8533\n",
      "Epoch 54/600\n",
      "254/254 [==============================] - 0s 851us/step - loss: 0.3992 - accuracy: 0.8321 - val_loss: 0.3499 - val_accuracy: 0.8511\n",
      "Epoch 55/600\n",
      "254/254 [==============================] - 0s 856us/step - loss: 0.3954 - accuracy: 0.8307 - val_loss: 0.3434 - val_accuracy: 0.8567\n",
      "Epoch 56/600\n",
      "254/254 [==============================] - 0s 851us/step - loss: 0.3923 - accuracy: 0.8338 - val_loss: 0.3426 - val_accuracy: 0.8589\n",
      "Epoch 57/600\n",
      "254/254 [==============================] - 0s 847us/step - loss: 0.3976 - accuracy: 0.8314 - val_loss: 0.3418 - val_accuracy: 0.8578\n",
      "Epoch 58/600\n",
      "254/254 [==============================] - 0s 844us/step - loss: 0.3869 - accuracy: 0.8346 - val_loss: 0.3379 - val_accuracy: 0.8578\n",
      "Epoch 59/600\n",
      "254/254 [==============================] - 0s 850us/step - loss: 0.3934 - accuracy: 0.8340 - val_loss: 0.3428 - val_accuracy: 0.8544\n",
      "Epoch 60/600\n",
      "254/254 [==============================] - 0s 838us/step - loss: 0.3937 - accuracy: 0.8342 - val_loss: 0.3460 - val_accuracy: 0.8556\n",
      "Epoch 61/600\n",
      "254/254 [==============================] - 0s 843us/step - loss: 0.3948 - accuracy: 0.8344 - val_loss: 0.3417 - val_accuracy: 0.8511\n",
      "Epoch 62/600\n",
      "254/254 [==============================] - 0s 859us/step - loss: 0.3900 - accuracy: 0.8310 - val_loss: 0.3390 - val_accuracy: 0.8522\n",
      "Epoch 63/600\n",
      "254/254 [==============================] - 0s 1ms/step - loss: 0.3917 - accuracy: 0.8352 - val_loss: 0.3382 - val_accuracy: 0.8533\n",
      "Epoch 64/600\n",
      "254/254 [==============================] - 0s 853us/step - loss: 0.3873 - accuracy: 0.8372 - val_loss: 0.3391 - val_accuracy: 0.8578\n",
      "Epoch 65/600\n",
      "254/254 [==============================] - 0s 860us/step - loss: 0.3925 - accuracy: 0.8352 - val_loss: 0.3362 - val_accuracy: 0.8633\n",
      "Epoch 66/600\n",
      "254/254 [==============================] - 0s 850us/step - loss: 0.3949 - accuracy: 0.8322 - val_loss: 0.3391 - val_accuracy: 0.8544\n",
      "Epoch 67/600\n",
      "254/254 [==============================] - 0s 853us/step - loss: 0.3916 - accuracy: 0.8305 - val_loss: 0.3374 - val_accuracy: 0.8511\n",
      "Epoch 68/600\n",
      "254/254 [==============================] - 0s 851us/step - loss: 0.3903 - accuracy: 0.8365 - val_loss: 0.3411 - val_accuracy: 0.8578\n",
      "Epoch 69/600\n",
      "254/254 [==============================] - 0s 850us/step - loss: 0.3849 - accuracy: 0.8363 - val_loss: 0.3340 - val_accuracy: 0.8578\n",
      "Epoch 70/600\n",
      "254/254 [==============================] - 0s 848us/step - loss: 0.3910 - accuracy: 0.8409 - val_loss: 0.3403 - val_accuracy: 0.8578\n",
      "Epoch 71/600\n",
      "254/254 [==============================] - 0s 854us/step - loss: 0.3898 - accuracy: 0.8362 - val_loss: 0.3436 - val_accuracy: 0.8578\n",
      "Epoch 72/600\n",
      "254/254 [==============================] - 0s 848us/step - loss: 0.3934 - accuracy: 0.8363 - val_loss: 0.3414 - val_accuracy: 0.8567\n",
      "Epoch 73/600\n",
      "254/254 [==============================] - 0s 851us/step - loss: 0.3884 - accuracy: 0.8349 - val_loss: 0.3417 - val_accuracy: 0.8600\n",
      "Epoch 74/600\n",
      "254/254 [==============================] - 0s 852us/step - loss: 0.3916 - accuracy: 0.8352 - val_loss: 0.3438 - val_accuracy: 0.8544\n",
      "Epoch 75/600\n",
      "254/254 [==============================] - 0s 849us/step - loss: 0.3875 - accuracy: 0.8377 - val_loss: 0.3409 - val_accuracy: 0.8556\n",
      "Epoch 76/600\n",
      "254/254 [==============================] - 0s 849us/step - loss: 0.3875 - accuracy: 0.8362 - val_loss: 0.3401 - val_accuracy: 0.8556\n",
      "Epoch 77/600\n",
      "254/254 [==============================] - 0s 854us/step - loss: 0.3825 - accuracy: 0.8374 - val_loss: 0.3359 - val_accuracy: 0.8589\n",
      "Epoch 78/600\n",
      "254/254 [==============================] - 0s 843us/step - loss: 0.3892 - accuracy: 0.8362 - val_loss: 0.3379 - val_accuracy: 0.8578\n",
      "Epoch 79/600\n",
      "254/254 [==============================] - 0s 837us/step - loss: 0.3893 - accuracy: 0.8370 - val_loss: 0.3374 - val_accuracy: 0.8567\n",
      "Epoch 80/600\n",
      "254/254 [==============================] - 0s 855us/step - loss: 0.3855 - accuracy: 0.8369 - val_loss: 0.3364 - val_accuracy: 0.8578\n",
      "Epoch 81/600\n",
      "254/254 [==============================] - 0s 858us/step - loss: 0.3905 - accuracy: 0.8363 - val_loss: 0.3353 - val_accuracy: 0.8567\n",
      "Epoch 82/600\n",
      "254/254 [==============================] - 0s 856us/step - loss: 0.3854 - accuracy: 0.8360 - val_loss: 0.3388 - val_accuracy: 0.8589\n",
      "Epoch 83/600\n",
      "254/254 [==============================] - 0s 855us/step - loss: 0.3905 - accuracy: 0.8362 - val_loss: 0.3409 - val_accuracy: 0.8544\n",
      "Epoch 84/600\n",
      "203/254 [======================>.......] - ETA: 0s - loss: 0.3874 - accuracy: 0.8384Restoring model weights from the end of the best epoch: 69.\n",
      "254/254 [==============================] - 0s 849us/step - loss: 0.3879 - accuracy: 0.8385 - val_loss: 0.3389 - val_accuracy: 0.8556\n",
      "Epoch 84: early stopping\n"
     ]
    },
    {
     "data": {
      "text/plain": [
       "<keras.callbacks.History at 0x7f8cd1d20fd0>"
      ]
     },
     "execution_count": 46,
     "metadata": {},
     "output_type": "execute_result"
    }
   ],
   "source": [
    "model.fit(\n",
    "    x=X_train,\n",
    "    y=y_train,\n",
    "    validation_data=(X_val, y_val),\n",
    "    batch_size=32,\n",
    "    epochs=600,\n",
    "    verbose=1,\n",
    "    callbacks=[early_stop],\n",
    ")"
   ]
  },
  {
   "cell_type": "code",
   "execution_count": 47,
   "metadata": {},
   "outputs": [
    {
     "data": {
      "image/png": "[encoded data removed]",
      "text/plain": [
       "<Figure size 1080x720 with 4 Axes>"
      ]
     },
     "metadata": {},
     "output_type": "display_data"
    }
   ],
   "source": [
    "loss_df = pd.DataFrame(model.history.history)\n",
    "loss_df.plot(subplots=[[\"loss\",\"val_loss\"],[\"accuracy\",\"val_accuracy\"]], layout=(2,2),figsize=(15,10))\n",
    "plt.show()"
   ]
  },
  {
   "cell_type": "code",
   "execution_count": 48,
   "metadata": {},
   "outputs": [
    {
     "name": "stdout",
     "output_type": "stream",
     "text": [
      "loss :  0.3700076639652252\n",
      "accuracy :  0.8519999980926514\n"
     ]
    }
   ],
   "source": [
    "loss, accuracy = model.evaluate(X_test, y_test, verbose=0)\n",
    "print(\"loss : \", loss)\n",
    "print(\"accuracy : \", accuracy)"
   ]
  },
  {
   "cell_type": "code",
   "execution_count": 49,
   "metadata": {},
   "outputs": [
    {
     "name": "stdout",
     "output_type": "stream",
     "text": [
      "32/32 [==============================] - 0s 540us/step\n",
      "[[775  21]\n",
      " [127  77]]\n",
      "              precision    recall  f1-score   support\n",
      "\n",
      "           0       0.86      0.97      0.91       796\n",
      "           1       0.79      0.38      0.51       204\n",
      "\n",
      "    accuracy                           0.85      1000\n",
      "   macro avg       0.82      0.68      0.71      1000\n",
      "weighted avg       0.84      0.85      0.83      1000\n",
      "\n"
     ]
    }
   ],
   "source": [
    "y_pred = model.predict(X_test) > 0.5\n",
    "print(confusion_matrix(y_test, y_pred))\n",
    "print(classification_report(y_test, y_pred))"
   ]
  },
  {
   "cell_type": "markdown",
   "metadata": {},
   "source": [
    "## L1 and L2 Regularizations(Weight Decay)"
   ]
  },
  {
   "cell_type": "code",
   "execution_count": 50,
   "metadata": {},
   "outputs": [],
   "source": [
    "from tensorflow.keras.regularizers import l1, l2, L1L2"
   ]
  },
  {
   "cell_type": "code",
   "execution_count": 51,
   "metadata": {},
   "outputs": [],
   "source": [
    "tf.keras.utils.set_random_seed(seed)\n",
    "\n",
    "model = Sequential()\n",
    "\n",
    "model.add(Dense(36, activation=\"relu\", \n",
    "                kernel_regularizer=L1L2(l1=1e-3, l2=1e-3),\n",
    "                bias_regularizer=l2(1e-4), \n",
    "                activity_regularizer=l1(1e-5), \n",
    "                input_dim=X_train.shape[1]))\n",
    "\n",
    "model.add(Dense(18, activation=\"relu\", \n",
    "                kernel_regularizer=L1L2(l1=1e-3, l2=1e-3), \n",
    "                bias_regularizer=l2(1e-4), \n",
    "                activity_regularizer=l1(1e-5)))\n",
    "\n",
    "model.add(Dense(9, activation=\"relu\", \n",
    "                kernel_regularizer=L1L2(l1=1e-3, l2=1e-3), \n",
    "                bias_regularizer=l2(1e-4), \n",
    "                activity_regularizer=l1(1e-5)))\n",
    "\n",
    "\n",
    "model.add(Dense(1, activation=\"sigmoid\"))\n",
    "\n",
    "opt = Adam(learning_rate=0.001)\n",
    "model.compile(optimizer=opt, loss=\"binary_crossentropy\", metrics=[\"accuracy\"])"
   ]
  },
  {
   "cell_type": "code",
   "execution_count": 52,
   "metadata": {},
   "outputs": [
    {
     "name": "stdout",
     "output_type": "stream",
     "text": [
      "Epoch 1/600\n",
      "254/254 [==============================] - 1s 1ms/step - loss: 0.6704 - accuracy: 0.7963 - val_loss: 0.5771 - val_accuracy: 0.7967\n",
      "Epoch 2/600\n",
      "254/254 [==============================] - 0s 918us/step - loss: 0.5480 - accuracy: 0.7963 - val_loss: 0.5209 - val_accuracy: 0.7967\n",
      "Epoch 3/600\n",
      "254/254 [==============================] - 0s 902us/step - loss: 0.5125 - accuracy: 0.7963 - val_loss: 0.4964 - val_accuracy: 0.7967\n",
      "Epoch 4/600\n",
      "254/254 [==============================] - 0s 888us/step - loss: 0.4947 - accuracy: 0.8025 - val_loss: 0.4875 - val_accuracy: 0.8089\n",
      "Epoch 5/600\n",
      "254/254 [==============================] - 0s 909us/step - loss: 0.4844 - accuracy: 0.8089 - val_loss: 0.4782 - val_accuracy: 0.8100\n",
      "Epoch 6/600\n",
      "254/254 [==============================] - 0s 885us/step - loss: 0.4772 - accuracy: 0.8084 - val_loss: 0.4733 - val_accuracy: 0.8067\n",
      "Epoch 7/600\n",
      "254/254 [==============================] - 0s 886us/step - loss: 0.4734 - accuracy: 0.8099 - val_loss: 0.4666 - val_accuracy: 0.8089\n",
      "Epoch 8/600\n",
      "254/254 [==============================] - 0s 893us/step - loss: 0.4694 - accuracy: 0.8106 - val_loss: 0.4624 - val_accuracy: 0.8100\n",
      "Epoch 9/600\n",
      "254/254 [==============================] - 0s 881us/step - loss: 0.4668 - accuracy: 0.8099 - val_loss: 0.4600 - val_accuracy: 0.8100\n",
      "Epoch 10/600\n",
      "254/254 [==============================] - 0s 883us/step - loss: 0.4630 - accuracy: 0.8093 - val_loss: 0.4573 - val_accuracy: 0.8089\n",
      "Epoch 11/600\n",
      "254/254 [==============================] - 0s 877us/step - loss: 0.4613 - accuracy: 0.8106 - val_loss: 0.4556 - val_accuracy: 0.8078\n",
      "Epoch 12/600\n",
      "254/254 [==============================] - 0s 880us/step - loss: 0.4584 - accuracy: 0.8096 - val_loss: 0.4534 - val_accuracy: 0.8078\n",
      "Epoch 13/600\n",
      "254/254 [==============================] - 0s 884us/step - loss: 0.4573 - accuracy: 0.8126 - val_loss: 0.4524 - val_accuracy: 0.8111\n",
      "Epoch 14/600\n",
      "254/254 [==============================] - 0s 885us/step - loss: 0.4563 - accuracy: 0.8093 - val_loss: 0.4499 - val_accuracy: 0.8100\n",
      "Epoch 15/600\n",
      "254/254 [==============================] - 0s 888us/step - loss: 0.4548 - accuracy: 0.8123 - val_loss: 0.4482 - val_accuracy: 0.8089\n",
      "Epoch 16/600\n",
      "254/254 [==============================] - 0s 886us/step - loss: 0.4535 - accuracy: 0.8114 - val_loss: 0.4481 - val_accuracy: 0.8056\n",
      "Epoch 17/600\n",
      "254/254 [==============================] - 0s 884us/step - loss: 0.4528 - accuracy: 0.8128 - val_loss: 0.4472 - val_accuracy: 0.8111\n",
      "Epoch 18/600\n",
      "254/254 [==============================] - 0s 906us/step - loss: 0.4515 - accuracy: 0.8157 - val_loss: 0.4442 - val_accuracy: 0.8167\n",
      "Epoch 19/600\n",
      "254/254 [==============================] - 0s 887us/step - loss: 0.4505 - accuracy: 0.8183 - val_loss: 0.4422 - val_accuracy: 0.8178\n",
      "Epoch 20/600\n",
      "254/254 [==============================] - 0s 901us/step - loss: 0.4483 - accuracy: 0.8205 - val_loss: 0.4415 - val_accuracy: 0.8189\n",
      "Epoch 21/600\n",
      "254/254 [==============================] - 0s 889us/step - loss: 0.4475 - accuracy: 0.8220 - val_loss: 0.4387 - val_accuracy: 0.8189\n",
      "Epoch 22/600\n",
      "254/254 [==============================] - 0s 884us/step - loss: 0.4459 - accuracy: 0.8236 - val_loss: 0.4377 - val_accuracy: 0.8244\n",
      "Epoch 23/600\n",
      "254/254 [==============================] - 0s 897us/step - loss: 0.4451 - accuracy: 0.8241 - val_loss: 0.4396 - val_accuracy: 0.8200\n",
      "Epoch 24/600\n",
      "254/254 [==============================] - 0s 940us/step - loss: 0.4451 - accuracy: 0.8256 - val_loss: 0.4347 - val_accuracy: 0.8233\n",
      "Epoch 25/600\n",
      "254/254 [==============================] - 0s 948us/step - loss: 0.4423 - accuracy: 0.8253 - val_loss: 0.4402 - val_accuracy: 0.8322\n",
      "Epoch 26/600\n",
      "254/254 [==============================] - 0s 887us/step - loss: 0.4414 - accuracy: 0.8260 - val_loss: 0.4322 - val_accuracy: 0.8278\n",
      "Epoch 27/600\n",
      "254/254 [==============================] - 0s 882us/step - loss: 0.4406 - accuracy: 0.8275 - val_loss: 0.4299 - val_accuracy: 0.8278\n",
      "Epoch 28/600\n",
      "254/254 [==============================] - 0s 879us/step - loss: 0.4397 - accuracy: 0.8281 - val_loss: 0.4303 - val_accuracy: 0.8300\n",
      "Epoch 29/600\n",
      "254/254 [==============================] - 0s 893us/step - loss: 0.4379 - accuracy: 0.8296 - val_loss: 0.4270 - val_accuracy: 0.8267\n",
      "Epoch 30/600\n",
      "254/254 [==============================] - 0s 884us/step - loss: 0.4371 - accuracy: 0.8284 - val_loss: 0.4273 - val_accuracy: 0.8278\n",
      "Epoch 31/600\n",
      "254/254 [==============================] - 0s 887us/step - loss: 0.4367 - accuracy: 0.8291 - val_loss: 0.4258 - val_accuracy: 0.8300\n",
      "Epoch 32/600\n",
      "254/254 [==============================] - 0s 885us/step - loss: 0.4351 - accuracy: 0.8300 - val_loss: 0.4270 - val_accuracy: 0.8367\n",
      "Epoch 33/600\n",
      "254/254 [==============================] - 0s 896us/step - loss: 0.4346 - accuracy: 0.8316 - val_loss: 0.4225 - val_accuracy: 0.8311\n",
      "Epoch 34/600\n",
      "254/254 [==============================] - 0s 893us/step - loss: 0.4316 - accuracy: 0.8341 - val_loss: 0.4242 - val_accuracy: 0.8300\n",
      "Epoch 35/600\n",
      "254/254 [==============================] - 0s 887us/step - loss: 0.4303 - accuracy: 0.8322 - val_loss: 0.4165 - val_accuracy: 0.8333\n",
      "Epoch 36/600\n",
      "254/254 [==============================] - 0s 894us/step - loss: 0.4284 - accuracy: 0.8337 - val_loss: 0.4145 - val_accuracy: 0.8333\n",
      "Epoch 37/600\n",
      "254/254 [==============================] - 0s 883us/step - loss: 0.4259 - accuracy: 0.8354 - val_loss: 0.4146 - val_accuracy: 0.8333\n",
      "Epoch 38/600\n",
      "254/254 [==============================] - 0s 883us/step - loss: 0.4244 - accuracy: 0.8357 - val_loss: 0.4094 - val_accuracy: 0.8367\n",
      "Epoch 39/600\n",
      "254/254 [==============================] - 0s 887us/step - loss: 0.4202 - accuracy: 0.8368 - val_loss: 0.4072 - val_accuracy: 0.8378\n",
      "Epoch 40/600\n",
      "254/254 [==============================] - 0s 889us/step - loss: 0.4176 - accuracy: 0.8383 - val_loss: 0.4051 - val_accuracy: 0.8411\n",
      "Epoch 41/600\n",
      "254/254 [==============================] - 0s 893us/step - loss: 0.4140 - accuracy: 0.8388 - val_loss: 0.4045 - val_accuracy: 0.8356\n",
      "Epoch 42/600\n",
      "254/254 [==============================] - 0s 896us/step - loss: 0.4109 - accuracy: 0.8394 - val_loss: 0.3994 - val_accuracy: 0.8411\n",
      "Epoch 43/600\n",
      "254/254 [==============================] - 0s 891us/step - loss: 0.4085 - accuracy: 0.8419 - val_loss: 0.3970 - val_accuracy: 0.8411\n",
      "Epoch 44/600\n",
      "254/254 [==============================] - 0s 893us/step - loss: 0.4051 - accuracy: 0.8430 - val_loss: 0.3936 - val_accuracy: 0.8444\n",
      "Epoch 45/600\n",
      "254/254 [==============================] - 0s 889us/step - loss: 0.4033 - accuracy: 0.8425 - val_loss: 0.3894 - val_accuracy: 0.8433\n",
      "Epoch 46/600\n",
      "254/254 [==============================] - 0s 892us/step - loss: 0.4011 - accuracy: 0.8447 - val_loss: 0.3894 - val_accuracy: 0.8489\n",
      "Epoch 47/600\n",
      "254/254 [==============================] - 0s 889us/step - loss: 0.3979 - accuracy: 0.8465 - val_loss: 0.3854 - val_accuracy: 0.8511\n",
      "Epoch 48/600\n",
      "254/254 [==============================] - 0s 889us/step - loss: 0.3965 - accuracy: 0.8486 - val_loss: 0.3803 - val_accuracy: 0.8556\n",
      "Epoch 49/600\n",
      "254/254 [==============================] - 0s 890us/step - loss: 0.3939 - accuracy: 0.8498 - val_loss: 0.3801 - val_accuracy: 0.8544\n",
      "Epoch 50/600\n",
      "254/254 [==============================] - 0s 1ms/step - loss: 0.3934 - accuracy: 0.8481 - val_loss: 0.3815 - val_accuracy: 0.8489\n",
      "Epoch 51/600\n",
      "254/254 [==============================] - 0s 898us/step - loss: 0.3920 - accuracy: 0.8507 - val_loss: 0.3772 - val_accuracy: 0.8522\n",
      "Epoch 52/600\n",
      "254/254 [==============================] - 0s 879us/step - loss: 0.3909 - accuracy: 0.8526 - val_loss: 0.3752 - val_accuracy: 0.8533\n",
      "Epoch 53/600\n",
      "254/254 [==============================] - 0s 892us/step - loss: 0.3883 - accuracy: 0.8528 - val_loss: 0.3750 - val_accuracy: 0.8567\n",
      "Epoch 54/600\n",
      "254/254 [==============================] - 0s 856us/step - loss: 0.3879 - accuracy: 0.8568 - val_loss: 0.3767 - val_accuracy: 0.8533\n",
      "Epoch 55/600\n",
      "254/254 [==============================] - 0s 885us/step - loss: 0.3873 - accuracy: 0.8526 - val_loss: 0.3724 - val_accuracy: 0.8600\n",
      "Epoch 56/600\n",
      "254/254 [==============================] - 0s 885us/step - loss: 0.3861 - accuracy: 0.8536 - val_loss: 0.3878 - val_accuracy: 0.8500\n",
      "Epoch 57/600\n",
      "254/254 [==============================] - 0s 894us/step - loss: 0.3849 - accuracy: 0.8551 - val_loss: 0.3716 - val_accuracy: 0.8567\n",
      "Epoch 58/600\n",
      "254/254 [==============================] - 0s 896us/step - loss: 0.3853 - accuracy: 0.8573 - val_loss: 0.3695 - val_accuracy: 0.8578\n",
      "Epoch 59/600\n",
      "254/254 [==============================] - 0s 887us/step - loss: 0.3832 - accuracy: 0.8562 - val_loss: 0.3723 - val_accuracy: 0.8600\n",
      "Epoch 60/600\n",
      "254/254 [==============================] - 0s 888us/step - loss: 0.3823 - accuracy: 0.8585 - val_loss: 0.3734 - val_accuracy: 0.8600\n",
      "Epoch 61/600\n",
      "254/254 [==============================] - 0s 890us/step - loss: 0.3833 - accuracy: 0.8584 - val_loss: 0.3691 - val_accuracy: 0.8578\n",
      "Epoch 62/600\n",
      "254/254 [==============================] - 0s 887us/step - loss: 0.3817 - accuracy: 0.8591 - val_loss: 0.3701 - val_accuracy: 0.8600\n",
      "Epoch 63/600\n",
      "254/254 [==============================] - 0s 892us/step - loss: 0.3819 - accuracy: 0.8575 - val_loss: 0.3758 - val_accuracy: 0.8578\n",
      "Epoch 64/600\n",
      "254/254 [==============================] - 0s 905us/step - loss: 0.3817 - accuracy: 0.8567 - val_loss: 0.3716 - val_accuracy: 0.8544\n",
      "Epoch 65/600\n",
      "254/254 [==============================] - 0s 905us/step - loss: 0.3803 - accuracy: 0.8568 - val_loss: 0.3679 - val_accuracy: 0.8667\n",
      "Epoch 66/600\n",
      "254/254 [==============================] - 0s 890us/step - loss: 0.3810 - accuracy: 0.8570 - val_loss: 0.3665 - val_accuracy: 0.8633\n",
      "Epoch 67/600\n",
      "254/254 [==============================] - 0s 877us/step - loss: 0.3798 - accuracy: 0.8565 - val_loss: 0.3642 - val_accuracy: 0.8600\n",
      "Epoch 68/600\n",
      "254/254 [==============================] - 0s 892us/step - loss: 0.3805 - accuracy: 0.8580 - val_loss: 0.3677 - val_accuracy: 0.8611\n",
      "Epoch 69/600\n",
      "254/254 [==============================] - 0s 895us/step - loss: 0.3797 - accuracy: 0.8575 - val_loss: 0.3734 - val_accuracy: 0.8578\n",
      "Epoch 70/600\n",
      "254/254 [==============================] - 0s 885us/step - loss: 0.3801 - accuracy: 0.8544 - val_loss: 0.3639 - val_accuracy: 0.8533\n",
      "Epoch 71/600\n",
      "254/254 [==============================] - 0s 898us/step - loss: 0.3800 - accuracy: 0.8577 - val_loss: 0.3647 - val_accuracy: 0.8567\n",
      "Epoch 72/600\n",
      "254/254 [==============================] - 0s 907us/step - loss: 0.3777 - accuracy: 0.8591 - val_loss: 0.3717 - val_accuracy: 0.8544\n",
      "Epoch 73/600\n",
      "254/254 [==============================] - 0s 893us/step - loss: 0.3780 - accuracy: 0.8586 - val_loss: 0.3631 - val_accuracy: 0.8611\n",
      "Epoch 74/600\n",
      "254/254 [==============================] - 0s 887us/step - loss: 0.3782 - accuracy: 0.8573 - val_loss: 0.3682 - val_accuracy: 0.8611\n",
      "Epoch 75/600\n",
      "254/254 [==============================] - 0s 891us/step - loss: 0.3770 - accuracy: 0.8590 - val_loss: 0.3616 - val_accuracy: 0.8611\n",
      "Epoch 76/600\n",
      "254/254 [==============================] - 0s 884us/step - loss: 0.3771 - accuracy: 0.8578 - val_loss: 0.3638 - val_accuracy: 0.8578\n",
      "Epoch 77/600\n",
      "254/254 [==============================] - 0s 881us/step - loss: 0.3763 - accuracy: 0.8602 - val_loss: 0.3642 - val_accuracy: 0.8578\n",
      "Epoch 78/600\n",
      "254/254 [==============================] - 0s 882us/step - loss: 0.3757 - accuracy: 0.8622 - val_loss: 0.3630 - val_accuracy: 0.8622\n",
      "Epoch 79/600\n",
      "254/254 [==============================] - 0s 888us/step - loss: 0.3761 - accuracy: 0.8589 - val_loss: 0.3617 - val_accuracy: 0.8611\n",
      "Epoch 80/600\n",
      "254/254 [==============================] - 0s 884us/step - loss: 0.3763 - accuracy: 0.8594 - val_loss: 0.3629 - val_accuracy: 0.8600\n",
      "Epoch 81/600\n",
      "254/254 [==============================] - 0s 878us/step - loss: 0.3754 - accuracy: 0.8577 - val_loss: 0.3621 - val_accuracy: 0.8600\n",
      "Epoch 82/600\n",
      "254/254 [==============================] - 0s 893us/step - loss: 0.3756 - accuracy: 0.8594 - val_loss: 0.3610 - val_accuracy: 0.8656\n",
      "Epoch 83/600\n",
      "254/254 [==============================] - 0s 888us/step - loss: 0.3752 - accuracy: 0.8619 - val_loss: 0.3619 - val_accuracy: 0.8578\n",
      "Epoch 84/600\n",
      "254/254 [==============================] - 0s 888us/step - loss: 0.3751 - accuracy: 0.8605 - val_loss: 0.3621 - val_accuracy: 0.8633\n",
      "Epoch 85/600\n",
      "254/254 [==============================] - 0s 890us/step - loss: 0.3739 - accuracy: 0.8602 - val_loss: 0.3620 - val_accuracy: 0.8656\n",
      "Epoch 86/600\n",
      "254/254 [==============================] - 0s 886us/step - loss: 0.3751 - accuracy: 0.8570 - val_loss: 0.3654 - val_accuracy: 0.8556\n",
      "Epoch 87/600\n",
      "254/254 [==============================] - 0s 886us/step - loss: 0.3744 - accuracy: 0.8591 - val_loss: 0.3583 - val_accuracy: 0.8644\n",
      "Epoch 88/600\n",
      "254/254 [==============================] - 0s 883us/step - loss: 0.3743 - accuracy: 0.8619 - val_loss: 0.3608 - val_accuracy: 0.8633\n",
      "Epoch 89/600\n",
      "254/254 [==============================] - 0s 888us/step - loss: 0.3743 - accuracy: 0.8578 - val_loss: 0.3698 - val_accuracy: 0.8589\n",
      "Epoch 90/600\n",
      "254/254 [==============================] - 0s 892us/step - loss: 0.3737 - accuracy: 0.8596 - val_loss: 0.3614 - val_accuracy: 0.8656\n",
      "Epoch 91/600\n",
      "254/254 [==============================] - 0s 886us/step - loss: 0.3732 - accuracy: 0.8599 - val_loss: 0.3599 - val_accuracy: 0.8622\n",
      "Epoch 92/600\n",
      "254/254 [==============================] - 0s 891us/step - loss: 0.3736 - accuracy: 0.8615 - val_loss: 0.3613 - val_accuracy: 0.8667\n",
      "Epoch 93/600\n",
      "254/254 [==============================] - 0s 897us/step - loss: 0.3751 - accuracy: 0.8585 - val_loss: 0.3606 - val_accuracy: 0.8578\n",
      "Epoch 94/600\n",
      "254/254 [==============================] - 0s 938us/step - loss: 0.3731 - accuracy: 0.8617 - val_loss: 0.3620 - val_accuracy: 0.8600\n",
      "Epoch 95/600\n",
      "254/254 [==============================] - 0s 960us/step - loss: 0.3735 - accuracy: 0.8602 - val_loss: 0.3608 - val_accuracy: 0.8589\n",
      "Epoch 96/600\n",
      "254/254 [==============================] - 0s 912us/step - loss: 0.3726 - accuracy: 0.8594 - val_loss: 0.3621 - val_accuracy: 0.8578\n",
      "Epoch 97/600\n",
      "254/254 [==============================] - 0s 888us/step - loss: 0.3744 - accuracy: 0.8586 - val_loss: 0.3570 - val_accuracy: 0.8622\n",
      "Epoch 98/600\n",
      "254/254 [==============================] - 0s 895us/step - loss: 0.3726 - accuracy: 0.8607 - val_loss: 0.3564 - val_accuracy: 0.8656\n",
      "Epoch 99/600\n",
      "254/254 [==============================] - 0s 891us/step - loss: 0.3728 - accuracy: 0.8610 - val_loss: 0.3590 - val_accuracy: 0.8633\n",
      "Epoch 100/600\n",
      "254/254 [==============================] - 0s 1ms/step - loss: 0.3732 - accuracy: 0.8585 - val_loss: 0.3662 - val_accuracy: 0.8600\n",
      "Epoch 101/600\n",
      "254/254 [==============================] - 0s 893us/step - loss: 0.3719 - accuracy: 0.8578 - val_loss: 0.3629 - val_accuracy: 0.8622\n",
      "Epoch 102/600\n",
      "254/254 [==============================] - 0s 889us/step - loss: 0.3723 - accuracy: 0.8586 - val_loss: 0.3625 - val_accuracy: 0.8600\n",
      "Epoch 103/600\n",
      "254/254 [==============================] - 0s 903us/step - loss: 0.3712 - accuracy: 0.8594 - val_loss: 0.3579 - val_accuracy: 0.8622\n",
      "Epoch 104/600\n",
      "254/254 [==============================] - 0s 896us/step - loss: 0.3715 - accuracy: 0.8611 - val_loss: 0.3564 - val_accuracy: 0.8622\n",
      "Epoch 105/600\n",
      "254/254 [==============================] - 0s 894us/step - loss: 0.3724 - accuracy: 0.8607 - val_loss: 0.3669 - val_accuracy: 0.8556\n",
      "Epoch 106/600\n",
      "254/254 [==============================] - 0s 895us/step - loss: 0.3720 - accuracy: 0.8593 - val_loss: 0.3558 - val_accuracy: 0.8633\n",
      "Epoch 107/600\n",
      "254/254 [==============================] - 0s 874us/step - loss: 0.3710 - accuracy: 0.8589 - val_loss: 0.3555 - val_accuracy: 0.8644\n",
      "Epoch 108/600\n",
      "254/254 [==============================] - 0s 906us/step - loss: 0.3709 - accuracy: 0.8622 - val_loss: 0.3610 - val_accuracy: 0.8633\n",
      "Epoch 109/600\n",
      "254/254 [==============================] - 0s 889us/step - loss: 0.3708 - accuracy: 0.8622 - val_loss: 0.3575 - val_accuracy: 0.8656\n",
      "Epoch 110/600\n",
      "254/254 [==============================] - 0s 894us/step - loss: 0.3700 - accuracy: 0.8610 - val_loss: 0.3558 - val_accuracy: 0.8622\n",
      "Epoch 111/600\n",
      "254/254 [==============================] - 0s 903us/step - loss: 0.3715 - accuracy: 0.8607 - val_loss: 0.3571 - val_accuracy: 0.8611\n",
      "Epoch 112/600\n",
      "254/254 [==============================] - 0s 892us/step - loss: 0.3709 - accuracy: 0.8614 - val_loss: 0.3546 - val_accuracy: 0.8678\n",
      "Epoch 113/600\n",
      "254/254 [==============================] - 0s 908us/step - loss: 0.3693 - accuracy: 0.8640 - val_loss: 0.3562 - val_accuracy: 0.8600\n",
      "Epoch 114/600\n",
      "254/254 [==============================] - 0s 883us/step - loss: 0.3695 - accuracy: 0.8601 - val_loss: 0.3564 - val_accuracy: 0.8589\n",
      "Epoch 115/600\n",
      "254/254 [==============================] - 0s 895us/step - loss: 0.3702 - accuracy: 0.8598 - val_loss: 0.3530 - val_accuracy: 0.8633\n",
      "Epoch 116/600\n",
      "254/254 [==============================] - 0s 888us/step - loss: 0.3704 - accuracy: 0.8604 - val_loss: 0.3584 - val_accuracy: 0.8622\n",
      "Epoch 117/600\n",
      "254/254 [==============================] - 0s 894us/step - loss: 0.3700 - accuracy: 0.8604 - val_loss: 0.3589 - val_accuracy: 0.8556\n",
      "Epoch 118/600\n",
      "254/254 [==============================] - 0s 884us/step - loss: 0.3709 - accuracy: 0.8589 - val_loss: 0.3591 - val_accuracy: 0.8678\n",
      "Epoch 119/600\n",
      "254/254 [==============================] - 0s 901us/step - loss: 0.3689 - accuracy: 0.8605 - val_loss: 0.3667 - val_accuracy: 0.8611\n",
      "Epoch 120/600\n",
      "254/254 [==============================] - 0s 922us/step - loss: 0.3697 - accuracy: 0.8581 - val_loss: 0.3573 - val_accuracy: 0.8633\n",
      "Epoch 121/600\n",
      "254/254 [==============================] - 0s 913us/step - loss: 0.3690 - accuracy: 0.8619 - val_loss: 0.3544 - val_accuracy: 0.8667\n",
      "Epoch 122/600\n",
      "254/254 [==============================] - 0s 894us/step - loss: 0.3683 - accuracy: 0.8606 - val_loss: 0.3584 - val_accuracy: 0.8689\n",
      "Epoch 123/600\n",
      "254/254 [==============================] - 0s 922us/step - loss: 0.3690 - accuracy: 0.8622 - val_loss: 0.3541 - val_accuracy: 0.8700\n",
      "Epoch 124/600\n",
      "254/254 [==============================] - 0s 894us/step - loss: 0.3686 - accuracy: 0.8609 - val_loss: 0.3675 - val_accuracy: 0.8589\n",
      "Epoch 125/600\n",
      "254/254 [==============================] - 0s 892us/step - loss: 0.3685 - accuracy: 0.8602 - val_loss: 0.3553 - val_accuracy: 0.8689\n",
      "Epoch 126/600\n",
      "254/254 [==============================] - 0s 888us/step - loss: 0.3683 - accuracy: 0.8622 - val_loss: 0.3578 - val_accuracy: 0.8678\n",
      "Epoch 127/600\n",
      "254/254 [==============================] - 0s 896us/step - loss: 0.3678 - accuracy: 0.8600 - val_loss: 0.3561 - val_accuracy: 0.8644\n",
      "Epoch 128/600\n",
      "254/254 [==============================] - 0s 889us/step - loss: 0.3689 - accuracy: 0.8601 - val_loss: 0.3631 - val_accuracy: 0.8589\n",
      "Epoch 129/600\n",
      "254/254 [==============================] - 0s 892us/step - loss: 0.3715 - accuracy: 0.8610 - val_loss: 0.3533 - val_accuracy: 0.8689\n",
      "Epoch 130/600\n",
      "254/254 [==============================] - ETA: 0s - loss: 0.3691 - accuracy: 0.8611Restoring model weights from the end of the best epoch: 115.\n",
      "254/254 [==============================] - 0s 906us/step - loss: 0.3691 - accuracy: 0.8611 - val_loss: 0.3555 - val_accuracy: 0.8656\n",
      "Epoch 130: early stopping\n"
     ]
    },
    {
     "data": {
      "text/plain": [
       "<keras.callbacks.History at 0x7f8ce7b23460>"
      ]
     },
     "execution_count": 52,
     "metadata": {},
     "output_type": "execute_result"
    }
   ],
   "source": [
    "model.fit(x=X_train,\n",
    "          y=y_train, \n",
    "          validation_data=(X_val, y_val), \n",
    "          batch_size=32, \n",
    "          epochs=600,\n",
    "          callbacks=[early_stop],\n",
    "          verbose=1\n",
    ")"
   ]
  },
  {
   "cell_type": "code",
   "execution_count": 53,
   "metadata": {},
   "outputs": [
    {
     "data": {
      "image/png": "[encoded data removed]",
      "text/plain": [
       "<Figure size 1080x720 with 4 Axes>"
      ]
     },
     "metadata": {},
     "output_type": "display_data"
    }
   ],
   "source": [
    "loss_df = pd.DataFrame(model.history.history)\n",
    "loss_df.plot(subplots=[[\"loss\",\"val_loss\"], [\"accuracy\",\"val_accuracy\"]], layout=(2,2), figsize=(15,10))\n",
    "plt.show()"
   ]
  },
  {
   "cell_type": "code",
   "execution_count": 54,
   "metadata": {},
   "outputs": [
    {
     "name": "stdout",
     "output_type": "stream",
     "text": [
      "loss:  0.39857831597328186\n",
      "accuracy:  0.8460000157356262\n"
     ]
    }
   ],
   "source": [
    "loss, accuracy = model.evaluate(X_test, y_test, verbose=0)\n",
    "print(\"loss: \", loss)\n",
    "print(\"accuracy: \", accuracy)"
   ]
  },
  {
   "cell_type": "code",
   "execution_count": 55,
   "metadata": {
    "tags": []
   },
   "outputs": [
    {
     "name": "stdout",
     "output_type": "stream",
     "text": [
      "32/32 [==============================] - 0s 541us/step\n",
      "[[759  37]\n",
      " [117  87]]\n",
      "              precision    recall  f1-score   support\n",
      "\n",
      "           0       0.87      0.95      0.91       796\n",
      "           1       0.70      0.43      0.53       204\n",
      "\n",
      "    accuracy                           0.85      1000\n",
      "   macro avg       0.78      0.69      0.72      1000\n",
      "weighted avg       0.83      0.85      0.83      1000\n",
      "\n"
     ]
    }
   ],
   "source": [
    "y_pred = model.predict(X_test) > 0.5\n",
    "print(confusion_matrix(y_test, y_pred))\n",
    "print(classification_report(y_test, y_pred))"
   ]
  },
  {
   "cell_type": "code",
   "execution_count": 56,
   "metadata": {},
   "outputs": [
    {
     "name": "stdout",
     "output_type": "stream",
     "text": [
      "32/32 [==============================] - 0s 545us/step\n"
     ]
    },
    {
     "data": {
      "text/plain": [
       "<sklearn.metrics._plot.roc_curve.RocCurveDisplay at 0x7f8cd2008b50>"
      ]
     },
     "execution_count": 56,
     "metadata": {},
     "output_type": "execute_result"
    },
    {
     "data": {
      "image/png": "[encoded data removed]",
      "text/plain": [
       "<Figure size 720x432 with 1 Axes>"
      ]
     },
     "metadata": {},
     "output_type": "display_data"
    }
   ],
   "source": [
    "y_pred_proba = model.predict(X_test)\n",
    "RocCurveDisplay.from_predictions(y_test, y_pred_proba)"
   ]
  },
  {
   "cell_type": "code",
   "execution_count": 57,
   "metadata": {},
   "outputs": [
    {
     "data": {
      "text/plain": [
       "0.8273659966499163"
      ]
     },
     "execution_count": 57,
     "metadata": {},
     "output_type": "execute_result"
    }
   ],
   "source": [
    "roc_auc_score(y_test, y_pred_proba)"
   ]
  },
  {
   "cell_type": "code",
   "execution_count": 58,
   "metadata": {},
   "outputs": [],
   "source": [
    "model.save(\"l1l2_model.h5\")"
   ]
  },
  {
   "cell_type": "markdown",
   "metadata": {},
   "source": [
    "## Cross Validation"
   ]
  },
  {
   "cell_type": "code",
   "execution_count": 59,
   "metadata": {},
   "outputs": [],
   "source": [
    "from sklearn.model_selection import cross_validate\n",
    "from tensorflow.keras.wrappers.scikit_learn import KerasClassifier"
   ]
  },
  {
   "cell_type": "code",
   "execution_count": 60,
   "metadata": {},
   "outputs": [],
   "source": [
    "def build_classifier():\n",
    "    tf.keras.utils.set_random_seed(seed)\n",
    "    classifier = Sequential()\n",
    "    classifier.add(Dense(units = 36, activation = 'relu'))\n",
    "    classifier.add(Dense(units = 18, activation = 'relu'))\n",
    "    classifier.add(Dense(units = 9, activation = 'relu'))\n",
    "    classifier.add(Dense(units = 1, activation = 'sigmoid'))\n",
    "    classifier.compile(optimizer = \"adam\", loss = 'binary_crossentropy', metrics = ['accuracy'])\n",
    "    \n",
    "    return classifier"
   ]
  },
  {
   "cell_type": "code",
   "execution_count": 61,
   "metadata": {},
   "outputs": [
    {
     "name": "stdout",
     "output_type": "stream",
     "text": [
      "26/26 [==============================] - 0s 516us/step\n",
      "26/26 [==============================] - 0s 541us/step\n",
      "26/26 [==============================] - 0s 488us/step\n",
      "26/26 [==============================] - 0s 501us/step\n",
      "26/26 [==============================] - 0s 495us/step\n",
      "26/26 [==============================] - 0s 610us/step\n",
      "26/26 [==============================] - 0s 517us/step\n",
      "26/26 [==============================] - 0s 533us/step\n",
      "26/26 [==============================] - 0s 486us/step\n",
      "26/26 [==============================] - 0s 499us/step\n"
     ]
    },
    {
     "data": {
      "text/html": [
       "<div>\n",
       "<style scoped>\n",
       "    .dataframe tbody tr th:only-of-type {\n",
       "        vertical-align: middle;\n",
       "    }\n",
       "\n",
       "    .dataframe tbody tr th {\n",
       "        vertical-align: top;\n",
       "    }\n",
       "\n",
       "    .dataframe thead th {\n",
       "        text-align: right;\n",
       "    }\n",
       "</style>\n",
       "<table border=\"1\" class=\"dataframe\">\n",
       "  <thead>\n",
       "    <tr style=\"text-align: right;\">\n",
       "      <th></th>\n",
       "      <th>test_accuracy</th>\n",
       "      <th>test_precision</th>\n",
       "      <th>test_recall</th>\n",
       "      <th>test_f1</th>\n",
       "    </tr>\n",
       "  </thead>\n",
       "  <tbody>\n",
       "    <tr>\n",
       "      <th>1</th>\n",
       "      <td>0.867</td>\n",
       "      <td>0.794</td>\n",
       "      <td>0.467</td>\n",
       "      <td>0.588</td>\n",
       "    </tr>\n",
       "    <tr>\n",
       "      <th>2</th>\n",
       "      <td>0.840</td>\n",
       "      <td>0.714</td>\n",
       "      <td>0.385</td>\n",
       "      <td>0.500</td>\n",
       "    </tr>\n",
       "    <tr>\n",
       "      <th>3</th>\n",
       "      <td>0.858</td>\n",
       "      <td>0.713</td>\n",
       "      <td>0.432</td>\n",
       "      <td>0.538</td>\n",
       "    </tr>\n",
       "    <tr>\n",
       "      <th>4</th>\n",
       "      <td>0.865</td>\n",
       "      <td>0.798</td>\n",
       "      <td>0.438</td>\n",
       "      <td>0.566</td>\n",
       "    </tr>\n",
       "    <tr>\n",
       "      <th>5</th>\n",
       "      <td>0.857</td>\n",
       "      <td>0.791</td>\n",
       "      <td>0.426</td>\n",
       "      <td>0.554</td>\n",
       "    </tr>\n",
       "    <tr>\n",
       "      <th>6</th>\n",
       "      <td>0.869</td>\n",
       "      <td>0.702</td>\n",
       "      <td>0.493</td>\n",
       "      <td>0.579</td>\n",
       "    </tr>\n",
       "    <tr>\n",
       "      <th>7</th>\n",
       "      <td>0.843</td>\n",
       "      <td>0.770</td>\n",
       "      <td>0.425</td>\n",
       "      <td>0.548</td>\n",
       "    </tr>\n",
       "    <tr>\n",
       "      <th>8</th>\n",
       "      <td>0.860</td>\n",
       "      <td>0.747</td>\n",
       "      <td>0.430</td>\n",
       "      <td>0.546</td>\n",
       "    </tr>\n",
       "    <tr>\n",
       "      <th>9</th>\n",
       "      <td>0.854</td>\n",
       "      <td>0.689</td>\n",
       "      <td>0.512</td>\n",
       "      <td>0.587</td>\n",
       "    </tr>\n",
       "    <tr>\n",
       "      <th>10</th>\n",
       "      <td>0.863</td>\n",
       "      <td>0.815</td>\n",
       "      <td>0.492</td>\n",
       "      <td>0.613</td>\n",
       "    </tr>\n",
       "  </tbody>\n",
       "</table>\n",
       "</div>"
      ],
      "text/plain": [
       "    test_accuracy  test_precision  test_recall  test_f1\n",
       "1           0.867           0.794        0.467    0.588\n",
       "2           0.840           0.714        0.385    0.500\n",
       "3           0.858           0.713        0.432    0.538\n",
       "4           0.865           0.798        0.438    0.566\n",
       "5           0.857           0.791        0.426    0.554\n",
       "6           0.869           0.702        0.493    0.579\n",
       "7           0.843           0.770        0.425    0.548\n",
       "8           0.860           0.747        0.430    0.546\n",
       "9           0.854           0.689        0.512    0.587\n",
       "10          0.863           0.815        0.492    0.613"
      ]
     },
     "execution_count": 61,
     "metadata": {},
     "output_type": "execute_result"
    }
   ],
   "source": [
    "classifier_model = KerasClassifier(build_fn = build_classifier, batch_size = 32, epochs = 100, verbose=0)\n",
    "\n",
    "# classifier_model'i sklearndeki bir classifaciton algoritması olarak kullanabiliriz artık !\n",
    "\n",
    "scores = cross_validate(estimator = classifier_model, X = X_train, y = y_train,\n",
    "                        scoring = ['accuracy', 'precision', 'recall', 'f1'], cv = 10)\n",
    "\n",
    "# \n",
    "\n",
    "df_scores = pd.DataFrame(scores, index = range(1, 11)).iloc[:, 2:]\n",
    "\n",
    "df_scores"
   ]
  },
  {
   "cell_type": "code",
   "execution_count": 62,
   "metadata": {},
   "outputs": [
    {
     "data": {
      "text/html": [
       "<div>\n",
       "<style scoped>\n",
       "    .dataframe tbody tr th:only-of-type {\n",
       "        vertical-align: middle;\n",
       "    }\n",
       "\n",
       "    .dataframe tbody tr th {\n",
       "        vertical-align: top;\n",
       "    }\n",
       "\n",
       "    .dataframe thead th {\n",
       "        text-align: right;\n",
       "    }\n",
       "</style>\n",
       "<table border=\"1\" class=\"dataframe\">\n",
       "  <thead>\n",
       "    <tr style=\"text-align: right;\">\n",
       "      <th></th>\n",
       "      <th>score_mean</th>\n",
       "      <th>score_std</th>\n",
       "    </tr>\n",
       "  </thead>\n",
       "  <tbody>\n",
       "    <tr>\n",
       "      <th>acc</th>\n",
       "      <td>0.858</td>\n",
       "      <td>0.010</td>\n",
       "    </tr>\n",
       "    <tr>\n",
       "      <th>pre</th>\n",
       "      <td>0.753</td>\n",
       "      <td>0.046</td>\n",
       "    </tr>\n",
       "    <tr>\n",
       "      <th>rec</th>\n",
       "      <td>0.450</td>\n",
       "      <td>0.039</td>\n",
       "    </tr>\n",
       "    <tr>\n",
       "      <th>f1</th>\n",
       "      <td>0.562</td>\n",
       "      <td>0.032</td>\n",
       "    </tr>\n",
       "  </tbody>\n",
       "</table>\n",
       "</div>"
      ],
      "text/plain": [
       "     score_mean  score_std\n",
       "acc       0.858      0.010\n",
       "pre       0.753      0.046\n",
       "rec       0.450      0.039\n",
       "f1        0.562      0.032"
      ]
     },
     "execution_count": 62,
     "metadata": {},
     "output_type": "execute_result"
    }
   ],
   "source": [
    "df_scores_summary = pd.DataFrame({\"score_mean\" : df_scores.mean().values, \"score_std\" : df_scores.std().values},\n",
    "                                 index = [\"acc\", \"pre\", \"rec\", \"f1\"])\n",
    "\n",
    "df_scores_summary"
   ]
  },
  {
   "cell_type": "markdown",
   "metadata": {},
   "source": [
    "## Optuna"
   ]
  },
  {
   "cell_type": "code",
   "execution_count": 63,
   "metadata": {},
   "outputs": [],
   "source": [
    "from tensorflow.keras.optimizers import Adam, Adadelta, RMSprop, Nadam\n",
    "from tensorflow.keras.regularizers import l1, l2, L1L2"
   ]
  },
  {
   "cell_type": "code",
   "execution_count": 64,
   "metadata": {},
   "outputs": [],
   "source": [
    "import optuna"
   ]
  },
  {
   "cell_type": "code",
   "execution_count": 65,
   "metadata": {},
   "outputs": [],
   "source": [
    "early_stop = EarlyStopping(\n",
    "    monitor=\"val_loss\", mode=\"min\", verbose=1, patience=15, restore_best_weights=True\n",
    ")"
   ]
  },
  {
   "cell_type": "code",
   "execution_count": 66,
   "metadata": {},
   "outputs": [],
   "source": [
    "trial_metric = \"Accuracy\"\n",
    "batch_size = 64\n",
    "\n",
    "# batch_size = 64 model biraz daha hızlı eğitilsin diye batch_size'ı 32'den 64'e çıkardık\n",
    "\n",
    "def create_model(trial):\n",
    "    # Some hyperparameters we want to optimize\n",
    "    n_units1 = trial.suggest_int(\"n_units1\", 64, 128) # ilk layerda kaç tane nöron olsun 64'ten 128'e kadar dene diyoruz\n",
    "    n_units2 = trial.suggest_int(\"n_units2\", 16, 64)  # ama dikkat hepsini denemeyecek en iyiye doğru bir yönelimi olacak. \n",
    "    n_units3 = trial.suggest_int(\"n_units3\", 16, 64)\n",
    "    optimizer = trial.suggest_categorical(\"optimizer\", [Adam, Adadelta, RMSprop, Nadam]) # optimizer olarak buradakileri dene\n",
    "    learning_rate = trial.suggest_loguniform(\"learning_rate\", 1e-5, 1e-1) \n",
    "    regularizer1 = trial.suggest_loguniform(\"regularizer1\", 1e-5, 1e-3)\n",
    "    regularizer2 = trial.suggest_loguniform(\"regularizer2\", 1e-5, 1e-3)\n",
    "    dropout = trial.suggest_categorical(\"dropout\",[0, .3, .5])\n",
    "    \n",
    "    # deneyeceğimiz hyperparametrelerin uzayını belirledik.\n",
    "    # modeli aynı seed'de çalıştırarak\n",
    "\n",
    "    tf.keras.utils.set_random_seed(seed)\n",
    "    model = Sequential()\n",
    "    model.add(Dense(n_units1,  \n",
    "                    activation=\"relu\", \n",
    "                    kernel_regularizer=L1L2(l1=regularizer1, l2=regularizer2), \n",
    "                    bias_regularizer=l2(regularizer2), \n",
    "                    activity_regularizer=l1(regularizer2), \n",
    "                    input_dim=X_train.shape[1],))\n",
    "    model.add(Dropout(dropout))\n",
    "    model.add(Dense(n_units2, \n",
    "                    activation=\"relu\", \n",
    "                    kernel_regularizer=L1L2(l1=regularizer1, l2=regularizer2), \n",
    "                    bias_regularizer=l2(regularizer2), \n",
    "                    activity_regularizer=l1(regularizer2)))\n",
    "    model.add(Dropout(dropout))\n",
    "    model.add(Dense(n_units3,\n",
    "                    activation=\"relu\", \n",
    "                    kernel_regularizer=L1L2(l1=regularizer1, l2=regularizer2),\n",
    "                    bias_regularizer=l2(regularizer2), \n",
    "                    activity_regularizer=l1(regularizer2)))\n",
    "    model.add(Dropout(dropout))\n",
    "    model.add(Dense(1, activation=\"sigmoid\"))\n",
    "   \n",
    "\n",
    "\n",
    "\n",
    "    model.compile(\n",
    "        loss=\"binary_crossentropy\",\n",
    "        optimizer=optimizer(learning_rate=learning_rate),\n",
    "        metrics=[trial_metric]\n",
    "    )\n",
    "    \n",
    "    \n",
    "    return model\n",
    "\n",
    "\n",
    "def objective(trial):\n",
    "    model = create_model(trial)\n",
    "    w0 = trial.suggest_loguniform(\"w0\", 0.01, 5) # mimarinin içerisinde direk veremediğimiz bir hyperparametre-->(class_weight)\n",
    "    w1 = trial.suggest_loguniform(\"w1\", 0.01, 2) # daha var bunu fit içerisinde belirtebiliyoruz ondan dolayı burada tanımladık\n",
    "                                                 # denenmesi için.\n",
    "    model.fit(\n",
    "        X_train,\n",
    "        y_train,\n",
    "        validation_data=(X_val, y_val),\n",
    "        batch_size=batch_size,\n",
    "        epochs=700,\n",
    "        callbacks=[early_stop],\n",
    "        class_weight={0: w0, 1: w1},\n",
    "        verbose=0,\n",
    "    )\n",
    "    return model.evaluate(X_test, y_test, verbose=0)[1]"
   ]
  },
  {
   "cell_type": "code",
   "execution_count": 67,
   "metadata": {},
   "outputs": [
    {
     "name": "stderr",
     "output_type": "stream",
     "text": [
      "\u001b[32m[I 2023-05-17 15:14:01,925]\u001b[0m A new study created in memory with name: no-name-2a63106d-4ec4-4aa0-a323-024de11069be\u001b[0m\n"
     ]
    },
    {
     "name": "stdout",
     "output_type": "stream",
     "text": [
      "Restoring model weights from the end of the best epoch: 1.\n",
      "Epoch 16: early stopping\n"
     ]
    },
    {
     "name": "stderr",
     "output_type": "stream",
     "text": [
      "\u001b[32m[I 2023-05-17 15:14:04,446]\u001b[0m Trial 0 finished with value: 0.7950000166893005 and parameters: {'n_units1': 122, 'n_units2': 19, 'n_units3': 28, 'optimizer': <class 'keras.optimizers.optimizer_v2.rmsprop.RMSprop'>, 'learning_rate': 3.214296473812022e-05, 'regularizer1': 0.00012013891826898272, 'regularizer2': 3.665122830372685e-05, 'dropout': 0, 'w0': 0.01912162130727256, 'w1': 0.1634133096596164}. Best is trial 0 with value: 0.7950000166893005.\u001b[0m\n",
      "\u001b[32m[I 2023-05-17 15:15:31,165]\u001b[0m Trial 1 finished with value: 0.7960000038146973 and parameters: {'n_units1': 79, 'n_units2': 24, 'n_units3': 19, 'optimizer': <class 'keras.optimizers.optimizer_v2.adadelta.Adadelta'>, 'learning_rate': 0.0007909047291894306, 'regularizer1': 0.00023910700573511745, 'regularizer2': 0.00024104857690927786, 'dropout': 0.5, 'w0': 0.07190608818795426, 'w1': 0.1022991663638936}. Best is trial 1 with value: 0.7960000038146973.\u001b[0m\n",
      "\u001b[32m[I 2023-05-17 15:16:57,969]\u001b[0m Trial 2 finished with value: 0.503000020980835 and parameters: {'n_units1': 90, 'n_units2': 20, 'n_units3': 30, 'optimizer': <class 'keras.optimizers.optimizer_v2.adadelta.Adadelta'>, 'learning_rate': 3.5458309181740504e-05, 'regularizer1': 5.973893442544271e-05, 'regularizer2': 0.0003558838134340079, 'dropout': 0.5, 'w0': 0.1310116726535961, 'w1': 0.38881148070003996}. Best is trial 1 with value: 0.7960000038146973.\u001b[0m\n"
     ]
    },
    {
     "name": "stdout",
     "output_type": "stream",
     "text": [
      "Restoring model weights from the end of the best epoch: 9.\n",
      "Epoch 24: early stopping\n"
     ]
    },
    {
     "name": "stderr",
     "output_type": "stream",
     "text": [
      "\u001b[32m[I 2023-05-17 15:17:01,665]\u001b[0m Trial 3 finished with value: 0.8429999947547913 and parameters: {'n_units1': 64, 'n_units2': 29, 'n_units3': 51, 'optimizer': <class 'keras.optimizers.optimizer_v2.rmsprop.RMSprop'>, 'learning_rate': 0.01042663412564747, 'regularizer1': 9.398650004873693e-05, 'regularizer2': 2.630004846051519e-05, 'dropout': 0.3, 'w0': 1.5648730421042634, 'w1': 0.6540541316381823}. Best is trial 3 with value: 0.8429999947547913.\u001b[0m\n"
     ]
    },
    {
     "name": "stdout",
     "output_type": "stream",
     "text": [
      "Restoring model weights from the end of the best epoch: 3.\n",
      "Epoch 18: early stopping\n"
     ]
    },
    {
     "name": "stderr",
     "output_type": "stream",
     "text": [
      "\u001b[32m[I 2023-05-17 15:17:04,974]\u001b[0m Trial 4 finished with value: 0.7960000038146973 and parameters: {'n_units1': 123, 'n_units2': 45, 'n_units3': 49, 'optimizer': <class 'keras.optimizers.optimizer_v2.adam.Adam'>, 'learning_rate': 0.007471939780621984, 'regularizer1': 0.0002044493839431573, 'regularizer2': 0.0002615849594482707, 'dropout': 0.5, 'w0': 4.721151912204245, 'w1': 0.01938913096409645}. Best is trial 3 with value: 0.8429999947547913.\u001b[0m\n"
     ]
    },
    {
     "name": "stdout",
     "output_type": "stream",
     "text": [
      "Restoring model weights from the end of the best epoch: 13.\n",
      "Epoch 28: early stopping\n"
     ]
    },
    {
     "name": "stderr",
     "output_type": "stream",
     "text": [
      "\u001b[32m[I 2023-05-17 15:17:09,481]\u001b[0m Trial 5 finished with value: 0.5669999718666077 and parameters: {'n_units1': 93, 'n_units2': 61, 'n_units3': 26, 'optimizer': <class 'keras.optimizers.optimizer_v2.rmsprop.RMSprop'>, 'learning_rate': 0.00391969800015034, 'regularizer1': 4.979875321168019e-05, 'regularizer2': 6.613125128964672e-05, 'dropout': 0.3, 'w0': 0.020124869443726382, 'w1': 0.3980130679443614}. Best is trial 3 with value: 0.8429999947547913.\u001b[0m\n"
     ]
    },
    {
     "name": "stdout",
     "output_type": "stream",
     "text": [
      "Restoring model weights from the end of the best epoch: 23.\n",
      "Epoch 38: early stopping\n"
     ]
    },
    {
     "name": "stderr",
     "output_type": "stream",
     "text": [
      "\u001b[32m[I 2023-05-17 15:22:00,663]\u001b[0m Trial 6 finished with value: 0.20399999618530273 and parameters: {'n_units1': 116, 'n_units2': 51, 'n_units3': 21, 'optimizer': <class 'keras.optimizers.optimizer_v2.adam.Adam'>, 'learning_rate': 0.051159878479219566, 'regularizer1': 3.724431494818002e-05, 'regularizer2': 0.00010130921510764287, 'dropout': 0.5, 'w0': 0.03769606524935875, 'w1': 0.34518708246923935}. Best is trial 3 with value: 0.8429999947547913.\u001b[0m\n"
     ]
    },
    {
     "name": "stdout",
     "output_type": "stream",
     "text": [
      "Restoring model weights from the end of the best epoch: 4.\n",
      "Epoch 19: early stopping\n"
     ]
    },
    {
     "name": "stderr",
     "output_type": "stream",
     "text": [
      "\u001b[32m[I 2023-05-17 15:22:04,397]\u001b[0m Trial 7 finished with value: 0.7960000038146973 and parameters: {'n_units1': 80, 'n_units2': 39, 'n_units3': 60, 'optimizer': <class 'keras.optimizers.optimizer_v2.adam.Adam'>, 'learning_rate': 0.08225133780680535, 'regularizer1': 0.00030148787428468303, 'regularizer2': 4.2404212910146317e-05, 'dropout': 0.3, 'w0': 3.3388741559669968, 'w1': 0.11362207764790835}. Best is trial 3 with value: 0.8429999947547913.\u001b[0m\n"
     ]
    },
    {
     "name": "stdout",
     "output_type": "stream",
     "text": [
      "Restoring model weights from the end of the best epoch: 17.\n",
      "Epoch 32: early stopping\n"
     ]
    },
    {
     "name": "stderr",
     "output_type": "stream",
     "text": [
      "\u001b[32m[I 2023-05-17 15:22:09,407]\u001b[0m Trial 8 finished with value: 0.8519999980926514 and parameters: {'n_units1': 123, 'n_units2': 32, 'n_units3': 16, 'optimizer': <class 'keras.optimizers.optimizer_v2.nadam.Nadam'>, 'learning_rate': 0.01067104476649163, 'regularizer1': 9.678116372923235e-05, 'regularizer2': 1.718708183816689e-05, 'dropout': 0, 'w0': 0.7641536455021122, 'w1': 0.2688650977941791}. Best is trial 8 with value: 0.8519999980926514.\u001b[0m\n"
     ]
    },
    {
     "name": "stdout",
     "output_type": "stream",
     "text": [
      "Restoring model weights from the end of the best epoch: 100.\n",
      "Epoch 115: early stopping\n"
     ]
    },
    {
     "name": "stderr",
     "output_type": "stream",
     "text": [
      "\u001b[32m[I 2023-05-17 15:22:26,655]\u001b[0m Trial 9 finished with value: 0.7960000038146973 and parameters: {'n_units1': 93, 'n_units2': 47, 'n_units3': 42, 'optimizer': <class 'keras.optimizers.optimizer_v2.adam.Adam'>, 'learning_rate': 0.0002289345747617669, 'regularizer1': 8.768701100355937e-05, 'regularizer2': 0.00017062737554057495, 'dropout': 0.3, 'w0': 0.3319256760194446, 'w1': 0.13394545906090852}. Best is trial 8 with value: 0.8519999980926514.\u001b[0m\n"
     ]
    },
    {
     "name": "stdout",
     "output_type": "stream",
     "text": [
      "Restoring model weights from the end of the best epoch: 34.\n",
      "Epoch 49: early stopping\n"
     ]
    },
    {
     "name": "stderr",
     "output_type": "stream",
     "text": [
      "\u001b[32m[I 2023-05-17 15:22:33,472]\u001b[0m Trial 10 finished with value: 0.8460000157356262 and parameters: {'n_units1': 109, 'n_units2': 34, 'n_units3': 36, 'optimizer': <class 'keras.optimizers.optimizer_v2.nadam.Nadam'>, 'learning_rate': 0.0011143354834886976, 'regularizer1': 1.3469203987839714e-05, 'regularizer2': 1.1983325674594884e-05, 'dropout': 0, 'w0': 0.5326399617490225, 'w1': 1.0188779817754667}. Best is trial 8 with value: 0.8519999980926514.\u001b[0m\n"
     ]
    },
    {
     "name": "stdout",
     "output_type": "stream",
     "text": [
      "Restoring model weights from the end of the best epoch: 3.\n",
      "Epoch 18: early stopping\n"
     ]
    },
    {
     "name": "stderr",
     "output_type": "stream",
     "text": [
      "\u001b[32m[I 2023-05-17 15:22:36,544]\u001b[0m Trial 11 finished with value: 0.7490000128746033 and parameters: {'n_units1': 110, 'n_units2': 33, 'n_units3': 36, 'optimizer': <class 'keras.optimizers.optimizer_v2.nadam.Nadam'>, 'learning_rate': 0.0012282828759089654, 'regularizer1': 1.2752590562588885e-05, 'regularizer2': 1.0960799958809156e-05, 'dropout': 0, 'w0': 0.4000628278846704, 'w1': 1.993397297733419}. Best is trial 8 with value: 0.8519999980926514.\u001b[0m\n"
     ]
    },
    {
     "name": "stdout",
     "output_type": "stream",
     "text": [
      "Restoring model weights from the end of the best epoch: 34.\n",
      "Epoch 49: early stopping\n"
     ]
    },
    {
     "name": "stderr",
     "output_type": "stream",
     "text": [
      "\u001b[32m[I 2023-05-17 15:22:43,217]\u001b[0m Trial 12 finished with value: 0.8529999852180481 and parameters: {'n_units1': 106, 'n_units2': 36, 'n_units3': 16, 'optimizer': <class 'keras.optimizers.optimizer_v2.nadam.Nadam'>, 'learning_rate': 0.02334664549751424, 'regularizer1': 0.000999745726076732, 'regularizer2': 1.0350484265861394e-05, 'dropout': 0, 'w0': 0.7435171566170723, 'w1': 1.4772755060805662}. Best is trial 12 with value: 0.8529999852180481.\u001b[0m\n"
     ]
    },
    {
     "name": "stdout",
     "output_type": "stream",
     "text": [
      "Restoring model weights from the end of the best epoch: 21.\n",
      "Epoch 36: early stopping\n"
     ]
    },
    {
     "name": "stderr",
     "output_type": "stream",
     "text": [
      "\u001b[32m[I 2023-05-17 15:22:48,568]\u001b[0m Trial 13 finished with value: 0.847000002861023 and parameters: {'n_units1': 104, 'n_units2': 37, 'n_units3': 16, 'optimizer': <class 'keras.optimizers.optimizer_v2.nadam.Nadam'>, 'learning_rate': 0.02049758339873287, 'regularizer1': 0.0007763265992371391, 'regularizer2': 0.0009641649678698122, 'dropout': 0, 'w0': 0.8069048815908778, 'w1': 1.6465921629664342}. Best is trial 12 with value: 0.8529999852180481.\u001b[0m\n"
     ]
    },
    {
     "name": "stdout",
     "output_type": "stream",
     "text": [
      "Restoring model weights from the end of the best epoch: 57.\n",
      "Epoch 72: early stopping\n"
     ]
    },
    {
     "name": "stderr",
     "output_type": "stream",
     "text": [
      "\u001b[32m[I 2023-05-17 15:22:58,090]\u001b[0m Trial 14 finished with value: 0.8450000286102295 and parameters: {'n_units1': 103, 'n_units2': 28, 'n_units3': 23, 'optimizer': <class 'keras.optimizers.optimizer_v2.nadam.Nadam'>, 'learning_rate': 0.026116788555911978, 'regularizer1': 0.0008704313946551222, 'regularizer2': 1.885329609943422e-05, 'dropout': 0, 'w0': 1.1060043361619147, 'w1': 0.8930263947309426}. Best is trial 12 with value: 0.8529999852180481.\u001b[0m\n"
     ]
    },
    {
     "data": {
      "text/plain": [
       "{'n_units1': 106,\n",
       " 'n_units2': 36,\n",
       " 'n_units3': 16,\n",
       " 'optimizer': keras.optimizers.optimizer_v2.nadam.Nadam,\n",
       " 'learning_rate': 0.02334664549751424,\n",
       " 'regularizer1': 0.000999745726076732,\n",
       " 'regularizer2': 1.0350484265861394e-05,\n",
       " 'dropout': 0,\n",
       " 'w0': 0.7435171566170723,\n",
       " 'w1': 1.4772755060805662}"
      ]
     },
     "metadata": {},
     "output_type": "display_data"
    }
   ],
   "source": [
    "study = optuna.create_study(direction=\"maximize\") # trial_metric = \"Accuracy\" olduğundan bunu maximize etmek istiyorum.\n",
    "study.optimize(objective, n_trials=15)\n",
    "display(study.best_params)"
   ]
  },
  {
   "cell_type": "code",
   "execution_count": 68,
   "metadata": {},
   "outputs": [
    {
     "name": "stdout",
     "output_type": "stream",
     "text": [
      "Epoch 1/500\n",
      "127/127 [==============================] - 1s 2ms/step - loss: 0.5615 - Accuracy: 0.7963 - val_loss: 0.4869 - val_Accuracy: 0.7967\n",
      "Epoch 2/500\n",
      "127/127 [==============================] - 0s 1ms/step - loss: 0.4927 - Accuracy: 0.8038 - val_loss: 0.4806 - val_Accuracy: 0.8056\n",
      "Epoch 3/500\n",
      "127/127 [==============================] - 0s 984us/step - loss: 0.4820 - Accuracy: 0.8205 - val_loss: 0.4708 - val_Accuracy: 0.8178\n",
      "Epoch 4/500\n",
      "127/127 [==============================] - 0s 1ms/step - loss: 0.4777 - Accuracy: 0.8264 - val_loss: 0.4646 - val_Accuracy: 0.8178\n",
      "Epoch 5/500\n",
      "127/127 [==============================] - 0s 1ms/step - loss: 0.4738 - Accuracy: 0.8252 - val_loss: 0.4510 - val_Accuracy: 0.8322\n",
      "Epoch 6/500\n",
      "127/127 [==============================] - 0s 1ms/step - loss: 0.4679 - Accuracy: 0.8299 - val_loss: 0.4631 - val_Accuracy: 0.8322\n",
      "Epoch 7/500\n",
      "127/127 [==============================] - 0s 990us/step - loss: 0.4680 - Accuracy: 0.8253 - val_loss: 0.4461 - val_Accuracy: 0.8378\n",
      "Epoch 8/500\n",
      "127/127 [==============================] - 0s 964us/step - loss: 0.4645 - Accuracy: 0.8262 - val_loss: 0.4447 - val_Accuracy: 0.8333\n",
      "Epoch 9/500\n",
      "127/127 [==============================] - 0s 974us/step - loss: 0.4590 - Accuracy: 0.8310 - val_loss: 0.5183 - val_Accuracy: 0.8189\n",
      "Epoch 10/500\n",
      "127/127 [==============================] - 0s 960us/step - loss: 0.4598 - Accuracy: 0.8315 - val_loss: 0.4457 - val_Accuracy: 0.8367\n",
      "Epoch 11/500\n",
      "127/127 [==============================] - 0s 976us/step - loss: 0.4588 - Accuracy: 0.8321 - val_loss: 0.5039 - val_Accuracy: 0.8189\n",
      "Epoch 12/500\n",
      "127/127 [==============================] - 0s 968us/step - loss: 0.4580 - Accuracy: 0.8296 - val_loss: 0.4534 - val_Accuracy: 0.8433\n",
      "Epoch 13/500\n",
      "127/127 [==============================] - 0s 977us/step - loss: 0.4572 - Accuracy: 0.8306 - val_loss: 0.4499 - val_Accuracy: 0.8278\n",
      "Epoch 14/500\n",
      "127/127 [==============================] - 0s 977us/step - loss: 0.4557 - Accuracy: 0.8331 - val_loss: 0.4345 - val_Accuracy: 0.8356\n",
      "Epoch 15/500\n",
      "127/127 [==============================] - 0s 971us/step - loss: 0.4577 - Accuracy: 0.8278 - val_loss: 0.4403 - val_Accuracy: 0.8378\n",
      "Epoch 16/500\n",
      "127/127 [==============================] - 0s 978us/step - loss: 0.4550 - Accuracy: 0.8323 - val_loss: 0.4475 - val_Accuracy: 0.8400\n",
      "Epoch 17/500\n",
      "127/127 [==============================] - 0s 973us/step - loss: 0.4557 - Accuracy: 0.8317 - val_loss: 0.4349 - val_Accuracy: 0.8422\n",
      "Epoch 18/500\n",
      "127/127 [==============================] - 0s 980us/step - loss: 0.4506 - Accuracy: 0.8310 - val_loss: 0.4298 - val_Accuracy: 0.8411\n",
      "Epoch 19/500\n",
      "127/127 [==============================] - 0s 1ms/step - loss: 0.4539 - Accuracy: 0.8326 - val_loss: 0.4351 - val_Accuracy: 0.8356\n",
      "Epoch 20/500\n",
      "127/127 [==============================] - 0s 1ms/step - loss: 0.4518 - Accuracy: 0.8315 - val_loss: 0.4363 - val_Accuracy: 0.8267\n",
      "Epoch 21/500\n",
      "127/127 [==============================] - 0s 993us/step - loss: 0.4496 - Accuracy: 0.8331 - val_loss: 0.4316 - val_Accuracy: 0.8367\n",
      "Epoch 22/500\n",
      "127/127 [==============================] - 0s 967us/step - loss: 0.4490 - Accuracy: 0.8325 - val_loss: 0.4544 - val_Accuracy: 0.8244\n",
      "Epoch 23/500\n",
      "127/127 [==============================] - 0s 1000us/step - loss: 0.4532 - Accuracy: 0.8309 - val_loss: 0.4290 - val_Accuracy: 0.8378\n",
      "Epoch 24/500\n",
      "127/127 [==============================] - 0s 983us/step - loss: 0.4496 - Accuracy: 0.8327 - val_loss: 0.4439 - val_Accuracy: 0.8322\n",
      "Epoch 25/500\n",
      "127/127 [==============================] - 0s 979us/step - loss: 0.4486 - Accuracy: 0.8331 - val_loss: 0.4294 - val_Accuracy: 0.8467\n",
      "Epoch 26/500\n",
      "127/127 [==============================] - 0s 985us/step - loss: 0.4497 - Accuracy: 0.8321 - val_loss: 0.4451 - val_Accuracy: 0.8300\n",
      "Epoch 27/500\n",
      "127/127 [==============================] - 0s 977us/step - loss: 0.4506 - Accuracy: 0.8322 - val_loss: 0.4318 - val_Accuracy: 0.8433\n",
      "Epoch 28/500\n",
      "127/127 [==============================] - 0s 976us/step - loss: 0.4473 - Accuracy: 0.8317 - val_loss: 0.4319 - val_Accuracy: 0.8400\n",
      "Epoch 29/500\n",
      "127/127 [==============================] - 0s 985us/step - loss: 0.4463 - Accuracy: 0.8323 - val_loss: 0.4286 - val_Accuracy: 0.8367\n",
      "Epoch 30/500\n",
      "127/127 [==============================] - 0s 972us/step - loss: 0.4473 - Accuracy: 0.8338 - val_loss: 0.4326 - val_Accuracy: 0.8433\n",
      "Epoch 31/500\n",
      "127/127 [==============================] - 0s 983us/step - loss: 0.4464 - Accuracy: 0.8322 - val_loss: 0.4295 - val_Accuracy: 0.8389\n",
      "Epoch 32/500\n",
      "127/127 [==============================] - 0s 978us/step - loss: 0.4469 - Accuracy: 0.8322 - val_loss: 0.4340 - val_Accuracy: 0.8356\n",
      "Epoch 33/500\n",
      "127/127 [==============================] - 0s 985us/step - loss: 0.4459 - Accuracy: 0.8327 - val_loss: 0.4232 - val_Accuracy: 0.8378\n",
      "Epoch 34/500\n",
      "127/127 [==============================] - 0s 986us/step - loss: 0.4464 - Accuracy: 0.8301 - val_loss: 0.4595 - val_Accuracy: 0.8200\n",
      "Epoch 35/500\n",
      "127/127 [==============================] - 0s 975us/step - loss: 0.4463 - Accuracy: 0.8309 - val_loss: 0.4286 - val_Accuracy: 0.8367\n",
      "Epoch 36/500\n",
      "127/127 [==============================] - 0s 985us/step - loss: 0.4450 - Accuracy: 0.8307 - val_loss: 0.4500 - val_Accuracy: 0.8433\n",
      "Epoch 37/500\n",
      "127/127 [==============================] - 0s 987us/step - loss: 0.4447 - Accuracy: 0.8314 - val_loss: 0.4508 - val_Accuracy: 0.8267\n",
      "Epoch 38/500\n",
      "127/127 [==============================] - 0s 982us/step - loss: 0.4454 - Accuracy: 0.8315 - val_loss: 0.4220 - val_Accuracy: 0.8356\n",
      "Epoch 39/500\n",
      "127/127 [==============================] - 0s 974us/step - loss: 0.4441 - Accuracy: 0.8327 - val_loss: 0.4330 - val_Accuracy: 0.8267\n",
      "Epoch 40/500\n",
      "127/127 [==============================] - 0s 975us/step - loss: 0.4445 - Accuracy: 0.8312 - val_loss: 0.4260 - val_Accuracy: 0.8333\n",
      "Epoch 41/500\n",
      "127/127 [==============================] - 0s 995us/step - loss: 0.4436 - Accuracy: 0.8316 - val_loss: 0.4267 - val_Accuracy: 0.8356\n",
      "Epoch 42/500\n",
      "127/127 [==============================] - 0s 968us/step - loss: 0.4434 - Accuracy: 0.8320 - val_loss: 0.4245 - val_Accuracy: 0.8400\n",
      "Epoch 43/500\n",
      "127/127 [==============================] - 0s 977us/step - loss: 0.4431 - Accuracy: 0.8317 - val_loss: 0.4270 - val_Accuracy: 0.8400\n",
      "Epoch 44/500\n",
      "127/127 [==============================] - 0s 973us/step - loss: 0.4429 - Accuracy: 0.8315 - val_loss: 0.4275 - val_Accuracy: 0.8356\n",
      "Epoch 45/500\n",
      "127/127 [==============================] - 0s 980us/step - loss: 0.4438 - Accuracy: 0.8316 - val_loss: 0.4245 - val_Accuracy: 0.8356\n",
      "Epoch 46/500\n",
      "127/127 [==============================] - 0s 972us/step - loss: 0.4435 - Accuracy: 0.8293 - val_loss: 0.4294 - val_Accuracy: 0.8422\n",
      "Epoch 47/500\n",
      "127/127 [==============================] - 0s 981us/step - loss: 0.4419 - Accuracy: 0.8310 - val_loss: 0.4234 - val_Accuracy: 0.8367\n",
      "Epoch 48/500\n",
      "127/127 [==============================] - 0s 985us/step - loss: 0.4426 - Accuracy: 0.8344 - val_loss: 0.4206 - val_Accuracy: 0.8322\n",
      "Epoch 49/500\n",
      "127/127 [==============================] - 0s 979us/step - loss: 0.4413 - Accuracy: 0.8317 - val_loss: 0.4172 - val_Accuracy: 0.8422\n",
      "Epoch 50/500\n",
      "127/127 [==============================] - 0s 932us/step - loss: 0.4423 - Accuracy: 0.8325 - val_loss: 0.4338 - val_Accuracy: 0.8322\n",
      "Epoch 51/500\n",
      "127/127 [==============================] - 0s 978us/step - loss: 0.4419 - Accuracy: 0.8323 - val_loss: 0.4201 - val_Accuracy: 0.8389\n",
      "Epoch 52/500\n",
      "127/127 [==============================] - 0s 976us/step - loss: 0.4424 - Accuracy: 0.8325 - val_loss: 0.4221 - val_Accuracy: 0.8422\n",
      "Epoch 53/500\n",
      "127/127 [==============================] - 0s 985us/step - loss: 0.4402 - Accuracy: 0.8322 - val_loss: 0.4200 - val_Accuracy: 0.8378\n",
      "Epoch 54/500\n",
      "127/127 [==============================] - 0s 979us/step - loss: 0.4415 - Accuracy: 0.8349 - val_loss: 0.4221 - val_Accuracy: 0.8411\n",
      "Epoch 55/500\n",
      "127/127 [==============================] - 0s 991us/step - loss: 0.4395 - Accuracy: 0.8340 - val_loss: 0.4465 - val_Accuracy: 0.8256\n",
      "Epoch 56/500\n",
      "127/127 [==============================] - 0s 986us/step - loss: 0.4412 - Accuracy: 0.8317 - val_loss: 0.4211 - val_Accuracy: 0.8367\n",
      "Epoch 57/500\n",
      "127/127 [==============================] - 0s 1ms/step - loss: 0.4391 - Accuracy: 0.8333 - val_loss: 0.4153 - val_Accuracy: 0.8389\n",
      "Epoch 58/500\n",
      "127/127 [==============================] - 0s 1ms/step - loss: 0.4394 - Accuracy: 0.8330 - val_loss: 0.4237 - val_Accuracy: 0.8356\n",
      "Epoch 59/500\n",
      "127/127 [==============================] - 0s 1ms/step - loss: 0.4403 - Accuracy: 0.8294 - val_loss: 0.4199 - val_Accuracy: 0.8422\n",
      "Epoch 60/500\n",
      "127/127 [==============================] - 0s 1ms/step - loss: 0.4396 - Accuracy: 0.8300 - val_loss: 0.4213 - val_Accuracy: 0.8367\n",
      "Epoch 61/500\n",
      "127/127 [==============================] - 0s 1ms/step - loss: 0.4376 - Accuracy: 0.8319 - val_loss: 0.4180 - val_Accuracy: 0.8367\n",
      "Epoch 62/500\n",
      "127/127 [==============================] - 0s 1ms/step - loss: 0.4387 - Accuracy: 0.8314 - val_loss: 0.4220 - val_Accuracy: 0.8489\n",
      "Epoch 63/500\n",
      "127/127 [==============================] - 0s 1ms/step - loss: 0.4390 - Accuracy: 0.8307 - val_loss: 0.4219 - val_Accuracy: 0.8422\n",
      "Epoch 64/500\n",
      "127/127 [==============================] - 0s 1ms/step - loss: 0.4376 - Accuracy: 0.8306 - val_loss: 0.4347 - val_Accuracy: 0.8278\n",
      "Epoch 65/500\n",
      "127/127 [==============================] - 0s 1ms/step - loss: 0.4387 - Accuracy: 0.8310 - val_loss: 0.4279 - val_Accuracy: 0.8333\n",
      "Epoch 66/500\n",
      "127/127 [==============================] - 0s 1ms/step - loss: 0.4383 - Accuracy: 0.8311 - val_loss: 0.4178 - val_Accuracy: 0.8356\n",
      "Epoch 67/500\n",
      "127/127 [==============================] - 0s 1ms/step - loss: 0.4368 - Accuracy: 0.8328 - val_loss: 0.4129 - val_Accuracy: 0.8411\n",
      "Epoch 68/500\n",
      "127/127 [==============================] - 0s 1ms/step - loss: 0.4382 - Accuracy: 0.8320 - val_loss: 0.4273 - val_Accuracy: 0.8411\n",
      "Epoch 69/500\n",
      "127/127 [==============================] - 0s 1ms/step - loss: 0.4375 - Accuracy: 0.8300 - val_loss: 0.4199 - val_Accuracy: 0.8367\n",
      "Epoch 70/500\n",
      "127/127 [==============================] - 0s 1ms/step - loss: 0.4381 - Accuracy: 0.8317 - val_loss: 0.4251 - val_Accuracy: 0.8322\n",
      "Epoch 71/500\n",
      "127/127 [==============================] - 0s 1ms/step - loss: 0.4384 - Accuracy: 0.8281 - val_loss: 0.4160 - val_Accuracy: 0.8400\n",
      "Epoch 72/500\n",
      "127/127 [==============================] - 0s 1ms/step - loss: 0.4388 - Accuracy: 0.8319 - val_loss: 0.4195 - val_Accuracy: 0.8378\n",
      "Epoch 73/500\n",
      "127/127 [==============================] - 0s 1ms/step - loss: 0.4381 - Accuracy: 0.8320 - val_loss: 0.4190 - val_Accuracy: 0.8389\n",
      "Epoch 74/500\n",
      "127/127 [==============================] - 0s 1ms/step - loss: 0.4394 - Accuracy: 0.8307 - val_loss: 0.4294 - val_Accuracy: 0.8344\n",
      "Epoch 75/500\n",
      "127/127 [==============================] - 0s 1ms/step - loss: 0.4371 - Accuracy: 0.8319 - val_loss: 0.4330 - val_Accuracy: 0.8389\n",
      "Epoch 76/500\n",
      "127/127 [==============================] - 0s 1ms/step - loss: 0.4384 - Accuracy: 0.8312 - val_loss: 0.4287 - val_Accuracy: 0.8311\n",
      "Epoch 77/500\n",
      "127/127 [==============================] - 0s 1ms/step - loss: 0.4368 - Accuracy: 0.8317 - val_loss: 0.4196 - val_Accuracy: 0.8422\n",
      "Epoch 78/500\n",
      "127/127 [==============================] - 0s 998us/step - loss: 0.4361 - Accuracy: 0.8322 - val_loss: 0.4271 - val_Accuracy: 0.8411\n",
      "Epoch 79/500\n",
      "127/127 [==============================] - 0s 991us/step - loss: 0.4366 - Accuracy: 0.8319 - val_loss: 0.4166 - val_Accuracy: 0.8400\n",
      "Epoch 80/500\n",
      "127/127 [==============================] - 0s 1ms/step - loss: 0.4361 - Accuracy: 0.8314 - val_loss: 0.4173 - val_Accuracy: 0.8433\n",
      "Epoch 81/500\n",
      "127/127 [==============================] - 0s 1ms/step - loss: 0.4367 - Accuracy: 0.8316 - val_loss: 0.4155 - val_Accuracy: 0.8389\n",
      "Epoch 82/500\n",
      "108/127 [========================>.....] - ETA: 0s - loss: 0.4368 - Accuracy: 0.8312Restoring model weights from the end of the best epoch: 67.\n",
      "127/127 [==============================] - 0s 1ms/step - loss: 0.4357 - Accuracy: 0.8341 - val_loss: 0.4176 - val_Accuracy: 0.8367\n",
      "Epoch 82: early stopping\n"
     ]
    },
    {
     "data": {
      "text/plain": [
       "<keras.callbacks.History at 0x7f8cc10b6d30>"
      ]
     },
     "execution_count": 68,
     "metadata": {},
     "output_type": "execute_result"
    }
   ],
   "source": [
    "# build model with optuna parameters\n",
    "unit1, unit2, unit3, optimizer, lr, lreg1, lreg2, dropout_rate, w0, w1 = (\n",
    "    study.best_params[\"n_units1\"],\n",
    "    study.best_params[\"n_units2\"],\n",
    "    study.best_params[\"n_units3\"],\n",
    "    study.best_params[\"optimizer\"],\n",
    "    study.best_params[\"learning_rate\"],\n",
    "    study.best_params[\"regularizer1\"],\n",
    "    study.best_params[\"regularizer2\"],\n",
    "    study.best_params[\"dropout\"],\n",
    "    study.best_params[\"w0\"],\n",
    "    study.best_params[\"w1\"],\n",
    ")\n",
    "\n",
    "tf.keras.utils.set_random_seed(seed)\n",
    "model = Sequential()\n",
    "model.add(Dense(unit1, \n",
    "                activation=\"relu\", \n",
    "                kernel_regularizer=L1L2(l1=lreg1, l2=lreg2), \n",
    "                bias_regularizer=l2(lreg2), \n",
    "                activity_regularizer=l2(lreg2)))\n",
    "model.add(Dropout(dropout_rate))\n",
    "model.add(Dense(unit2, \n",
    "                activation=\"relu\", \n",
    "                kernel_regularizer=L1L2(l1=lreg1, l2=lreg2), \n",
    "                bias_regularizer=l2(lreg2), \n",
    "                activity_regularizer=l2(lreg2)))\n",
    "model.add(Dropout(dropout_rate))\n",
    "model.add(Dense(unit3, \n",
    "                activation=\"relu\", \n",
    "                kernel_regularizer=L1L2(l1=lreg1, l2=lreg2), \n",
    "                bias_regularizer=l2(lreg2), \n",
    "                activity_regularizer=l2(lreg2)))\n",
    "model.add(Dropout(dropout_rate))\n",
    "model.add(Dense(1, activation=\"sigmoid\"))\n",
    "opt = optimizer(learning_rate=lr)\n",
    "model.compile(optimizer=opt, loss=\"binary_crossentropy\", metrics=[\"Accuracy\"])\n",
    "\n",
    "# train model\n",
    "model.fit(\n",
    "    X_train,\n",
    "    y_train,\n",
    "    validation_data=(X_val, y_val),\n",
    "    batch_size=64,\n",
    "    epochs=500,\n",
    "    callbacks=[early_stop],\n",
    "    verbose=1,\n",
    ")"
   ]
  },
  {
   "cell_type": "code",
   "execution_count": 69,
   "metadata": {},
   "outputs": [],
   "source": [
    "history = model.history.history"
   ]
  },
  {
   "cell_type": "code",
   "execution_count": 70,
   "metadata": {},
   "outputs": [
    {
     "data": {
      "image/png": "[encoded data removed]",
      "text/plain": [
       "<Figure size 720x432 with 1 Axes>"
      ]
     },
     "metadata": {},
     "output_type": "display_data"
    }
   ],
   "source": [
    "loss_df = pd.DataFrame(history)\n",
    "loss_df.plot(subplots=())\n",
    "plt.show()"
   ]
  },
  {
   "cell_type": "code",
   "execution_count": 71,
   "metadata": {},
   "outputs": [
    {
     "name": "stdout",
     "output_type": "stream",
     "text": [
      "32/32 [==============================] - 0s 583us/step\n",
      "[[770  26]\n",
      " [141  63]]\n",
      "              precision    recall  f1-score   support\n",
      "\n",
      "           0       0.85      0.97      0.90       796\n",
      "           1       0.71      0.31      0.43       204\n",
      "\n",
      "    accuracy                           0.83      1000\n",
      "   macro avg       0.78      0.64      0.67      1000\n",
      "weighted avg       0.82      0.83      0.81      1000\n",
      "\n"
     ]
    }
   ],
   "source": [
    "y_pred = (model.predict(X_test) > 0.5).astype(\"int32\")\n",
    "print(confusion_matrix(y_test, y_pred))\n",
    "print(classification_report(y_test, y_pred))"
   ]
  },
  {
   "cell_type": "markdown",
   "metadata": {},
   "source": [
    "### Evaluate The Model\n",
    "\n",
    "- Plot the model history to observe the changing of metrics\n",
    "- Make prediction to see \"confusion matrix\" and \"classification report\"\n",
    "- Check ROC (Receiver Operating Curve) and AUC (Area Under Curve) for the model"
   ]
  },
  {
   "cell_type": "code",
   "execution_count": 72,
   "metadata": {},
   "outputs": [
    {
     "name": "stdout",
     "output_type": "stream",
     "text": [
      "32/32 [==============================] - 0s 559us/step\n"
     ]
    },
    {
     "data": {
      "text/plain": [
       "<sklearn.metrics._plot.roc_curve.RocCurveDisplay at 0x7f8cd2077ee0>"
      ]
     },
     "execution_count": 72,
     "metadata": {},
     "output_type": "execute_result"
    },
    {
     "data": {
      "image/png": "[encoded data removed]",
      "text/plain": [
       "<Figure size 720x432 with 1 Axes>"
      ]
     },
     "metadata": {},
     "output_type": "display_data"
    }
   ],
   "source": [
    "y_pred_proba = model.predict(X_test)\n",
    "RocCurveDisplay.from_predictions(y_test, y_pred_proba)"
   ]
  },
  {
   "cell_type": "code",
   "execution_count": 73,
   "metadata": {},
   "outputs": [
    {
     "name": "stdout",
     "output_type": "stream",
     "text": [
      "loss:  0.4459468722343445\n",
      "accuracy:  0.8330000042915344\n"
     ]
    }
   ],
   "source": [
    "loss, accuracy = model.evaluate(X_test, y_test, verbose=0)\n",
    "print(\"loss: \", loss)\n",
    "print(\"accuracy: \", accuracy)"
   ]
  },
  {
   "cell_type": "code",
   "execution_count": 74,
   "metadata": {},
   "outputs": [
    {
     "data": {
      "text/plain": [
       "0.7656850428613657"
      ]
     },
     "execution_count": 74,
     "metadata": {},
     "output_type": "execute_result"
    }
   ],
   "source": [
    "roc_auc_score(y_test, y_pred_proba)"
   ]
  },
  {
   "cell_type": "markdown",
   "metadata": {},
   "source": [
    "# Final Model and Model Deployment"
   ]
  },
  {
   "cell_type": "code",
   "execution_count": 75,
   "metadata": {
    "tags": []
   },
   "outputs": [],
   "source": [
    "import pickle\n",
    "\n",
    "pickle.dump(scaler, open(\"scaler_exited\", 'wb'))"
   ]
  },
  {
   "cell_type": "code",
   "execution_count": 76,
   "metadata": {},
   "outputs": [
    {
     "name": "stdout",
     "output_type": "stream",
     "text": [
      "32/32 [==============================] - 0s 542us/step\n",
      "[[770  26]\n",
      " [141  63]]\n",
      "              precision    recall  f1-score   support\n",
      "\n",
      "           0       0.85      0.97      0.90       796\n",
      "           1       0.71      0.31      0.43       204\n",
      "\n",
      "    accuracy                           0.83      1000\n",
      "   macro avg       0.78      0.64      0.67      1000\n",
      "weighted avg       0.82      0.83      0.81      1000\n",
      "\n"
     ]
    }
   ],
   "source": [
    "y_pred = model.predict(X_test) > 0.5\n",
    "print(confusion_matrix(y_test, y_pred))\n",
    "print(classification_report(y_test, y_pred))"
   ]
  },
  {
   "cell_type": "code",
   "execution_count": 77,
   "metadata": {},
   "outputs": [],
   "source": [
    "model.save('model_exited.h5')"
   ]
  },
  {
   "cell_type": "markdown",
   "metadata": {
    "id": "Cq10ovAX6daY"
   },
   "source": [
    "## Prediction"
   ]
  },
  {
   "cell_type": "code",
   "execution_count": 78,
   "metadata": {},
   "outputs": [],
   "source": [
    "from tensorflow.keras.models import load_model"
   ]
  },
  {
   "cell_type": "code",
   "execution_count": 79,
   "metadata": {},
   "outputs": [],
   "source": [
    "model_exited = load_model('l1l2_model.h5')\n",
    "\n",
    "scaler_exited = pickle.load(open(\"scaler_exited\", \"rb\"))"
   ]
  },
  {
   "cell_type": "code",
   "execution_count": 80,
   "metadata": {},
   "outputs": [
    {
     "data": {
      "text/html": [
       "<div>\n",
       "<style scoped>\n",
       "    .dataframe tbody tr th:only-of-type {\n",
       "        vertical-align: middle;\n",
       "    }\n",
       "\n",
       "    .dataframe tbody tr th {\n",
       "        vertical-align: top;\n",
       "    }\n",
       "\n",
       "    .dataframe thead th {\n",
       "        text-align: right;\n",
       "    }\n",
       "</style>\n",
       "<table border=\"1\" class=\"dataframe\">\n",
       "  <thead>\n",
       "    <tr style=\"text-align: right;\">\n",
       "      <th></th>\n",
       "      <th>CreditScore</th>\n",
       "      <th>Age</th>\n",
       "      <th>Tenure</th>\n",
       "      <th>Balance</th>\n",
       "      <th>NumOfProducts</th>\n",
       "      <th>HasCrCard</th>\n",
       "      <th>IsActiveMember</th>\n",
       "      <th>Geography_Germany</th>\n",
       "      <th>Geography_Spain</th>\n",
       "      <th>Gender_Male</th>\n",
       "      <th>Exited</th>\n",
       "    </tr>\n",
       "  </thead>\n",
       "  <tbody>\n",
       "    <tr>\n",
       "      <th>0</th>\n",
       "      <td>619</td>\n",
       "      <td>42</td>\n",
       "      <td>2</td>\n",
       "      <td>0.000</td>\n",
       "      <td>1</td>\n",
       "      <td>1</td>\n",
       "      <td>1</td>\n",
       "      <td>0</td>\n",
       "      <td>0</td>\n",
       "      <td>0</td>\n",
       "      <td>1</td>\n",
       "    </tr>\n",
       "    <tr>\n",
       "      <th>1</th>\n",
       "      <td>608</td>\n",
       "      <td>41</td>\n",
       "      <td>1</td>\n",
       "      <td>83807.860</td>\n",
       "      <td>1</td>\n",
       "      <td>0</td>\n",
       "      <td>1</td>\n",
       "      <td>0</td>\n",
       "      <td>1</td>\n",
       "      <td>0</td>\n",
       "      <td>0</td>\n",
       "    </tr>\n",
       "    <tr>\n",
       "      <th>2</th>\n",
       "      <td>502</td>\n",
       "      <td>42</td>\n",
       "      <td>8</td>\n",
       "      <td>159660.800</td>\n",
       "      <td>3</td>\n",
       "      <td>1</td>\n",
       "      <td>0</td>\n",
       "      <td>0</td>\n",
       "      <td>0</td>\n",
       "      <td>0</td>\n",
       "      <td>1</td>\n",
       "    </tr>\n",
       "    <tr>\n",
       "      <th>3</th>\n",
       "      <td>699</td>\n",
       "      <td>39</td>\n",
       "      <td>1</td>\n",
       "      <td>0.000</td>\n",
       "      <td>2</td>\n",
       "      <td>0</td>\n",
       "      <td>0</td>\n",
       "      <td>0</td>\n",
       "      <td>0</td>\n",
       "      <td>0</td>\n",
       "      <td>0</td>\n",
       "    </tr>\n",
       "    <tr>\n",
       "      <th>4</th>\n",
       "      <td>850</td>\n",
       "      <td>43</td>\n",
       "      <td>2</td>\n",
       "      <td>125510.820</td>\n",
       "      <td>1</td>\n",
       "      <td>1</td>\n",
       "      <td>1</td>\n",
       "      <td>0</td>\n",
       "      <td>1</td>\n",
       "      <td>0</td>\n",
       "      <td>0</td>\n",
       "    </tr>\n",
       "    <tr>\n",
       "      <th>...</th>\n",
       "      <td>...</td>\n",
       "      <td>...</td>\n",
       "      <td>...</td>\n",
       "      <td>...</td>\n",
       "      <td>...</td>\n",
       "      <td>...</td>\n",
       "      <td>...</td>\n",
       "      <td>...</td>\n",
       "      <td>...</td>\n",
       "      <td>...</td>\n",
       "      <td>...</td>\n",
       "    </tr>\n",
       "    <tr>\n",
       "      <th>9995</th>\n",
       "      <td>771</td>\n",
       "      <td>39</td>\n",
       "      <td>5</td>\n",
       "      <td>0.000</td>\n",
       "      <td>2</td>\n",
       "      <td>1</td>\n",
       "      <td>0</td>\n",
       "      <td>0</td>\n",
       "      <td>0</td>\n",
       "      <td>1</td>\n",
       "      <td>0</td>\n",
       "    </tr>\n",
       "    <tr>\n",
       "      <th>9996</th>\n",
       "      <td>516</td>\n",
       "      <td>35</td>\n",
       "      <td>10</td>\n",
       "      <td>57369.610</td>\n",
       "      <td>1</td>\n",
       "      <td>1</td>\n",
       "      <td>1</td>\n",
       "      <td>0</td>\n",
       "      <td>0</td>\n",
       "      <td>1</td>\n",
       "      <td>0</td>\n",
       "    </tr>\n",
       "    <tr>\n",
       "      <th>9997</th>\n",
       "      <td>709</td>\n",
       "      <td>36</td>\n",
       "      <td>7</td>\n",
       "      <td>0.000</td>\n",
       "      <td>1</td>\n",
       "      <td>0</td>\n",
       "      <td>1</td>\n",
       "      <td>0</td>\n",
       "      <td>0</td>\n",
       "      <td>0</td>\n",
       "      <td>1</td>\n",
       "    </tr>\n",
       "    <tr>\n",
       "      <th>9998</th>\n",
       "      <td>772</td>\n",
       "      <td>42</td>\n",
       "      <td>3</td>\n",
       "      <td>75075.310</td>\n",
       "      <td>2</td>\n",
       "      <td>1</td>\n",
       "      <td>0</td>\n",
       "      <td>1</td>\n",
       "      <td>0</td>\n",
       "      <td>1</td>\n",
       "      <td>1</td>\n",
       "    </tr>\n",
       "    <tr>\n",
       "      <th>9999</th>\n",
       "      <td>792</td>\n",
       "      <td>28</td>\n",
       "      <td>4</td>\n",
       "      <td>130142.790</td>\n",
       "      <td>1</td>\n",
       "      <td>1</td>\n",
       "      <td>0</td>\n",
       "      <td>0</td>\n",
       "      <td>0</td>\n",
       "      <td>0</td>\n",
       "      <td>0</td>\n",
       "    </tr>\n",
       "  </tbody>\n",
       "</table>\n",
       "<p>10000 rows × 11 columns</p>\n",
       "</div>"
      ],
      "text/plain": [
       "      CreditScore  Age  Tenure    Balance  NumOfProducts  HasCrCard  \\\n",
       "0             619   42       2      0.000              1          1   \n",
       "1             608   41       1  83807.860              1          0   \n",
       "2             502   42       8 159660.800              3          1   \n",
       "3             699   39       1      0.000              2          0   \n",
       "4             850   43       2 125510.820              1          1   \n",
       "...           ...  ...     ...        ...            ...        ...   \n",
       "9995          771   39       5      0.000              2          1   \n",
       "9996          516   35      10  57369.610              1          1   \n",
       "9997          709   36       7      0.000              1          0   \n",
       "9998          772   42       3  75075.310              2          1   \n",
       "9999          792   28       4 130142.790              1          1   \n",
       "\n",
       "      IsActiveMember  Geography_Germany  Geography_Spain  Gender_Male  Exited  \n",
       "0                  1                  0                0            0       1  \n",
       "1                  1                  0                1            0       0  \n",
       "2                  0                  0                0            0       1  \n",
       "3                  0                  0                0            0       0  \n",
       "4                  1                  0                1            0       0  \n",
       "...              ...                ...              ...          ...     ...  \n",
       "9995               0                  0                0            1       0  \n",
       "9996               1                  0                0            1       0  \n",
       "9997               1                  0                0            0       1  \n",
       "9998               0                  1                0            1       1  \n",
       "9999               0                  0                0            0       0  \n",
       "\n",
       "[10000 rows x 11 columns]"
      ]
     },
     "execution_count": 80,
     "metadata": {},
     "output_type": "execute_result"
    }
   ],
   "source": [
    "num_column = df1.shape[1]  # Let's get the number of columns in the DataFrame\n",
    "target_column = 'Exited'   # The name of the column we want to move to the end\n",
    "\n",
    "# Let's get the index of the column\n",
    "target_column_index = df1.columns.get_loc(target_column)\n",
    "\n",
    "# Let's move the column to the end\n",
    "df1 = df1.iloc[:, [i for i in range(num_column) if i != target_column_index] + [target_column_index]]\n",
    "df1"
   ]
  },
  {
   "cell_type": "code",
   "execution_count": 86,
   "metadata": {},
   "outputs": [
    {
     "data": {
      "text/html": [
       "<div>\n",
       "<style scoped>\n",
       "    .dataframe tbody tr th:only-of-type {\n",
       "        vertical-align: middle;\n",
       "    }\n",
       "\n",
       "    .dataframe tbody tr th {\n",
       "        vertical-align: top;\n",
       "    }\n",
       "\n",
       "    .dataframe thead th {\n",
       "        text-align: right;\n",
       "    }\n",
       "</style>\n",
       "<table border=\"1\" class=\"dataframe\">\n",
       "  <thead>\n",
       "    <tr style=\"text-align: right;\">\n",
       "      <th></th>\n",
       "      <th>CreditScore</th>\n",
       "      <th>Age</th>\n",
       "      <th>Tenure</th>\n",
       "      <th>Balance</th>\n",
       "      <th>NumOfProducts</th>\n",
       "      <th>HasCrCard</th>\n",
       "      <th>IsActiveMember</th>\n",
       "      <th>Geography_Germany</th>\n",
       "      <th>Geography_Spain</th>\n",
       "      <th>Gender_Male</th>\n",
       "    </tr>\n",
       "  </thead>\n",
       "  <tbody>\n",
       "    <tr>\n",
       "      <th>6676</th>\n",
       "      <td>619</td>\n",
       "      <td>52</td>\n",
       "      <td>8</td>\n",
       "      <td>0.000</td>\n",
       "      <td>2</td>\n",
       "      <td>1</td>\n",
       "      <td>1</td>\n",
       "      <td>0</td>\n",
       "      <td>1</td>\n",
       "      <td>1</td>\n",
       "    </tr>\n",
       "    <tr>\n",
       "      <th>6421</th>\n",
       "      <td>616</td>\n",
       "      <td>23</td>\n",
       "      <td>8</td>\n",
       "      <td>73112.950</td>\n",
       "      <td>1</td>\n",
       "      <td>1</td>\n",
       "      <td>1</td>\n",
       "      <td>0</td>\n",
       "      <td>0</td>\n",
       "      <td>1</td>\n",
       "    </tr>\n",
       "    <tr>\n",
       "      <th>9834</th>\n",
       "      <td>516</td>\n",
       "      <td>46</td>\n",
       "      <td>6</td>\n",
       "      <td>62212.290</td>\n",
       "      <td>1</td>\n",
       "      <td>0</td>\n",
       "      <td>1</td>\n",
       "      <td>0</td>\n",
       "      <td>0</td>\n",
       "      <td>0</td>\n",
       "    </tr>\n",
       "    <tr>\n",
       "      <th>8492</th>\n",
       "      <td>494</td>\n",
       "      <td>28</td>\n",
       "      <td>9</td>\n",
       "      <td>114731.760</td>\n",
       "      <td>2</td>\n",
       "      <td>0</td>\n",
       "      <td>1</td>\n",
       "      <td>0</td>\n",
       "      <td>0</td>\n",
       "      <td>1</td>\n",
       "    </tr>\n",
       "    <tr>\n",
       "      <th>9982</th>\n",
       "      <td>655</td>\n",
       "      <td>46</td>\n",
       "      <td>7</td>\n",
       "      <td>137145.120</td>\n",
       "      <td>1</td>\n",
       "      <td>1</td>\n",
       "      <td>0</td>\n",
       "      <td>1</td>\n",
       "      <td>0</td>\n",
       "      <td>0</td>\n",
       "    </tr>\n",
       "    <tr>\n",
       "      <th>8844</th>\n",
       "      <td>695</td>\n",
       "      <td>35</td>\n",
       "      <td>7</td>\n",
       "      <td>0.000</td>\n",
       "      <td>2</td>\n",
       "      <td>1</td>\n",
       "      <td>0</td>\n",
       "      <td>0</td>\n",
       "      <td>1</td>\n",
       "      <td>1</td>\n",
       "    </tr>\n",
       "    <tr>\n",
       "      <th>7247</th>\n",
       "      <td>582</td>\n",
       "      <td>40</td>\n",
       "      <td>3</td>\n",
       "      <td>110150.430</td>\n",
       "      <td>1</td>\n",
       "      <td>1</td>\n",
       "      <td>1</td>\n",
       "      <td>1</td>\n",
       "      <td>0</td>\n",
       "      <td>0</td>\n",
       "    </tr>\n",
       "    <tr>\n",
       "      <th>5862</th>\n",
       "      <td>682</td>\n",
       "      <td>40</td>\n",
       "      <td>4</td>\n",
       "      <td>0.000</td>\n",
       "      <td>2</td>\n",
       "      <td>1</td>\n",
       "      <td>1</td>\n",
       "      <td>0</td>\n",
       "      <td>0</td>\n",
       "      <td>1</td>\n",
       "    </tr>\n",
       "    <tr>\n",
       "      <th>3662</th>\n",
       "      <td>632</td>\n",
       "      <td>28</td>\n",
       "      <td>5</td>\n",
       "      <td>118890.810</td>\n",
       "      <td>1</td>\n",
       "      <td>0</td>\n",
       "      <td>1</td>\n",
       "      <td>0</td>\n",
       "      <td>0</td>\n",
       "      <td>0</td>\n",
       "    </tr>\n",
       "  </tbody>\n",
       "</table>\n",
       "</div>"
      ],
      "text/plain": [
       "      CreditScore  Age  Tenure    Balance  NumOfProducts  HasCrCard  \\\n",
       "6676          619   52       8      0.000              2          1   \n",
       "6421          616   23       8  73112.950              1          1   \n",
       "9834          516   46       6  62212.290              1          0   \n",
       "8492          494   28       9 114731.760              2          0   \n",
       "9982          655   46       7 137145.120              1          1   \n",
       "8844          695   35       7      0.000              2          1   \n",
       "7247          582   40       3 110150.430              1          1   \n",
       "5862          682   40       4      0.000              2          1   \n",
       "3662          632   28       5 118890.810              1          0   \n",
       "\n",
       "      IsActiveMember  Geography_Germany  Geography_Spain  Gender_Male  \n",
       "6676               1                  0                1            1  \n",
       "6421               1                  0                0            1  \n",
       "9834               1                  0                0            0  \n",
       "8492               1                  0                0            1  \n",
       "9982               0                  1                0            0  \n",
       "8844               0                  0                1            1  \n",
       "7247               1                  1                0            0  \n",
       "5862               1                  0                0            1  \n",
       "3662               1                  0                0            0  "
      ]
     },
     "execution_count": 86,
     "metadata": {},
     "output_type": "execute_result"
    }
   ],
   "source": [
    "random_customer = df1.sample(n=10, random_state=101).iloc[0:9, :10]\n",
    "\n",
    "random_customer"
   ]
  },
  {
   "cell_type": "code",
   "execution_count": 87,
   "metadata": {},
   "outputs": [
    {
     "data": {
      "text/plain": [
       "array([[0.538     , 0.45945946, 0.8       , 0.        , 0.33333333,\n",
       "        1.        , 1.        , 0.        , 1.        , 1.        ],\n",
       "       [0.532     , 0.06756757, 0.8       , 0.29140497, 0.        ,\n",
       "        1.        , 1.        , 0.        , 0.        , 1.        ],\n",
       "       [0.332     , 0.37837838, 0.6       , 0.2479584 , 0.        ,\n",
       "        0.        , 1.        , 0.        , 0.        , 0.        ],\n",
       "       [0.288     , 0.13513514, 0.9       , 0.45728431, 0.33333333,\n",
       "        0.        , 1.        , 0.        , 0.        , 1.        ],\n",
       "       [0.61      , 0.37837838, 0.7       , 0.54661684, 0.        ,\n",
       "        1.        , 0.        , 1.        , 0.        , 0.        ],\n",
       "       [0.69      , 0.22972973, 0.7       , 0.        , 0.33333333,\n",
       "        1.        , 0.        , 0.        , 1.        , 1.        ],\n",
       "       [0.464     , 0.2972973 , 0.3       , 0.43902459, 0.        ,\n",
       "        1.        , 1.        , 1.        , 0.        , 0.        ],\n",
       "       [0.664     , 0.2972973 , 0.4       , 0.        , 0.33333333,\n",
       "        1.        , 1.        , 0.        , 0.        , 1.        ],\n",
       "       [0.564     , 0.13513514, 0.5       , 0.47386096, 0.        ,\n",
       "        0.        , 1.        , 0.        , 0.        , 0.        ]])"
      ]
     },
     "execution_count": 87,
     "metadata": {},
     "output_type": "execute_result"
    }
   ],
   "source": [
    "random_customer = scaler_exited.transform(random_customer)\n",
    "\n",
    "random_customer"
   ]
  },
  {
   "cell_type": "code",
   "execution_count": 88,
   "metadata": {},
   "outputs": [
    {
     "name": "stdout",
     "output_type": "stream",
     "text": [
      "1/1 [==============================] - 0s 51ms/step\n"
     ]
    },
    {
     "data": {
      "text/html": [
       "<div>\n",
       "<style scoped>\n",
       "    .dataframe tbody tr th:only-of-type {\n",
       "        vertical-align: middle;\n",
       "    }\n",
       "\n",
       "    .dataframe tbody tr th {\n",
       "        vertical-align: top;\n",
       "    }\n",
       "\n",
       "    .dataframe thead th {\n",
       "        text-align: right;\n",
       "    }\n",
       "</style>\n",
       "<table border=\"1\" class=\"dataframe\">\n",
       "  <thead>\n",
       "    <tr style=\"text-align: right;\">\n",
       "      <th></th>\n",
       "      <th>prediction</th>\n",
       "    </tr>\n",
       "  </thead>\n",
       "  <tbody>\n",
       "    <tr>\n",
       "      <th>0</th>\n",
       "      <td>0.000</td>\n",
       "    </tr>\n",
       "    <tr>\n",
       "      <th>1</th>\n",
       "      <td>0.000</td>\n",
       "    </tr>\n",
       "    <tr>\n",
       "      <th>2</th>\n",
       "      <td>0.000</td>\n",
       "    </tr>\n",
       "    <tr>\n",
       "      <th>3</th>\n",
       "      <td>0.000</td>\n",
       "    </tr>\n",
       "    <tr>\n",
       "      <th>4</th>\n",
       "      <td>1.000</td>\n",
       "    </tr>\n",
       "    <tr>\n",
       "      <th>5</th>\n",
       "      <td>0.000</td>\n",
       "    </tr>\n",
       "    <tr>\n",
       "      <th>6</th>\n",
       "      <td>0.000</td>\n",
       "    </tr>\n",
       "    <tr>\n",
       "      <th>7</th>\n",
       "      <td>0.000</td>\n",
       "    </tr>\n",
       "    <tr>\n",
       "      <th>8</th>\n",
       "      <td>0.000</td>\n",
       "    </tr>\n",
       "  </tbody>\n",
       "</table>\n",
       "</div>"
      ],
      "text/plain": [
       "   prediction\n",
       "0       0.000\n",
       "1       0.000\n",
       "2       0.000\n",
       "3       0.000\n",
       "4       1.000\n",
       "5       0.000\n",
       "6       0.000\n",
       "7       0.000\n",
       "8       0.000"
      ]
     },
     "execution_count": 88,
     "metadata": {},
     "output_type": "execute_result"
    }
   ],
   "source": [
    "prediction = pd.DataFrame(model_exited.predict(random_customer) > 0.5, columns=['prediction']).astype(\"float64\")\n",
    "prediction"
   ]
  },
  {
   "cell_type": "code",
   "execution_count": 91,
   "metadata": {},
   "outputs": [
    {
     "data": {
      "text/html": [
       "<div>\n",
       "<style scoped>\n",
       "    .dataframe tbody tr th:only-of-type {\n",
       "        vertical-align: middle;\n",
       "    }\n",
       "\n",
       "    .dataframe tbody tr th {\n",
       "        vertical-align: top;\n",
       "    }\n",
       "\n",
       "    .dataframe thead th {\n",
       "        text-align: right;\n",
       "    }\n",
       "</style>\n",
       "<table border=\"1\" class=\"dataframe\">\n",
       "  <thead>\n",
       "    <tr style=\"text-align: right;\">\n",
       "      <th></th>\n",
       "      <th>actual</th>\n",
       "    </tr>\n",
       "  </thead>\n",
       "  <tbody>\n",
       "    <tr>\n",
       "      <th>6676</th>\n",
       "      <td>0.000</td>\n",
       "    </tr>\n",
       "    <tr>\n",
       "      <th>6421</th>\n",
       "      <td>0.000</td>\n",
       "    </tr>\n",
       "    <tr>\n",
       "      <th>9834</th>\n",
       "      <td>1.000</td>\n",
       "    </tr>\n",
       "    <tr>\n",
       "      <th>8492</th>\n",
       "      <td>0.000</td>\n",
       "    </tr>\n",
       "    <tr>\n",
       "      <th>9982</th>\n",
       "      <td>1.000</td>\n",
       "    </tr>\n",
       "    <tr>\n",
       "      <th>8844</th>\n",
       "      <td>0.000</td>\n",
       "    </tr>\n",
       "    <tr>\n",
       "      <th>7247</th>\n",
       "      <td>1.000</td>\n",
       "    </tr>\n",
       "    <tr>\n",
       "      <th>5862</th>\n",
       "      <td>0.000</td>\n",
       "    </tr>\n",
       "    <tr>\n",
       "      <th>3662</th>\n",
       "      <td>0.000</td>\n",
       "    </tr>\n",
       "  </tbody>\n",
       "</table>\n",
       "</div>"
      ],
      "text/plain": [
       "      actual\n",
       "6676   0.000\n",
       "6421   0.000\n",
       "9834   1.000\n",
       "8492   0.000\n",
       "9982   1.000\n",
       "8844   0.000\n",
       "7247   1.000\n",
       "5862   0.000\n",
       "3662   0.000"
      ]
     },
     "execution_count": 91,
     "metadata": {},
     "output_type": "execute_result"
    }
   ],
   "source": [
    "actual = pd.DataFrame(df.sample(n=9, random_state=101)[\"Exited\"]).rename({'Exited': 'actual'}, axis=1).astype(\"float64\")\n",
    "actual "
   ]
  },
  {
   "cell_type": "code",
   "execution_count": 92,
   "metadata": {},
   "outputs": [
    {
     "data": {
      "text/html": [
       "<div>\n",
       "<style scoped>\n",
       "    .dataframe tbody tr th:only-of-type {\n",
       "        vertical-align: middle;\n",
       "    }\n",
       "\n",
       "    .dataframe tbody tr th {\n",
       "        vertical-align: top;\n",
       "    }\n",
       "\n",
       "    .dataframe thead th {\n",
       "        text-align: right;\n",
       "    }\n",
       "</style>\n",
       "<table border=\"1\" class=\"dataframe\">\n",
       "  <thead>\n",
       "    <tr style=\"text-align: right;\">\n",
       "      <th></th>\n",
       "      <th>actual</th>\n",
       "      <th>prediction</th>\n",
       "    </tr>\n",
       "  </thead>\n",
       "  <tbody>\n",
       "    <tr>\n",
       "      <th>6676</th>\n",
       "      <td>0.000</td>\n",
       "      <td>0.000</td>\n",
       "    </tr>\n",
       "    <tr>\n",
       "      <th>6421</th>\n",
       "      <td>0.000</td>\n",
       "      <td>0.000</td>\n",
       "    </tr>\n",
       "    <tr>\n",
       "      <th>9834</th>\n",
       "      <td>1.000</td>\n",
       "      <td>0.000</td>\n",
       "    </tr>\n",
       "    <tr>\n",
       "      <th>8492</th>\n",
       "      <td>0.000</td>\n",
       "      <td>0.000</td>\n",
       "    </tr>\n",
       "    <tr>\n",
       "      <th>9982</th>\n",
       "      <td>1.000</td>\n",
       "      <td>1.000</td>\n",
       "    </tr>\n",
       "    <tr>\n",
       "      <th>8844</th>\n",
       "      <td>0.000</td>\n",
       "      <td>0.000</td>\n",
       "    </tr>\n",
       "    <tr>\n",
       "      <th>7247</th>\n",
       "      <td>1.000</td>\n",
       "      <td>0.000</td>\n",
       "    </tr>\n",
       "    <tr>\n",
       "      <th>5862</th>\n",
       "      <td>0.000</td>\n",
       "      <td>0.000</td>\n",
       "    </tr>\n",
       "    <tr>\n",
       "      <th>3662</th>\n",
       "      <td>0.000</td>\n",
       "      <td>0.000</td>\n",
       "    </tr>\n",
       "  </tbody>\n",
       "</table>\n",
       "</div>"
      ],
      "text/plain": [
       "      actual  prediction\n",
       "6676   0.000       0.000\n",
       "6421   0.000       0.000\n",
       "9834   1.000       0.000\n",
       "8492   0.000       0.000\n",
       "9982   1.000       1.000\n",
       "8844   0.000       0.000\n",
       "7247   1.000       0.000\n",
       "5862   0.000       0.000\n",
       "3662   0.000       0.000"
      ]
     },
     "execution_count": 92,
     "metadata": {},
     "output_type": "execute_result"
    }
   ],
   "source": [
    "pred_df = actual.join(prediction.set_index(actual.index))\n",
    "\n",
    "pred_df"
   ]
  },
  {
   "cell_type": "code",
   "execution_count": 93,
   "metadata": {
    "tags": []
   },
   "outputs": [
    {
     "data": {
      "text/html": [
       "<div>\n",
       "<style scoped>\n",
       "    .dataframe tbody tr th:only-of-type {\n",
       "        vertical-align: middle;\n",
       "    }\n",
       "\n",
       "    .dataframe tbody tr th {\n",
       "        vertical-align: top;\n",
       "    }\n",
       "\n",
       "    .dataframe thead th {\n",
       "        text-align: right;\n",
       "    }\n",
       "</style>\n",
       "<table border=\"1\" class=\"dataframe\">\n",
       "  <thead>\n",
       "    <tr style=\"text-align: right;\">\n",
       "      <th></th>\n",
       "      <th>actual</th>\n",
       "      <th>prediction</th>\n",
       "      <th>prediction_accuracy</th>\n",
       "    </tr>\n",
       "  </thead>\n",
       "  <tbody>\n",
       "    <tr>\n",
       "      <th>6676</th>\n",
       "      <td>0.000</td>\n",
       "      <td>0.000</td>\n",
       "      <td>TRUE</td>\n",
       "    </tr>\n",
       "    <tr>\n",
       "      <th>6421</th>\n",
       "      <td>0.000</td>\n",
       "      <td>0.000</td>\n",
       "      <td>TRUE</td>\n",
       "    </tr>\n",
       "    <tr>\n",
       "      <th>9834</th>\n",
       "      <td>1.000</td>\n",
       "      <td>0.000</td>\n",
       "      <td>FALSE</td>\n",
       "    </tr>\n",
       "    <tr>\n",
       "      <th>8492</th>\n",
       "      <td>0.000</td>\n",
       "      <td>0.000</td>\n",
       "      <td>TRUE</td>\n",
       "    </tr>\n",
       "    <tr>\n",
       "      <th>9982</th>\n",
       "      <td>1.000</td>\n",
       "      <td>1.000</td>\n",
       "      <td>TRUE</td>\n",
       "    </tr>\n",
       "    <tr>\n",
       "      <th>8844</th>\n",
       "      <td>0.000</td>\n",
       "      <td>0.000</td>\n",
       "      <td>TRUE</td>\n",
       "    </tr>\n",
       "    <tr>\n",
       "      <th>7247</th>\n",
       "      <td>1.000</td>\n",
       "      <td>0.000</td>\n",
       "      <td>FALSE</td>\n",
       "    </tr>\n",
       "    <tr>\n",
       "      <th>5862</th>\n",
       "      <td>0.000</td>\n",
       "      <td>0.000</td>\n",
       "      <td>TRUE</td>\n",
       "    </tr>\n",
       "    <tr>\n",
       "      <th>3662</th>\n",
       "      <td>0.000</td>\n",
       "      <td>0.000</td>\n",
       "      <td>TRUE</td>\n",
       "    </tr>\n",
       "  </tbody>\n",
       "</table>\n",
       "</div>"
      ],
      "text/plain": [
       "      actual  prediction prediction_accuracy\n",
       "6676   0.000       0.000                TRUE\n",
       "6421   0.000       0.000                TRUE\n",
       "9834   1.000       0.000               FALSE\n",
       "8492   0.000       0.000                TRUE\n",
       "9982   1.000       1.000                TRUE\n",
       "8844   0.000       0.000                TRUE\n",
       "7247   1.000       0.000               FALSE\n",
       "5862   0.000       0.000                TRUE\n",
       "3662   0.000       0.000                TRUE"
      ]
     },
     "execution_count": 93,
     "metadata": {},
     "output_type": "execute_result"
    }
   ],
   "source": [
    "pred_df['prediction_accuracy'] = pred_df.apply(lambda x: \"TRUE\" if int(x['actual'] == x['prediction']) else \"FALSE\", axis=1)\n",
    "\n",
    "pred_df"
   ]
  },
  {
   "cell_type": "markdown",
   "metadata": {},
   "source": [
    "## Prediction with \"model_exited.h5\""
   ]
  },
  {
   "cell_type": "code",
   "execution_count": 94,
   "metadata": {},
   "outputs": [],
   "source": [
    "model_exited = load_model('model_exited.h5')\n",
    "\n",
    "scaler_exited = pickle.load(open(\"scaler_exited\", \"rb\"))"
   ]
  },
  {
   "cell_type": "code",
   "execution_count": 95,
   "metadata": {},
   "outputs": [
    {
     "data": {
      "text/html": [
       "<div>\n",
       "<style scoped>\n",
       "    .dataframe tbody tr th:only-of-type {\n",
       "        vertical-align: middle;\n",
       "    }\n",
       "\n",
       "    .dataframe tbody tr th {\n",
       "        vertical-align: top;\n",
       "    }\n",
       "\n",
       "    .dataframe thead th {\n",
       "        text-align: right;\n",
       "    }\n",
       "</style>\n",
       "<table border=\"1\" class=\"dataframe\">\n",
       "  <thead>\n",
       "    <tr style=\"text-align: right;\">\n",
       "      <th></th>\n",
       "      <th>CreditScore</th>\n",
       "      <th>Age</th>\n",
       "      <th>Tenure</th>\n",
       "      <th>Balance</th>\n",
       "      <th>NumOfProducts</th>\n",
       "      <th>HasCrCard</th>\n",
       "      <th>IsActiveMember</th>\n",
       "      <th>Geography_Germany</th>\n",
       "      <th>Geography_Spain</th>\n",
       "      <th>Gender_Male</th>\n",
       "    </tr>\n",
       "  </thead>\n",
       "  <tbody>\n",
       "    <tr>\n",
       "      <th>0</th>\n",
       "      <td>619</td>\n",
       "      <td>42</td>\n",
       "      <td>2</td>\n",
       "      <td>0.000</td>\n",
       "      <td>1</td>\n",
       "      <td>1</td>\n",
       "      <td>1</td>\n",
       "      <td>0</td>\n",
       "      <td>0</td>\n",
       "      <td>0</td>\n",
       "    </tr>\n",
       "  </tbody>\n",
       "</table>\n",
       "</div>"
      ],
      "text/plain": [
       "   CreditScore  Age  Tenure  Balance  NumOfProducts  HasCrCard  \\\n",
       "0          619   42       2    0.000              1          1   \n",
       "\n",
       "   IsActiveMember  Geography_Germany  Geography_Spain  Gender_Male  \n",
       "0               1                  0                0            0  "
      ]
     },
     "execution_count": 95,
     "metadata": {},
     "output_type": "execute_result"
    }
   ],
   "source": [
    "sample_cust = df1.drop('Exited', axis = 1).iloc[0:1, :]\n",
    "sample_cust"
   ]
  },
  {
   "cell_type": "code",
   "execution_count": 96,
   "metadata": {},
   "outputs": [
    {
     "data": {
      "text/plain": [
       "array([[0.538     , 0.32432432, 0.2       , 0.        , 0.        ,\n",
       "        1.        , 1.        , 0.        , 0.        , 0.        ]])"
      ]
     },
     "execution_count": 96,
     "metadata": {},
     "output_type": "execute_result"
    }
   ],
   "source": [
    "sample_cust = scaler_exited.transform(sample_cust)\n",
    "sample_cust"
   ]
  },
  {
   "cell_type": "code",
   "execution_count": 97,
   "metadata": {
    "tags": []
   },
   "outputs": [
    {
     "name": "stdout",
     "output_type": "stream",
     "text": [
      "1/1 [==============================] - 0s 51ms/step\n"
     ]
    },
    {
     "data": {
      "text/plain": [
       "array([[0]], dtype=int32)"
      ]
     },
     "execution_count": 97,
     "metadata": {},
     "output_type": "execute_result"
    }
   ],
   "source": [
    "(model_exited.predict(sample_cust) > 0.5).astype(\"int32\")"
   ]
  },
  {
   "cell_type": "code",
   "execution_count": 98,
   "metadata": {},
   "outputs": [
    {
     "data": {
      "text/plain": [
       "1"
      ]
     },
     "execution_count": 98,
     "metadata": {},
     "output_type": "execute_result"
    }
   ],
   "source": [
    "df[\"Exited\"].iloc[0]"
   ]
  },
  {
   "cell_type": "markdown",
   "metadata": {},
   "source": [
    "___\n",
    "\n",
    "<p style=\"text-align: center;\"><img src=\"https://docs.google.com/uc?id=1lY0Uj5R04yMY3-ZppPWxqCr5pvBLYPnV\" class=\"img-fluid\" alt=\"CLRSWY\"></p>\n",
    "\n",
    "___"
   ]
  }
 ],
 "metadata": {
  "colab": {
   "authorship_tag": "ABX9TyPKBWWuNpSuP7DHsa+Zpo3l",
   "collapsed_sections": [],
   "name": "Untitled0.ipynb",
   "provenance": []
  },
  "kernelspec": {
   "display_name": "Python 3 (ipykernel)",
   "language": "python",
   "name": "python3"
  },
  "language_info": {
   "codemirror_mode": {
    "name": "ipython",
    "version": 3
   },
   "file_extension": ".py",
   "mimetype": "text/x-python",
   "name": "python",
   "nbconvert_exporter": "python",
   "pygments_lexer": "ipython3",
   "version": "3.9.12"
  },
  "toc": {
   "base_numbering": 1,
   "nav_menu": {},
   "number_sections": false,
   "sideBar": true,
   "skip_h1_title": false,
   "title_cell": "Table of Contents",
   "title_sidebar": "Contents",
   "toc_cell": false,
   "toc_position": {},
   "toc_section_display": true,
   "toc_window_display": true
  }
 },
 "nbformat": 4,
 "nbformat_minor": 4
}
